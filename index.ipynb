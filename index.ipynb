{
 "cells": [
  {
   "cell_type": "markdown",
   "id": "f8746832",
   "metadata": {
    "id": "f8746832"
   },
   "source": [
    "<center><img src=\"https://i.imgur.com/zRrFdsf.png\" width=\"700\"></center>\n",
    "\n"
   ]
  },
  {
   "cell_type": "markdown",
   "id": "af76d2a2",
   "metadata": {
    "id": "af76d2a2"
   },
   "source": [
    "<a target=\"_blank\" href=\"https://colab.research.google.com/github/CienciaDeDatosEspacial/Operations-onGeoDF/blob/main/index.ipynb\">\n",
    "  <img src=\"https://colab.research.google.com/assets/colab-badge.svg\" alt=\"Open In Colab\"/>\n",
    "</a>\n",
    "\n",
    "# Basic Spatial operations on  Geo Dataframes\n",
    "\n",
    "We will review some important operations for GeoDataframes (GDF). This is a basic set of tools for a social scientist, but which depend a lot on the quality of the maps you have.\n",
    "\n",
    "A spatial operation is a way of doing arithmetics with geometries! Our inputs being the maps (polygons, lines, or points) will be summed, differentiated, filtered, dissected, and so on. \n",
    "\n",
    "Keep in mind that as basic operations, they will be used later for practical applications in the coming weeks. "
   ]
  },
  {
   "cell_type": "markdown",
   "id": "2677ec11-108e-441c-8231-c994d5dcf6a4",
   "metadata": {},
   "source": [
    "## Getting ready"
   ]
  },
  {
   "cell_type": "markdown",
   "id": "244a5266",
   "metadata": {
    "id": "244a5266"
   },
   "source": [
    "The links to the our maps on GitHub are here:"
   ]
  },
  {
   "cell_type": "code",
   "execution_count": 1,
   "id": "f5bcb405-dfc6-4b14-8499-d9e42805336d",
   "metadata": {
    "colab": {
     "base_uri": "https://localhost:8080/",
     "height": 143
    },
    "id": "f5bcb405-dfc6-4b14-8499-d9e42805336d",
    "outputId": "5a969405-6147-4637-e40f-519a2e199062"
   },
   "outputs": [],
   "source": [
    "linkWorldMap=\"https://github.com/CienciaDeDatosEspacial/dataSets/raw/refs/heads/main/WORLD/worldMaps.gpkg\"\n",
    "LinkBrazil=\"https://github.com/CienciaDeDatosEspacial/dataSets/raw/refs/heads/main/BRAZIL/brazil_5880.gpkg\"\n",
    "linkIndicators=\"https://github.com/CienciaDeDatosEspacial/dataSets/raw/refs/heads/main/WORLD/worldindicators.json\"\n"
   ]
  },
  {
   "cell_type": "markdown",
   "id": "e8fb7cf4-1379-49f0-916d-0b3bf5be0c39",
   "metadata": {},
   "source": [
    "Let's get some maps:"
   ]
  },
  {
   "cell_type": "code",
   "execution_count": 2,
   "id": "650f1ceb-2e67-487b-92ae-0735c12e9b4c",
   "metadata": {},
   "outputs": [],
   "source": [
    "import geopandas as gpd\n",
    "\n",
    "#world \n",
    "world_rivers=gpd.read_file(linkWorldMap,layer='rivers')\n",
    "#brazil \n",
    "brazil5880=gpd.read_file(LinkBrazil,layer='country')\n",
    "airports_brazil5880=gpd.read_file(LinkBrazil,layer='airports')\n",
    "states_brazil5880=gpd.read_file(LinkBrazil,layer='states')\n",
    "municipalities_brazil5880=gpd.read_file(LinkBrazil,layer='municipalities')\n",
    "#some indicators\n",
    "indicators=gpd.read_file(linkIndicators)"
   ]
  },
  {
   "cell_type": "markdown",
   "id": "c2fc940f",
   "metadata": {
    "id": "c2fc940f"
   },
   "source": [
    "\n",
    "\n",
    "Now, let's see some important spatial operations!\n"
   ]
  },
  {
   "cell_type": "markdown",
   "id": "cbba7a88-a1b1-41d1-8aff-a1f912f964a9",
   "metadata": {
    "id": "cbba7a88-a1b1-41d1-8aff-a1f912f964a9"
   },
   "source": [
    "# Filtering\n",
    "\n",
    "We do this to keep some rows based on some condition."
   ]
  },
  {
   "cell_type": "markdown",
   "id": "0e164d8e-b172-4cb9-9a86-98a3d6a8061d",
   "metadata": {},
   "source": [
    "## Slicing with **iloc** and **loc**\n",
    "\n",
    "The condition here depends on knowing index/column positions, or index/column labels."
   ]
  },
  {
   "cell_type": "code",
   "execution_count": 3,
   "id": "4ed1361d-8624-41eb-868c-0010ed9c9475",
   "metadata": {
    "colab": {
     "base_uri": "https://localhost:8080/",
     "height": 206
    },
    "id": "4ed1361d-8624-41eb-868c-0010ed9c9475",
    "outputId": "ba7ec566-90b2-496b-95a0-184e291f1c5f"
   },
   "outputs": [
    {
     "data": {
      "text/html": [
       "<div>\n",
       "<style scoped>\n",
       "    .dataframe tbody tr th:only-of-type {\n",
       "        vertical-align: middle;\n",
       "    }\n",
       "\n",
       "    .dataframe tbody tr th {\n",
       "        vertical-align: top;\n",
       "    }\n",
       "\n",
       "    .dataframe thead th {\n",
       "        text-align: right;\n",
       "    }\n",
       "</style>\n",
       "<table border=\"1\" class=\"dataframe\">\n",
       "  <thead>\n",
       "    <tr style=\"text-align: right;\">\n",
       "      <th></th>\n",
       "      <th>state_name</th>\n",
       "      <th>state_code</th>\n",
       "      <th>geometry</th>\n",
       "    </tr>\n",
       "  </thead>\n",
       "  <tbody>\n",
       "    <tr>\n",
       "      <th>0</th>\n",
       "      <td>Acre</td>\n",
       "      <td>BR12</td>\n",
       "      <td>MULTIPOLYGON (((3374854.317 8740996.704, 33745...</td>\n",
       "    </tr>\n",
       "    <tr>\n",
       "      <th>1</th>\n",
       "      <td>Alagoas</td>\n",
       "      <td>BR27</td>\n",
       "      <td>MULTIPOLYGON (((7038407.237 8973545.06, 703823...</td>\n",
       "    </tr>\n",
       "    <tr>\n",
       "      <th>2</th>\n",
       "      <td>Amapá</td>\n",
       "      <td>BR16</td>\n",
       "      <td>MULTIPOLYGON (((5393641.625 10233907.833, 5394...</td>\n",
       "    </tr>\n",
       "    <tr>\n",
       "      <th>3</th>\n",
       "      <td>Amazonas</td>\n",
       "      <td>BR13</td>\n",
       "      <td>MULTIPOLYGON (((4499820.936 9906611.648, 45003...</td>\n",
       "    </tr>\n",
       "    <tr>\n",
       "      <th>4</th>\n",
       "      <td>Bahia</td>\n",
       "      <td>BR29</td>\n",
       "      <td>MULTIPOLYGON (((6618113.779 7946308.264, 66178...</td>\n",
       "    </tr>\n",
       "  </tbody>\n",
       "</table>\n",
       "</div>"
      ],
      "text/plain": [
       "  state_name state_code                                           geometry\n",
       "0       Acre       BR12  MULTIPOLYGON (((3374854.317 8740996.704, 33745...\n",
       "1    Alagoas       BR27  MULTIPOLYGON (((7038407.237 8973545.06, 703823...\n",
       "2      Amapá       BR16  MULTIPOLYGON (((5393641.625 10233907.833, 5394...\n",
       "3   Amazonas       BR13  MULTIPOLYGON (((4499820.936 9906611.648, 45003...\n",
       "4      Bahia       BR29  MULTIPOLYGON (((6618113.779 7946308.264, 66178..."
      ]
     },
     "execution_count": 3,
     "metadata": {},
     "output_type": "execute_result"
    }
   ],
   "source": [
    "#if we have\n",
    "states_brazil5880.head()"
   ]
  },
  {
   "cell_type": "code",
   "execution_count": 4,
   "id": "a41ade83-f334-4d7a-ae1d-61b66e6b5b92",
   "metadata": {
    "colab": {
     "base_uri": "https://localhost:8080/",
     "height": 424
    },
    "id": "a41ade83-f334-4d7a-ae1d-61b66e6b5b92",
    "outputId": "0eb1d914-233c-4493-99ef-fd20922c7868"
   },
   "outputs": [
    {
     "data": {
      "text/html": [
       "<div>\n",
       "<style scoped>\n",
       "    .dataframe tbody tr th:only-of-type {\n",
       "        vertical-align: middle;\n",
       "    }\n",
       "\n",
       "    .dataframe tbody tr th {\n",
       "        vertical-align: top;\n",
       "    }\n",
       "\n",
       "    .dataframe thead th {\n",
       "        text-align: right;\n",
       "    }\n",
       "</style>\n",
       "<table border=\"1\" class=\"dataframe\">\n",
       "  <thead>\n",
       "    <tr style=\"text-align: right;\">\n",
       "      <th></th>\n",
       "      <th>state_code</th>\n",
       "      <th>geometry</th>\n",
       "    </tr>\n",
       "  </thead>\n",
       "  <tbody>\n",
       "    <tr>\n",
       "      <th>0</th>\n",
       "      <td>BR12</td>\n",
       "      <td>MULTIPOLYGON (((3374854.317 8740996.704, 33745...</td>\n",
       "    </tr>\n",
       "    <tr>\n",
       "      <th>1</th>\n",
       "      <td>BR27</td>\n",
       "      <td>MULTIPOLYGON (((7038407.237 8973545.06, 703823...</td>\n",
       "    </tr>\n",
       "    <tr>\n",
       "      <th>2</th>\n",
       "      <td>BR16</td>\n",
       "      <td>MULTIPOLYGON (((5393641.625 10233907.833, 5394...</td>\n",
       "    </tr>\n",
       "    <tr>\n",
       "      <th>3</th>\n",
       "      <td>BR13</td>\n",
       "      <td>MULTIPOLYGON (((4499820.936 9906611.648, 45003...</td>\n",
       "    </tr>\n",
       "    <tr>\n",
       "      <th>4</th>\n",
       "      <td>BR29</td>\n",
       "      <td>MULTIPOLYGON (((6618113.779 7946308.264, 66178...</td>\n",
       "    </tr>\n",
       "    <tr>\n",
       "      <th>5</th>\n",
       "      <td>BR23</td>\n",
       "      <td>MULTIPOLYGON (((6566662.514 9672539.24, 656620...</td>\n",
       "    </tr>\n",
       "    <tr>\n",
       "      <th>6</th>\n",
       "      <td>BR53</td>\n",
       "      <td>MULTIPOLYGON (((5709200.339 8232316.484, 57090...</td>\n",
       "    </tr>\n",
       "    <tr>\n",
       "      <th>7</th>\n",
       "      <td>BR32</td>\n",
       "      <td>MULTIPOLYGON (((7566463.228 7535792.386, 75661...</td>\n",
       "    </tr>\n",
       "    <tr>\n",
       "      <th>8</th>\n",
       "      <td>BR52</td>\n",
       "      <td>MULTIPOLYGON (((5714835.191 8093308.232, 57153...</td>\n",
       "    </tr>\n",
       "    <tr>\n",
       "      <th>9</th>\n",
       "      <td>BR21</td>\n",
       "      <td>MULTIPOLYGON (((5766252.527 8999101.029, 57658...</td>\n",
       "    </tr>\n",
       "  </tbody>\n",
       "</table>\n",
       "</div>"
      ],
      "text/plain": [
       "  state_code                                           geometry\n",
       "0       BR12  MULTIPOLYGON (((3374854.317 8740996.704, 33745...\n",
       "1       BR27  MULTIPOLYGON (((7038407.237 8973545.06, 703823...\n",
       "2       BR16  MULTIPOLYGON (((5393641.625 10233907.833, 5394...\n",
       "3       BR13  MULTIPOLYGON (((4499820.936 9906611.648, 45003...\n",
       "4       BR29  MULTIPOLYGON (((6618113.779 7946308.264, 66178...\n",
       "5       BR23  MULTIPOLYGON (((6566662.514 9672539.24, 656620...\n",
       "6       BR53  MULTIPOLYGON (((5709200.339 8232316.484, 57090...\n",
       "7       BR32  MULTIPOLYGON (((7566463.228 7535792.386, 75661...\n",
       "8       BR52  MULTIPOLYGON (((5714835.191 8093308.232, 57153...\n",
       "9       BR21  MULTIPOLYGON (((5766252.527 8999101.029, 57658..."
      ]
     },
     "execution_count": 4,
     "metadata": {},
     "output_type": "execute_result"
    }
   ],
   "source": [
    "# iloc for positions (same as in pandas DF)\n",
    "\n",
    "states_brazil5880.iloc[:10,1:]"
   ]
  },
  {
   "cell_type": "code",
   "execution_count": 5,
   "id": "17e5a1bf-ee01-41b0-81f4-bfbc4657857c",
   "metadata": {
    "colab": {
     "base_uri": "https://localhost:8080/",
     "height": 458
    },
    "id": "17e5a1bf-ee01-41b0-81f4-bfbc4657857c",
    "outputId": "3bde2eef-f346-474c-f5b6-887deddefa22"
   },
   "outputs": [
    {
     "data": {
      "text/html": [
       "<div>\n",
       "<style scoped>\n",
       "    .dataframe tbody tr th:only-of-type {\n",
       "        vertical-align: middle;\n",
       "    }\n",
       "\n",
       "    .dataframe tbody tr th {\n",
       "        vertical-align: top;\n",
       "    }\n",
       "\n",
       "    .dataframe thead th {\n",
       "        text-align: right;\n",
       "    }\n",
       "</style>\n",
       "<table border=\"1\" class=\"dataframe\">\n",
       "  <thead>\n",
       "    <tr style=\"text-align: right;\">\n",
       "      <th></th>\n",
       "      <th>state_code</th>\n",
       "      <th>geometry</th>\n",
       "    </tr>\n",
       "  </thead>\n",
       "  <tbody>\n",
       "    <tr>\n",
       "      <th>0</th>\n",
       "      <td>BR12</td>\n",
       "      <td>MULTIPOLYGON (((3374854.317 8740996.704, 33745...</td>\n",
       "    </tr>\n",
       "    <tr>\n",
       "      <th>1</th>\n",
       "      <td>BR27</td>\n",
       "      <td>MULTIPOLYGON (((7038407.237 8973545.06, 703823...</td>\n",
       "    </tr>\n",
       "    <tr>\n",
       "      <th>2</th>\n",
       "      <td>BR16</td>\n",
       "      <td>MULTIPOLYGON (((5393641.625 10233907.833, 5394...</td>\n",
       "    </tr>\n",
       "    <tr>\n",
       "      <th>3</th>\n",
       "      <td>BR13</td>\n",
       "      <td>MULTIPOLYGON (((4499820.936 9906611.648, 45003...</td>\n",
       "    </tr>\n",
       "    <tr>\n",
       "      <th>4</th>\n",
       "      <td>BR29</td>\n",
       "      <td>MULTIPOLYGON (((6618113.779 7946308.264, 66178...</td>\n",
       "    </tr>\n",
       "    <tr>\n",
       "      <th>5</th>\n",
       "      <td>BR23</td>\n",
       "      <td>MULTIPOLYGON (((6566662.514 9672539.24, 656620...</td>\n",
       "    </tr>\n",
       "    <tr>\n",
       "      <th>6</th>\n",
       "      <td>BR53</td>\n",
       "      <td>MULTIPOLYGON (((5709200.339 8232316.484, 57090...</td>\n",
       "    </tr>\n",
       "    <tr>\n",
       "      <th>7</th>\n",
       "      <td>BR32</td>\n",
       "      <td>MULTIPOLYGON (((7566463.228 7535792.386, 75661...</td>\n",
       "    </tr>\n",
       "    <tr>\n",
       "      <th>8</th>\n",
       "      <td>BR52</td>\n",
       "      <td>MULTIPOLYGON (((5714835.191 8093308.232, 57153...</td>\n",
       "    </tr>\n",
       "  </tbody>\n",
       "</table>\n",
       "</div>"
      ],
      "text/plain": [
       "  state_code                                           geometry\n",
       "0       BR12  MULTIPOLYGON (((3374854.317 8740996.704, 33745...\n",
       "1       BR27  MULTIPOLYGON (((7038407.237 8973545.06, 703823...\n",
       "2       BR16  MULTIPOLYGON (((5393641.625 10233907.833, 5394...\n",
       "3       BR13  MULTIPOLYGON (((4499820.936 9906611.648, 45003...\n",
       "4       BR29  MULTIPOLYGON (((6618113.779 7946308.264, 66178...\n",
       "5       BR23  MULTIPOLYGON (((6566662.514 9672539.24, 656620...\n",
       "6       BR53  MULTIPOLYGON (((5709200.339 8232316.484, 57090...\n",
       "7       BR32  MULTIPOLYGON (((7566463.228 7535792.386, 75661...\n",
       "8       BR52  MULTIPOLYGON (((5714835.191 8093308.232, 57153..."
      ]
     },
     "execution_count": 5,
     "metadata": {},
     "output_type": "execute_result"
    }
   ],
   "source": [
    "# loc for lables (same as in pandas DF)\n",
    "states_brazil5880.loc[:8,'state_code':]"
   ]
  },
  {
   "cell_type": "markdown",
   "id": "48866962-4282-4892-ab9c-7b19163fcdb1",
   "metadata": {},
   "source": [
    "Keep in mind that if you do not include the geometry column, you will get a DataFrame (DF) back, not a GeoDF."
   ]
  },
  {
   "cell_type": "code",
   "execution_count": 10,
   "id": "e9f5c3ee-b4e5-46fc-991b-110851e8f405",
   "metadata": {},
   "outputs": [
    {
     "data": {
      "text/plain": [
       "geopandas.geodataframe.GeoDataFrame"
      ]
     },
     "execution_count": 10,
     "metadata": {},
     "output_type": "execute_result"
    }
   ],
   "source": [
    "# GDF\n",
    "type(states_brazil5880.loc[:8,'state_code':])"
   ]
  },
  {
   "cell_type": "code",
   "execution_count": 7,
   "id": "dc32f8d4-32d5-4488-a10b-5f2d0a6053ee",
   "metadata": {},
   "outputs": [
    {
     "data": {
      "text/plain": [
       "pandas.core.frame.DataFrame"
      ]
     },
     "execution_count": 7,
     "metadata": {},
     "output_type": "execute_result"
    }
   ],
   "source": [
    "# df\n",
    "type(states_brazil5880.loc[:8,:'state_code'])"
   ]
  },
  {
   "cell_type": "markdown",
   "id": "18068e53-6f3d-4330-97e9-104c84a0c726",
   "metadata": {},
   "source": [
    "Also remember this detail:"
   ]
  },
  {
   "cell_type": "code",
   "execution_count": 8,
   "id": "59496dbb-e976-4945-a4dc-6f2e022e4b27",
   "metadata": {},
   "outputs": [
    {
     "data": {
      "text/plain": [
       "pandas.core.series.Series"
      ]
     },
     "execution_count": 8,
     "metadata": {},
     "output_type": "execute_result"
    }
   ],
   "source": [
    "# you lost the spatial structure when keeping ONE row!\n",
    "type(states_brazil5880.loc[8,:])"
   ]
  },
  {
   "cell_type": "code",
   "execution_count": 9,
   "id": "d8794fb9-1ccc-46ca-8db2-e54817b880d9",
   "metadata": {},
   "outputs": [
    {
     "data": {
      "text/plain": [
       "geopandas.geodataframe.GeoDataFrame"
      ]
     },
     "execution_count": 9,
     "metadata": {},
     "output_type": "execute_result"
    }
   ],
   "source": [
    "# you keep the spatial structure if the row index is a list\n",
    "type(states_brazil5880.loc[[8],:])"
   ]
  },
  {
   "cell_type": "markdown",
   "id": "d52fc8e4-0bf5-4602-99b5-023ec6dc0ab0",
   "metadata": {},
   "source": [
    "### More Pandas Filtering for GeoPandas"
   ]
  },
  {
   "cell_type": "code",
   "execution_count": 75,
   "id": "9d52d24f-3ab2-455a-8556-6bd9c89a3508",
   "metadata": {},
   "outputs": [
    {
     "data": {
      "text/html": [
       "<div>\n",
       "<style scoped>\n",
       "    .dataframe tbody tr th:only-of-type {\n",
       "        vertical-align: middle;\n",
       "    }\n",
       "\n",
       "    .dataframe tbody tr th {\n",
       "        vertical-align: top;\n",
       "    }\n",
       "\n",
       "    .dataframe thead th {\n",
       "        text-align: right;\n",
       "    }\n",
       "</style>\n",
       "<table border=\"1\" class=\"dataframe\">\n",
       "  <thead>\n",
       "    <tr style=\"text-align: right;\">\n",
       "      <th></th>\n",
       "      <th>airport_name</th>\n",
       "      <th>airport_type</th>\n",
       "      <th>elevation_ft</th>\n",
       "      <th>region</th>\n",
       "      <th>municipality</th>\n",
       "      <th>geometry</th>\n",
       "    </tr>\n",
       "  </thead>\n",
       "  <tbody>\n",
       "    <tr>\n",
       "      <th>121</th>\n",
       "      <td>Monte Verde Airport</td>\n",
       "      <td>small_airport</td>\n",
       "      <td>5102.0</td>\n",
       "      <td>Minas Gerais</td>\n",
       "      <td>Camanducaia</td>\n",
       "      <td>POINT (5816780.061 7448943.996)</td>\n",
       "    </tr>\n",
       "    <tr>\n",
       "      <th>3472</th>\n",
       "      <td>Fazenda Bahia Airport</td>\n",
       "      <td>small_airport</td>\n",
       "      <td>6234.0</td>\n",
       "      <td>Mato Grosso</td>\n",
       "      <td>Pedra Preta</td>\n",
       "      <td>POINT (4992445.219 8127757.58)</td>\n",
       "    </tr>\n",
       "  </tbody>\n",
       "</table>\n",
       "</div>"
      ],
      "text/plain": [
       "               airport_name   airport_type  elevation_ft        region  \\\n",
       "121     Monte Verde Airport  small_airport        5102.0  Minas Gerais   \n",
       "3472  Fazenda Bahia Airport  small_airport        6234.0   Mato Grosso   \n",
       "\n",
       "     municipality                         geometry  \n",
       "121   Camanducaia  POINT (5816780.061 7448943.996)  \n",
       "3472  Pedra Preta   POINT (4992445.219 8127757.58)  "
      ]
     },
     "execution_count": 75,
     "metadata": {},
     "output_type": "execute_result"
    }
   ],
   "source": [
    "# complex conditions with query\n",
    "airports_brazil5880.query('elevation_ft > 5000 and airport_type==\"small_airport\"')"
   ]
  },
  {
   "cell_type": "code",
   "execution_count": 73,
   "id": "ad094287-1307-4cb9-afa2-6afcd579133c",
   "metadata": {},
   "outputs": [
    {
     "data": {
      "text/html": [
       "<div>\n",
       "<style scoped>\n",
       "    .dataframe tbody tr th:only-of-type {\n",
       "        vertical-align: middle;\n",
       "    }\n",
       "\n",
       "    .dataframe tbody tr th {\n",
       "        vertical-align: top;\n",
       "    }\n",
       "\n",
       "    .dataframe thead th {\n",
       "        text-align: right;\n",
       "    }\n",
       "</style>\n",
       "<table border=\"1\" class=\"dataframe\">\n",
       "  <thead>\n",
       "    <tr style=\"text-align: right;\">\n",
       "      <th></th>\n",
       "      <th>airport_name</th>\n",
       "      <th>airport_type</th>\n",
       "      <th>elevation_ft</th>\n",
       "      <th>region</th>\n",
       "      <th>municipality</th>\n",
       "      <th>geometry</th>\n",
       "    </tr>\n",
       "  </thead>\n",
       "  <tbody>\n",
       "    <tr>\n",
       "      <th>0</th>\n",
       "      <td>Guarulhos - Governador André Franco Montoro In...</td>\n",
       "      <td>large_airport</td>\n",
       "      <td>2461.0</td>\n",
       "      <td>São Paulo</td>\n",
       "      <td>São Paulo</td>\n",
       "      <td>POINT (5769392.959 7387510.487)</td>\n",
       "    </tr>\n",
       "    <tr>\n",
       "      <th>1</th>\n",
       "      <td>Rio Galeão – Tom Jobim International Airport</td>\n",
       "      <td>large_airport</td>\n",
       "      <td>28.0</td>\n",
       "      <td>Rio de Janeiro</td>\n",
       "      <td>Rio De Janeiro</td>\n",
       "      <td>POINT (6102623.812 7436387.271)</td>\n",
       "    </tr>\n",
       "    <tr>\n",
       "      <th>4</th>\n",
       "      <td>Presidente Juscelino Kubitschek International ...</td>\n",
       "      <td>large_airport</td>\n",
       "      <td>3497.0</td>\n",
       "      <td>Distrito Federal</td>\n",
       "      <td>Brasília</td>\n",
       "      <td>POINT (5651010.181 8235390.09)</td>\n",
       "    </tr>\n",
       "    <tr>\n",
       "      <th>5</th>\n",
       "      <td>Deputado Luiz Eduardo Magalhães International ...</td>\n",
       "      <td>large_airport</td>\n",
       "      <td>64.0</td>\n",
       "      <td>Bahia</td>\n",
       "      <td>Salvador</td>\n",
       "      <td>POINT (6700330.807 8520415.591)</td>\n",
       "    </tr>\n",
       "    <tr>\n",
       "      <th>9</th>\n",
       "      <td>Tancredo Neves International Airport</td>\n",
       "      <td>large_airport</td>\n",
       "      <td>2721.0</td>\n",
       "      <td>Minas Gerais</td>\n",
       "      <td>Belo Horizonte</td>\n",
       "      <td>POINT (6051718.72 7797008.905)</td>\n",
       "    </tr>\n",
       "    <tr>\n",
       "      <th>12</th>\n",
       "      <td>Eduardo Gomes International Airport</td>\n",
       "      <td>large_airport</td>\n",
       "      <td>264.0</td>\n",
       "      <td>Amazonas</td>\n",
       "      <td>Manaus</td>\n",
       "      <td>POINT (4327494.283 9662122.706)</td>\n",
       "    </tr>\n",
       "    <tr>\n",
       "      <th>14</th>\n",
       "      <td>Hercílio Luz International Airport</td>\n",
       "      <td>large_airport</td>\n",
       "      <td>16.0</td>\n",
       "      <td>Santa Catarina</td>\n",
       "      <td>Florianópolis</td>\n",
       "      <td>POINT (5537273.577 6926234.097)</td>\n",
       "    </tr>\n",
       "    <tr>\n",
       "      <th>16</th>\n",
       "      <td>Val de Cans/Júlio Cezar Ribeiro International ...</td>\n",
       "      <td>large_airport</td>\n",
       "      <td>54.0</td>\n",
       "      <td>Pará</td>\n",
       "      <td>Belém</td>\n",
       "      <td>POINT (5614728.302 9846773.655)</td>\n",
       "    </tr>\n",
       "    <tr>\n",
       "      <th>6160</th>\n",
       "      <td>Fazenda Catuaí</td>\n",
       "      <td>seaplane_base</td>\n",
       "      <td>961.0</td>\n",
       "      <td>Mato Grosso</td>\n",
       "      <td>Juara</td>\n",
       "      <td>POINT (4606200.759 8729293.657)</td>\n",
       "    </tr>\n",
       "    <tr>\n",
       "      <th>6626</th>\n",
       "      <td>M Executive Taubaté Heliport</td>\n",
       "      <td>seaplane_base</td>\n",
       "      <td>1909.0</td>\n",
       "      <td>São Paulo</td>\n",
       "      <td>Taubaté</td>\n",
       "      <td>POINT (5859688.773 7424301.358)</td>\n",
       "    </tr>\n",
       "  </tbody>\n",
       "</table>\n",
       "</div>"
      ],
      "text/plain": [
       "                                           airport_name   airport_type  \\\n",
       "0     Guarulhos - Governador André Franco Montoro In...  large_airport   \n",
       "1          Rio Galeão – Tom Jobim International Airport  large_airport   \n",
       "4     Presidente Juscelino Kubitschek International ...  large_airport   \n",
       "5     Deputado Luiz Eduardo Magalhães International ...  large_airport   \n",
       "9                  Tancredo Neves International Airport  large_airport   \n",
       "12                  Eduardo Gomes International Airport  large_airport   \n",
       "14                   Hercílio Luz International Airport  large_airport   \n",
       "16    Val de Cans/Júlio Cezar Ribeiro International ...  large_airport   \n",
       "6160                                     Fazenda Catuaí  seaplane_base   \n",
       "6626                       M Executive Taubaté Heliport  seaplane_base   \n",
       "\n",
       "      elevation_ft            region    municipality  \\\n",
       "0           2461.0         São Paulo       São Paulo   \n",
       "1             28.0    Rio de Janeiro  Rio De Janeiro   \n",
       "4           3497.0  Distrito Federal        Brasília   \n",
       "5             64.0             Bahia        Salvador   \n",
       "9           2721.0      Minas Gerais  Belo Horizonte   \n",
       "12           264.0          Amazonas          Manaus   \n",
       "14            16.0    Santa Catarina   Florianópolis   \n",
       "16            54.0              Pará           Belém   \n",
       "6160         961.0       Mato Grosso           Juara   \n",
       "6626        1909.0         São Paulo         Taubaté   \n",
       "\n",
       "                             geometry  \n",
       "0     POINT (5769392.959 7387510.487)  \n",
       "1     POINT (6102623.812 7436387.271)  \n",
       "4      POINT (5651010.181 8235390.09)  \n",
       "5     POINT (6700330.807 8520415.591)  \n",
       "9      POINT (6051718.72 7797008.905)  \n",
       "12    POINT (4327494.283 9662122.706)  \n",
       "14    POINT (5537273.577 6926234.097)  \n",
       "16    POINT (5614728.302 9846773.655)  \n",
       "6160  POINT (4606200.759 8729293.657)  \n",
       "6626  POINT (5859688.773 7424301.358)  "
      ]
     },
     "execution_count": 73,
     "metadata": {},
     "output_type": "execute_result"
    }
   ],
   "source": [
    "# filter based on subset\n",
    "choices=['large_airport','seaplane_base']\n",
    "airports_brazil5880[airports_brazil5880.airport_type.isin(choices)]"
   ]
  },
  {
   "cell_type": "code",
   "execution_count": null,
   "id": "e6ca4a10-d76a-4348-af37-8eb69ae1f285",
   "metadata": {},
   "outputs": [],
   "source": [
    "# filter with text - startswith / endswith\n",
    "textCondition=('Presi','Depu')\n",
    "airports_brazil5880[airports_brazil5880.airport_name.str.startswith(textCondition)]"
   ]
  },
  {
   "cell_type": "code",
   "execution_count": null,
   "id": "bbf0d39a-e75c-404a-8596-4b788bf215be",
   "metadata": {
    "scrolled": true
   },
   "outputs": [],
   "source": [
    "# filter with text - contains (more flexible)\n",
    "textPattern='Presidente|Deputado'\n",
    "airports_brazil5880[airports_brazil5880.airport_name.str.contains(textPattern)]\n",
    "# notice 'Refinaria Presidente Bernardes Heliport'"
   ]
  },
  {
   "cell_type": "code",
   "execution_count": 84,
   "id": "129e44ea-fad1-4e92-b32b-de64cc3bbfe6",
   "metadata": {},
   "outputs": [
    {
     "data": {
      "text/html": [
       "<div>\n",
       "<style scoped>\n",
       "    .dataframe tbody tr th:only-of-type {\n",
       "        vertical-align: middle;\n",
       "    }\n",
       "\n",
       "    .dataframe tbody tr th {\n",
       "        vertical-align: top;\n",
       "    }\n",
       "\n",
       "    .dataframe thead th {\n",
       "        text-align: right;\n",
       "    }\n",
       "</style>\n",
       "<table border=\"1\" class=\"dataframe\">\n",
       "  <thead>\n",
       "    <tr style=\"text-align: right;\">\n",
       "      <th></th>\n",
       "      <th>airport_name</th>\n",
       "      <th>airport_type</th>\n",
       "      <th>elevation_ft</th>\n",
       "      <th>region</th>\n",
       "      <th>municipality</th>\n",
       "      <th>geometry</th>\n",
       "    </tr>\n",
       "  </thead>\n",
       "  <tbody>\n",
       "    <tr>\n",
       "      <th>0</th>\n",
       "      <td>Guarulhos - Governador André Franco Montoro In...</td>\n",
       "      <td>large_airport</td>\n",
       "      <td>2461.0</td>\n",
       "      <td>São Paulo</td>\n",
       "      <td>São Paulo</td>\n",
       "      <td>POINT (5769392.959 7387510.487)</td>\n",
       "    </tr>\n",
       "    <tr>\n",
       "      <th>1</th>\n",
       "      <td>Rio Galeão – Tom Jobim International Airport</td>\n",
       "      <td>large_airport</td>\n",
       "      <td>28.0</td>\n",
       "      <td>Rio de Janeiro</td>\n",
       "      <td>Rio De Janeiro</td>\n",
       "      <td>POINT (6102623.812 7436387.271)</td>\n",
       "    </tr>\n",
       "    <tr>\n",
       "      <th>2</th>\n",
       "      <td>Congonhas Airport</td>\n",
       "      <td>medium_airport</td>\n",
       "      <td>2631.0</td>\n",
       "      <td>São Paulo</td>\n",
       "      <td>São Paulo</td>\n",
       "      <td>POINT (5749212.286 7366698.145)</td>\n",
       "    </tr>\n",
       "    <tr>\n",
       "      <th>3</th>\n",
       "      <td>Santos Dumont Airport</td>\n",
       "      <td>medium_airport</td>\n",
       "      <td>11.0</td>\n",
       "      <td>Rio de Janeiro</td>\n",
       "      <td>Rio de Janeiro</td>\n",
       "      <td>POINT (6110753.219 7424462.721)</td>\n",
       "    </tr>\n",
       "    <tr>\n",
       "      <th>4</th>\n",
       "      <td>Presidente Juscelino Kubitschek International ...</td>\n",
       "      <td>large_airport</td>\n",
       "      <td>3497.0</td>\n",
       "      <td>Distrito Federal</td>\n",
       "      <td>Brasília</td>\n",
       "      <td>POINT (5651010.181 8235390.09)</td>\n",
       "    </tr>\n",
       "    <tr>\n",
       "      <th>...</th>\n",
       "      <td>...</td>\n",
       "      <td>...</td>\n",
       "      <td>...</td>\n",
       "      <td>...</td>\n",
       "      <td>...</td>\n",
       "      <td>...</td>\n",
       "    </tr>\n",
       "    <tr>\n",
       "      <th>6666</th>\n",
       "      <td>Fazenda Alegria - H Heliport</td>\n",
       "      <td>heliport</td>\n",
       "      <td>135.0</td>\n",
       "      <td>Maranhão</td>\n",
       "      <td>Vitorino Freire</td>\n",
       "      <td>POINT (5959139.57 9515246.618)</td>\n",
       "    </tr>\n",
       "    <tr>\n",
       "      <th>6667</th>\n",
       "      <td>Volta Redonda Airport</td>\n",
       "      <td>closed</td>\n",
       "      <td>1245.0</td>\n",
       "      <td>Rio de Janeiro</td>\n",
       "      <td>Volta Redonda</td>\n",
       "      <td>POINT (6019487.044 7477310.286)</td>\n",
       "    </tr>\n",
       "    <tr>\n",
       "      <th>6668</th>\n",
       "      <td>Unimed Volta Redonda Helipad</td>\n",
       "      <td>heliport</td>\n",
       "      <td>1385.0</td>\n",
       "      <td>Rio de Janeiro</td>\n",
       "      <td>Volta Redonda</td>\n",
       "      <td>POINT (6020048.982 7473205.16)</td>\n",
       "    </tr>\n",
       "    <tr>\n",
       "      <th>6669</th>\n",
       "      <td>Santa Helena Heliport</td>\n",
       "      <td>heliport</td>\n",
       "      <td>2254.0</td>\n",
       "      <td>São Paulo</td>\n",
       "      <td>Votorantim</td>\n",
       "      <td>POINT (5669189.762 7373842.57)</td>\n",
       "    </tr>\n",
       "    <tr>\n",
       "      <th>6670</th>\n",
       "      <td>Bandeiras Centro Empresarial Heliport</td>\n",
       "      <td>heliport</td>\n",
       "      <td>1827.0</td>\n",
       "      <td>São Paulo</td>\n",
       "      <td>Votorantim</td>\n",
       "      <td>POINT (5668660.051 7380766.922)</td>\n",
       "    </tr>\n",
       "  </tbody>\n",
       "</table>\n",
       "<p>6500 rows × 6 columns</p>\n",
       "</div>"
      ],
      "text/plain": [
       "                                           airport_name    airport_type  \\\n",
       "0     Guarulhos - Governador André Franco Montoro In...   large_airport   \n",
       "1          Rio Galeão – Tom Jobim International Airport   large_airport   \n",
       "2                                     Congonhas Airport  medium_airport   \n",
       "3                                 Santos Dumont Airport  medium_airport   \n",
       "4     Presidente Juscelino Kubitschek International ...   large_airport   \n",
       "...                                                 ...             ...   \n",
       "6666                       Fazenda Alegria - H Heliport        heliport   \n",
       "6667                              Volta Redonda Airport          closed   \n",
       "6668                       Unimed Volta Redonda Helipad        heliport   \n",
       "6669                              Santa Helena Heliport        heliport   \n",
       "6670              Bandeiras Centro Empresarial Heliport        heliport   \n",
       "\n",
       "      elevation_ft            region     municipality  \\\n",
       "0           2461.0         São Paulo        São Paulo   \n",
       "1             28.0    Rio de Janeiro   Rio De Janeiro   \n",
       "2           2631.0         São Paulo        São Paulo   \n",
       "3             11.0    Rio de Janeiro   Rio de Janeiro   \n",
       "4           3497.0  Distrito Federal         Brasília   \n",
       "...            ...               ...              ...   \n",
       "6666         135.0          Maranhão  Vitorino Freire   \n",
       "6667        1245.0    Rio de Janeiro    Volta Redonda   \n",
       "6668        1385.0    Rio de Janeiro    Volta Redonda   \n",
       "6669        2254.0         São Paulo       Votorantim   \n",
       "6670        1827.0         São Paulo       Votorantim   \n",
       "\n",
       "                             geometry  \n",
       "0     POINT (5769392.959 7387510.487)  \n",
       "1     POINT (6102623.812 7436387.271)  \n",
       "2     POINT (5749212.286 7366698.145)  \n",
       "3     POINT (6110753.219 7424462.721)  \n",
       "4      POINT (5651010.181 8235390.09)  \n",
       "...                               ...  \n",
       "6666   POINT (5959139.57 9515246.618)  \n",
       "6667  POINT (6019487.044 7477310.286)  \n",
       "6668   POINT (6020048.982 7473205.16)  \n",
       "6669   POINT (5669189.762 7373842.57)  \n",
       "6670  POINT (5668660.051 7380766.922)  \n",
       "\n",
       "[6500 rows x 6 columns]"
      ]
     },
     "execution_count": 84,
     "metadata": {},
     "output_type": "execute_result"
    }
   ],
   "source": [
    "# Filter rows where specific column is NOT null\n",
    "airports_brazil5880[airports_brazil5880.elevation_ft.notna()]"
   ]
  },
  {
   "cell_type": "code",
   "execution_count": 87,
   "id": "b7858b66-5cd4-42cb-930f-81c9c09c6f9c",
   "metadata": {},
   "outputs": [
    {
     "data": {
      "text/html": [
       "<div>\n",
       "<style scoped>\n",
       "    .dataframe tbody tr th:only-of-type {\n",
       "        vertical-align: middle;\n",
       "    }\n",
       "\n",
       "    .dataframe tbody tr th {\n",
       "        vertical-align: top;\n",
       "    }\n",
       "\n",
       "    .dataframe thead th {\n",
       "        text-align: right;\n",
       "    }\n",
       "</style>\n",
       "<table border=\"1\" class=\"dataframe\">\n",
       "  <thead>\n",
       "    <tr style=\"text-align: right;\">\n",
       "      <th></th>\n",
       "      <th>airport_name</th>\n",
       "      <th>airport_type</th>\n",
       "      <th>elevation_ft</th>\n",
       "      <th>region</th>\n",
       "      <th>municipality</th>\n",
       "      <th>geometry</th>\n",
       "    </tr>\n",
       "  </thead>\n",
       "  <tbody>\n",
       "    <tr>\n",
       "      <th>372</th>\n",
       "      <td>Plataforma P-15 Helipad</td>\n",
       "      <td>heliport</td>\n",
       "      <td>NaN</td>\n",
       "      <td>Rio de Janeiro</td>\n",
       "      <td>Macaé</td>\n",
       "      <td>POINT (6374554.618 7429191.975)</td>\n",
       "    </tr>\n",
       "    <tr>\n",
       "      <th>517</th>\n",
       "      <td>Yanomami Airstrip</td>\n",
       "      <td>small_airport</td>\n",
       "      <td>NaN</td>\n",
       "      <td>Amazonas</td>\n",
       "      <td>None</td>\n",
       "      <td>POINT (3925829.839 10181365.871)</td>\n",
       "    </tr>\n",
       "    <tr>\n",
       "      <th>518</th>\n",
       "      <td>Fazenda Paraíso das Corredeiras Airstrip</td>\n",
       "      <td>small_airport</td>\n",
       "      <td>NaN</td>\n",
       "      <td>Bahia</td>\n",
       "      <td>None</td>\n",
       "      <td>POINT (6010165.896 8530904.531)</td>\n",
       "    </tr>\n",
       "    <tr>\n",
       "      <th>519</th>\n",
       "      <td>Fazenda São João Airstrip</td>\n",
       "      <td>small_airport</td>\n",
       "      <td>NaN</td>\n",
       "      <td>Mato Grosso do Sul</td>\n",
       "      <td>None</td>\n",
       "      <td>POINT (5162883.075 7603765.769)</td>\n",
       "    </tr>\n",
       "    <tr>\n",
       "      <th>524</th>\n",
       "      <td>Fazenda Triunfo Airstrip</td>\n",
       "      <td>small_airport</td>\n",
       "      <td>NaN</td>\n",
       "      <td>Minas Gerais</td>\n",
       "      <td>None</td>\n",
       "      <td>POINT (6020531.439 8242026.824)</td>\n",
       "    </tr>\n",
       "    <tr>\n",
       "      <th>...</th>\n",
       "      <td>...</td>\n",
       "      <td>...</td>\n",
       "      <td>...</td>\n",
       "      <td>...</td>\n",
       "      <td>...</td>\n",
       "      <td>...</td>\n",
       "    </tr>\n",
       "    <tr>\n",
       "      <th>6071</th>\n",
       "      <td>Ilha do Maia Heliport</td>\n",
       "      <td>heliport</td>\n",
       "      <td>NaN</td>\n",
       "      <td>Rio de Janeiro</td>\n",
       "      <td>Ilha do Maia</td>\n",
       "      <td>POINT (5990277.225 7419754.934)</td>\n",
       "    </tr>\n",
       "    <tr>\n",
       "      <th>6209</th>\n",
       "      <td>Costa dos Corais - Maragogi Airport (under con...</td>\n",
       "      <td>closed</td>\n",
       "      <td>NaN</td>\n",
       "      <td>Alagoas</td>\n",
       "      <td>Maragogi</td>\n",
       "      <td>POINT (7061510.918 8952190.542)</td>\n",
       "    </tr>\n",
       "    <tr>\n",
       "      <th>6329</th>\n",
       "      <td>Porto Franco Heliport</td>\n",
       "      <td>heliport</td>\n",
       "      <td>NaN</td>\n",
       "      <td>Maranhão</td>\n",
       "      <td>Porto Franco</td>\n",
       "      <td>POINT (5729542.734 9282407.669)</td>\n",
       "    </tr>\n",
       "    <tr>\n",
       "      <th>6351</th>\n",
       "      <td>Compesa Heliport</td>\n",
       "      <td>heliport</td>\n",
       "      <td>NaN</td>\n",
       "      <td>Pernambuco</td>\n",
       "      <td>Recife</td>\n",
       "      <td>POINT (7100592.792 9065572.137)</td>\n",
       "    </tr>\n",
       "    <tr>\n",
       "      <th>6662</th>\n",
       "      <td>Trindade Heliport</td>\n",
       "      <td>heliport</td>\n",
       "      <td>NaN</td>\n",
       "      <td>Espírito Santo</td>\n",
       "      <td>Vitória</td>\n",
       "      <td>POINT (7565615.936 7537143.55)</td>\n",
       "    </tr>\n",
       "  </tbody>\n",
       "</table>\n",
       "<p>171 rows × 6 columns</p>\n",
       "</div>"
      ],
      "text/plain": [
       "                                           airport_name   airport_type  \\\n",
       "372                             Plataforma P-15 Helipad       heliport   \n",
       "517                                   Yanomami Airstrip  small_airport   \n",
       "518            Fazenda Paraíso das Corredeiras Airstrip  small_airport   \n",
       "519                           Fazenda São João Airstrip  small_airport   \n",
       "524                            Fazenda Triunfo Airstrip  small_airport   \n",
       "...                                                 ...            ...   \n",
       "6071                              Ilha do Maia Heliport       heliport   \n",
       "6209  Costa dos Corais - Maragogi Airport (under con...         closed   \n",
       "6329                              Porto Franco Heliport       heliport   \n",
       "6351                                   Compesa Heliport       heliport   \n",
       "6662                                  Trindade Heliport       heliport   \n",
       "\n",
       "      elevation_ft              region  municipality  \\\n",
       "372            NaN      Rio de Janeiro         Macaé   \n",
       "517            NaN            Amazonas          None   \n",
       "518            NaN               Bahia          None   \n",
       "519            NaN  Mato Grosso do Sul          None   \n",
       "524            NaN        Minas Gerais          None   \n",
       "...            ...                 ...           ...   \n",
       "6071           NaN      Rio de Janeiro  Ilha do Maia   \n",
       "6209           NaN             Alagoas      Maragogi   \n",
       "6329           NaN            Maranhão  Porto Franco   \n",
       "6351           NaN          Pernambuco        Recife   \n",
       "6662           NaN      Espírito Santo       Vitória   \n",
       "\n",
       "                              geometry  \n",
       "372    POINT (6374554.618 7429191.975)  \n",
       "517   POINT (3925829.839 10181365.871)  \n",
       "518    POINT (6010165.896 8530904.531)  \n",
       "519    POINT (5162883.075 7603765.769)  \n",
       "524    POINT (6020531.439 8242026.824)  \n",
       "...                                ...  \n",
       "6071   POINT (5990277.225 7419754.934)  \n",
       "6209   POINT (7061510.918 8952190.542)  \n",
       "6329   POINT (5729542.734 9282407.669)  \n",
       "6351   POINT (7100592.792 9065572.137)  \n",
       "6662    POINT (7565615.936 7537143.55)  \n",
       "\n",
       "[171 rows x 6 columns]"
      ]
     },
     "execution_count": 87,
     "metadata": {},
     "output_type": "execute_result"
    }
   ],
   "source": [
    "# Filter rows where specific column IS null\n",
    "airports_brazil5880[airports_brazil5880.elevation_ft.isna()]"
   ]
  },
  {
   "cell_type": "markdown",
   "id": "a20c0c9b-9598-4f47-818a-d55449dca5cf",
   "metadata": {},
   "source": [
    "## Slicing with **cx**"
   ]
  },
  {
   "cell_type": "markdown",
   "id": "6a3dfc54-46a0-4531-998c-3f11c9735fec",
   "metadata": {
    "id": "6a3dfc54-46a0-4531-998c-3f11c9735fec"
   },
   "source": [
    "But as a GDF, you can also filter using coordinates via __cx__. "
   ]
  },
  {
   "cell_type": "markdown",
   "id": "f08579d5-5736-4122-9b69-22d8b98e8f8e",
   "metadata": {},
   "source": [
    "Let me get Brazil's centroid to show you how this works:"
   ]
  },
  {
   "cell_type": "code",
   "execution_count": 76,
   "id": "a6a221f3-51db-4264-83e3-da0fa8eacc0a",
   "metadata": {},
   "outputs": [
    {
     "data": {
      "text/plain": [
       "0    POINT (5085264.134 8827720.201)\n",
       "dtype: geometry"
      ]
     },
     "execution_count": 76,
     "metadata": {},
     "output_type": "execute_result"
    }
   ],
   "source": [
    "brazil5880_cen=brazil5880.centroid\n",
    "brazil5880_cen"
   ]
  },
  {
   "cell_type": "markdown",
   "id": "e60f2723-4093-4753-bdd8-33e754378325",
   "metadata": {},
   "source": [
    "Here, I recover each coordinate values:"
   ]
  },
  {
   "cell_type": "code",
   "execution_count": 77,
   "id": "7c47096a-3cbf-451e-9811-b325bca2304b",
   "metadata": {},
   "outputs": [
    {
     "data": {
      "text/plain": [
       "(np.float64(5085264.134223759), np.float64(8827720.20102598))"
      ]
     },
     "execution_count": 77,
     "metadata": {},
     "output_type": "execute_result"
    }
   ],
   "source": [
    "mid_x,mid_y=brazil5880_cen.x[0],brazil5880_cen.y[0]\n",
    "mid_x,mid_y"
   ]
  },
  {
   "cell_type": "markdown",
   "id": "66a83e6d-4073-44fc-8e07-b1ddabc5582a",
   "metadata": {
    "id": "66a83e6d-4073-44fc-8e07-b1ddabc5582a"
   },
   "source": [
    "Let me select airports north of the centroid:"
   ]
  },
  {
   "cell_type": "code",
   "execution_count": 78,
   "id": "50632acb-1595-4207-927c-ee9b4d030b83",
   "metadata": {
    "colab": {
     "base_uri": "https://localhost:8080/",
     "height": 833
    },
    "id": "50632acb-1595-4207-927c-ee9b4d030b83",
    "outputId": "19568afa-f936-4fee-ee5c-4abb1d08b942"
   },
   "outputs": [
    {
     "data": {
      "text/html": [
       "<div>\n",
       "<style scoped>\n",
       "    .dataframe tbody tr th:only-of-type {\n",
       "        vertical-align: middle;\n",
       "    }\n",
       "\n",
       "    .dataframe tbody tr th {\n",
       "        vertical-align: top;\n",
       "    }\n",
       "\n",
       "    .dataframe thead th {\n",
       "        text-align: right;\n",
       "    }\n",
       "</style>\n",
       "<table border=\"1\" class=\"dataframe\">\n",
       "  <thead>\n",
       "    <tr style=\"text-align: right;\">\n",
       "      <th></th>\n",
       "      <th>airport_name</th>\n",
       "      <th>airport_type</th>\n",
       "      <th>elevation_ft</th>\n",
       "      <th>region</th>\n",
       "      <th>municipality</th>\n",
       "      <th>geometry</th>\n",
       "    </tr>\n",
       "  </thead>\n",
       "  <tbody>\n",
       "    <tr>\n",
       "      <th>7</th>\n",
       "      <td>Recife/Guararapes - Gilberto Freyre Internatio...</td>\n",
       "      <td>medium_airport</td>\n",
       "      <td>33.0</td>\n",
       "      <td>Pernambuco</td>\n",
       "      <td>Recife</td>\n",
       "      <td>POINT (7101649.592 9051951.182)</td>\n",
       "    </tr>\n",
       "    <tr>\n",
       "      <th>11</th>\n",
       "      <td>Pinto Martins International Airport</td>\n",
       "      <td>medium_airport</td>\n",
       "      <td>82.0</td>\n",
       "      <td>Ceará</td>\n",
       "      <td>Fortaleza</td>\n",
       "      <td>POINT (6718019.13 9567161.266)</td>\n",
       "    </tr>\n",
       "    <tr>\n",
       "      <th>12</th>\n",
       "      <td>Eduardo Gomes International Airport</td>\n",
       "      <td>large_airport</td>\n",
       "      <td>264.0</td>\n",
       "      <td>Amazonas</td>\n",
       "      <td>Manaus</td>\n",
       "      <td>POINT (4327494.283 9662122.706)</td>\n",
       "    </tr>\n",
       "    <tr>\n",
       "      <th>16</th>\n",
       "      <td>Val de Cans/Júlio Cezar Ribeiro International ...</td>\n",
       "      <td>large_airport</td>\n",
       "      <td>54.0</td>\n",
       "      <td>Pará</td>\n",
       "      <td>Belém</td>\n",
       "      <td>POINT (5614728.302 9846773.655)</td>\n",
       "    </tr>\n",
       "    <tr>\n",
       "      <th>23</th>\n",
       "      <td>Natal Air Force Base</td>\n",
       "      <td>medium_airport</td>\n",
       "      <td>171.0</td>\n",
       "      <td>Rio Grande do Norte</td>\n",
       "      <td>Natal</td>\n",
       "      <td>POINT (7076076.353 9311332.483)</td>\n",
       "    </tr>\n",
       "    <tr>\n",
       "      <th>...</th>\n",
       "      <td>...</td>\n",
       "      <td>...</td>\n",
       "      <td>...</td>\n",
       "      <td>...</td>\n",
       "      <td>...</td>\n",
       "      <td>...</td>\n",
       "    </tr>\n",
       "    <tr>\n",
       "      <th>6648</th>\n",
       "      <td>Fazenda Pratinha Airport.</td>\n",
       "      <td>closed</td>\n",
       "      <td>1634.0</td>\n",
       "      <td>Piauí</td>\n",
       "      <td>Uruçuí</td>\n",
       "      <td>POINT (6065149.414 9120997.517)</td>\n",
       "    </tr>\n",
       "    <tr>\n",
       "      <th>6655</th>\n",
       "      <td>Açude Araras Airport</td>\n",
       "      <td>closed</td>\n",
       "      <td>738.0</td>\n",
       "      <td>Ceará</td>\n",
       "      <td>Varjota</td>\n",
       "      <td>POINT (6498474.061 9524631.136)</td>\n",
       "    </tr>\n",
       "    <tr>\n",
       "      <th>6658</th>\n",
       "      <td>Fazenda São Francisco Heliport</td>\n",
       "      <td>heliport</td>\n",
       "      <td>49.0</td>\n",
       "      <td>Maranhão</td>\n",
       "      <td>Viana</td>\n",
       "      <td>POINT (5996594.766 9640499.645)</td>\n",
       "    </tr>\n",
       "    <tr>\n",
       "      <th>6665</th>\n",
       "      <td>Fazenda Santa Bárbara Heliport</td>\n",
       "      <td>heliport</td>\n",
       "      <td>69.0</td>\n",
       "      <td>Maranhão</td>\n",
       "      <td>Vitória do Mearim</td>\n",
       "      <td>POINT (5989302.882 9598383.282)</td>\n",
       "    </tr>\n",
       "    <tr>\n",
       "      <th>6666</th>\n",
       "      <td>Fazenda Alegria - H Heliport</td>\n",
       "      <td>heliport</td>\n",
       "      <td>135.0</td>\n",
       "      <td>Maranhão</td>\n",
       "      <td>Vitorino Freire</td>\n",
       "      <td>POINT (5959139.57 9515246.618)</td>\n",
       "    </tr>\n",
       "  </tbody>\n",
       "</table>\n",
       "<p>1487 rows × 6 columns</p>\n",
       "</div>"
      ],
      "text/plain": [
       "                                           airport_name    airport_type  \\\n",
       "7     Recife/Guararapes - Gilberto Freyre Internatio...  medium_airport   \n",
       "11                  Pinto Martins International Airport  medium_airport   \n",
       "12                  Eduardo Gomes International Airport   large_airport   \n",
       "16    Val de Cans/Júlio Cezar Ribeiro International ...   large_airport   \n",
       "23                                 Natal Air Force Base  medium_airport   \n",
       "...                                                 ...             ...   \n",
       "6648                          Fazenda Pratinha Airport.          closed   \n",
       "6655                               Açude Araras Airport          closed   \n",
       "6658                     Fazenda São Francisco Heliport        heliport   \n",
       "6665                     Fazenda Santa Bárbara Heliport        heliport   \n",
       "6666                       Fazenda Alegria - H Heliport        heliport   \n",
       "\n",
       "      elevation_ft               region       municipality  \\\n",
       "7             33.0           Pernambuco             Recife   \n",
       "11            82.0                Ceará          Fortaleza   \n",
       "12           264.0             Amazonas             Manaus   \n",
       "16            54.0                 Pará              Belém   \n",
       "23           171.0  Rio Grande do Norte              Natal   \n",
       "...            ...                  ...                ...   \n",
       "6648        1634.0                Piauí             Uruçuí   \n",
       "6655         738.0                Ceará            Varjota   \n",
       "6658          49.0             Maranhão              Viana   \n",
       "6665          69.0             Maranhão  Vitória do Mearim   \n",
       "6666         135.0             Maranhão    Vitorino Freire   \n",
       "\n",
       "                             geometry  \n",
       "7     POINT (7101649.592 9051951.182)  \n",
       "11     POINT (6718019.13 9567161.266)  \n",
       "12    POINT (4327494.283 9662122.706)  \n",
       "16    POINT (5614728.302 9846773.655)  \n",
       "23    POINT (7076076.353 9311332.483)  \n",
       "...                               ...  \n",
       "6648  POINT (6065149.414 9120997.517)  \n",
       "6655  POINT (6498474.061 9524631.136)  \n",
       "6658  POINT (5996594.766 9640499.645)  \n",
       "6665  POINT (5989302.882 9598383.282)  \n",
       "6666   POINT (5959139.57 9515246.618)  \n",
       "\n",
       "[1487 rows x 6 columns]"
      ]
     },
     "execution_count": 78,
     "metadata": {},
     "output_type": "execute_result"
    }
   ],
   "source": [
    "airports_brazil5880.cx[:,mid_y:]"
   ]
  },
  {
   "cell_type": "markdown",
   "id": "785bcf83-30fa-488a-95c5-b394d70a4b91",
   "metadata": {},
   "source": [
    "Confirming we got it right:"
   ]
  },
  {
   "cell_type": "code",
   "execution_count": 79,
   "id": "6439a16a-862a-44df-95d3-35c2c719c11e",
   "metadata": {},
   "outputs": [
    {
     "data": {
      "text/plain": [
       "<Axes: >"
      ]
     },
     "execution_count": 79,
     "metadata": {},
     "output_type": "execute_result"
    },
    {
     "data": {
      "image/png": "[encoded data removed]",
      "text/plain": [
       "<Figure size 640x480 with 1 Axes>"
      ]
     },
     "metadata": {},
     "output_type": "display_data"
    }
   ],
   "source": [
    "# the viz\n",
    "base=brazil5880.plot(color='yellow') # brazil on the back\n",
    "airports_brazil5880.cx[:,mid_y:].plot(ax=base,markersize=1) # all the brazilian northern airports \n",
    "brazil5880.centroid.plot(color='red',ax=base) # check the centroid"
   ]
  },
  {
   "cell_type": "markdown",
   "id": "1c44c596-e798-44d7-ba22-e24c00ae5044",
   "metadata": {
    "id": "1c44c596-e798-44d7-ba22-e24c00ae5044"
   },
   "source": [
    "When the GDF is made of points, the __cx__ would give clean results. Do not expect that when GDF is made of polygons.\n",
    "\n",
    "Let me use it to split the states:"
   ]
  },
  {
   "cell_type": "code",
   "execution_count": 18,
   "id": "21e77302-50cd-4b69-b4ce-8ef62ca7e9e4",
   "metadata": {},
   "outputs": [],
   "source": [
    "# the north\n",
    "N_brazil=states_brazil5880.cx[:,mid_y:]\n",
    "# the south\n",
    "S_brazil=states_brazil5880.cx[:,:mid_y]\n",
    "# the west\n",
    "W_brazil=states_brazil5880.cx[:mid_x,:]\n",
    "# the east\n",
    "E_brazil=states_brazil5880.cx[mid_x:,:]"
   ]
  },
  {
   "cell_type": "markdown",
   "id": "0e66a887-aa31-4ea9-b9ce-03367286ed74",
   "metadata": {},
   "source": [
    "Notice the centroid does not cut polygons:"
   ]
  },
  {
   "cell_type": "code",
   "execution_count": 21,
   "id": "fa2468c1-8531-4e2e-ae86-be1d6ac30d00",
   "metadata": {
    "scrolled": true
   },
   "outputs": [
    {
     "data": {
      "text/plain": [
       "<Axes: >"
      ]
     },
     "execution_count": 21,
     "metadata": {},
     "output_type": "execute_result"
    },
    {
     "data": {
      "image/png": "[encoded data removed]",
      "text/plain": [
       "<Figure size 640x480 with 1 Axes>"
      ]
     },
     "metadata": {},
     "output_type": "display_data"
    }
   ],
   "source": [
    "base=N_brazil.plot()\n",
    "brazil5880.centroid.plot(color='red',ax=base)"
   ]
  },
  {
   "cell_type": "code",
   "execution_count": 20,
   "id": "393c5094-0496-4615-9254-8f9491cc9edc",
   "metadata": {},
   "outputs": [
    {
     "data": {
      "text/plain": [
       "<Axes: >"
      ]
     },
     "execution_count": 20,
     "metadata": {},
     "output_type": "execute_result"
    },
    {
     "data": {
      "image/png": "[encoded data removed]",
      "text/plain": [
       "<Figure size 640x480 with 1 Axes>"
      ]
     },
     "metadata": {},
     "output_type": "display_data"
    }
   ],
   "source": [
    "base=W_brazil.plot()\n",
    "brazil5880.centroid.plot(color='red',ax=base)"
   ]
  },
  {
   "cell_type": "markdown",
   "id": "5c6f831c-5b8f-44e8-8a99-a3acfc2f2de0",
   "metadata": {},
   "source": [
    "## Filtering by attribute value\n",
    "\n",
    "The GDF 'states_brazil5880' has only these columns:"
   ]
  },
  {
   "cell_type": "code",
   "execution_count": 80,
   "id": "678cfef5-d8b6-4d3a-b7ac-a6fa266cc4ef",
   "metadata": {},
   "outputs": [
    {
     "data": {
      "text/plain": [
       "Index(['state_name', 'state_code', 'geometry'], dtype='object')"
      ]
     },
     "execution_count": 80,
     "metadata": {},
     "output_type": "execute_result"
    }
   ],
   "source": [
    "states_brazil5880.columns"
   ]
  },
  {
   "cell_type": "markdown",
   "id": "982d8a39-78a7-4251-bf6c-051ebd42b5ec",
   "metadata": {},
   "source": [
    "But, since it is projected, you can get the area of the polygon:"
   ]
  },
  {
   "cell_type": "code",
   "execution_count": 82,
   "id": "d992e186-f7b3-4822-aaef-aaca92eb8001",
   "metadata": {},
   "outputs": [
    {
     "data": {
      "text/html": [
       "<div>\n",
       "<style scoped>\n",
       "    .dataframe tbody tr th:only-of-type {\n",
       "        vertical-align: middle;\n",
       "    }\n",
       "\n",
       "    .dataframe tbody tr th {\n",
       "        vertical-align: top;\n",
       "    }\n",
       "\n",
       "    .dataframe thead th {\n",
       "        text-align: right;\n",
       "    }\n",
       "</style>\n",
       "<table border=\"1\" class=\"dataframe\">\n",
       "  <thead>\n",
       "    <tr style=\"text-align: right;\">\n",
       "      <th></th>\n",
       "      <th>state_name</th>\n",
       "      <th>state_code</th>\n",
       "      <th>geometry</th>\n",
       "    </tr>\n",
       "  </thead>\n",
       "  <tbody>\n",
       "    <tr>\n",
       "      <th>3</th>\n",
       "      <td>Amazonas</td>\n",
       "      <td>BR13</td>\n",
       "      <td>MULTIPOLYGON (((4499820.936 9906611.648, 45003...</td>\n",
       "    </tr>\n",
       "    <tr>\n",
       "      <th>13</th>\n",
       "      <td>Pará</td>\n",
       "      <td>BR15</td>\n",
       "      <td>MULTIPOLYGON (((5842059.053 9886741.08, 584156...</td>\n",
       "    </tr>\n",
       "  </tbody>\n",
       "</table>\n",
       "</div>"
      ],
      "text/plain": [
       "   state_name state_code                                           geometry\n",
       "3    Amazonas       BR13  MULTIPOLYGON (((4499820.936 9906611.648, 45003...\n",
       "13       Pará       BR15  MULTIPOLYGON (((5842059.053 9886741.08, 584156..."
      ]
     },
     "execution_count": 82,
     "metadata": {},
     "output_type": "execute_result"
    }
   ],
   "source": [
    "# This filter finds states larger than 1,000,000 km²\n",
    "states_brazil5880[states_brazil5880.area > 1000000000000]"
   ]
  },
  {
   "cell_type": "markdown",
   "id": "dce53b61-ecda-4df3-b9be-6a6cf86bdc4c",
   "metadata": {},
   "source": [
    "GDF locates elements in space, so we can know how far is one from the other. We can use that to filter:"
   ]
  },
  {
   "cell_type": "code",
   "execution_count": 83,
   "id": "03130c10-c4c4-4d02-aa66-35aeabfbc310",
   "metadata": {},
   "outputs": [
    {
     "data": {
      "text/html": [
       "<div>\n",
       "<style scoped>\n",
       "    .dataframe tbody tr th:only-of-type {\n",
       "        vertical-align: middle;\n",
       "    }\n",
       "\n",
       "    .dataframe tbody tr th {\n",
       "        vertical-align: top;\n",
       "    }\n",
       "\n",
       "    .dataframe thead th {\n",
       "        text-align: right;\n",
       "    }\n",
       "</style>\n",
       "<table border=\"1\" class=\"dataframe\">\n",
       "  <thead>\n",
       "    <tr style=\"text-align: right;\">\n",
       "      <th></th>\n",
       "      <th>airport_name</th>\n",
       "      <th>airport_type</th>\n",
       "      <th>elevation_ft</th>\n",
       "      <th>region</th>\n",
       "      <th>municipality</th>\n",
       "      <th>geometry</th>\n",
       "    </tr>\n",
       "  </thead>\n",
       "  <tbody>\n",
       "    <tr>\n",
       "      <th>4104</th>\n",
       "      <td>Viatec Aviação Agrícola Airport</td>\n",
       "      <td>small_airport</td>\n",
       "      <td>92.0</td>\n",
       "      <td>Rio Grande do Sul</td>\n",
       "      <td>Santa Vitória do Palmar</td>\n",
       "      <td>POINT (5068397.782 6323060.053)</td>\n",
       "    </tr>\n",
       "    <tr>\n",
       "      <th>4106</th>\n",
       "      <td>Santa Vitória do Palmar Airport</td>\n",
       "      <td>small_airport</td>\n",
       "      <td>82.0</td>\n",
       "      <td>Rio Grande do Sul</td>\n",
       "      <td>Santa Vitória Do Palmar</td>\n",
       "      <td>POINT (5060939.818 6291358.318)</td>\n",
       "    </tr>\n",
       "    <tr>\n",
       "      <th>6662</th>\n",
       "      <td>Trindade Heliport</td>\n",
       "      <td>heliport</td>\n",
       "      <td>NaN</td>\n",
       "      <td>Espírito Santo</td>\n",
       "      <td>Vitória</td>\n",
       "      <td>POINT (7565615.936 7537143.55)</td>\n",
       "    </tr>\n",
       "  </tbody>\n",
       "</table>\n",
       "</div>"
      ],
      "text/plain": [
       "                         airport_name   airport_type  elevation_ft  \\\n",
       "4104  Viatec Aviação Agrícola Airport  small_airport          92.0   \n",
       "4106  Santa Vitória do Palmar Airport  small_airport          82.0   \n",
       "6662                Trindade Heliport       heliport           NaN   \n",
       "\n",
       "                 region             municipality  \\\n",
       "4104  Rio Grande do Sul  Santa Vitória do Palmar   \n",
       "4106  Rio Grande do Sul  Santa Vitória Do Palmar   \n",
       "6662     Espírito Santo                  Vitória   \n",
       "\n",
       "                             geometry  \n",
       "4104  POINT (5068397.782 6323060.053)  \n",
       "4106  POINT (5060939.818 6291358.318)  \n",
       "6662   POINT (7565615.936 7537143.55)  "
      ]
     },
     "execution_count": 83,
     "metadata": {},
     "output_type": "execute_result"
    }
   ],
   "source": [
    "airports_brazil5880[airports_brazil5880.distance(brazil5880_cen.iloc[0]) > 2500000]"
   ]
  },
  {
   "cell_type": "markdown",
   "id": "be643505-1c8f-435c-b3ca-150aee9c4b3b",
   "metadata": {
    "id": "be643505-1c8f-435c-b3ca-150aee9c4b3b"
   },
   "source": [
    "## Clipping"
   ]
  },
  {
   "cell_type": "markdown",
   "id": "01e11a63-f60d-46b7-90b3-29f8e554227f",
   "metadata": {
    "id": "01e11a63-f60d-46b7-90b3-29f8e554227f"
   },
   "source": [
    "Pay attention to this GDF:"
   ]
  },
  {
   "cell_type": "code",
   "execution_count": 88,
   "id": "e04c8325-ac9e-416a-a15d-165a3945c028",
   "metadata": {
    "colab": {
     "base_uri": "https://localhost:8080/",
     "height": 424
    },
    "id": "e04c8325-ac9e-416a-a15d-165a3945c028",
    "outputId": "59e3b63c-7f48-4f5c-f269-102a2f7388b5"
   },
   "outputs": [
    {
     "data": {
      "text/html": [
       "<div>\n",
       "<style scoped>\n",
       "    .dataframe tbody tr th:only-of-type {\n",
       "        vertical-align: middle;\n",
       "    }\n",
       "\n",
       "    .dataframe tbody tr th {\n",
       "        vertical-align: top;\n",
       "    }\n",
       "\n",
       "    .dataframe thead th {\n",
       "        text-align: right;\n",
       "    }\n",
       "</style>\n",
       "<table border=\"1\" class=\"dataframe\">\n",
       "  <thead>\n",
       "    <tr style=\"text-align: right;\">\n",
       "      <th></th>\n",
       "      <th>RIVER</th>\n",
       "      <th>SYSTEM</th>\n",
       "      <th>geometry</th>\n",
       "    </tr>\n",
       "  </thead>\n",
       "  <tbody>\n",
       "    <tr>\n",
       "      <th>0</th>\n",
       "      <td>Aldan</td>\n",
       "      <td>Lena</td>\n",
       "      <td>MULTILINESTRING ((124.00678 56.47258, 123.2595...</td>\n",
       "    </tr>\n",
       "    <tr>\n",
       "      <th>1</th>\n",
       "      <td>Amazon</td>\n",
       "      <td>Amazon</td>\n",
       "      <td>MULTILINESTRING ((-61.2773 -3.60706, -60.68466...</td>\n",
       "    </tr>\n",
       "    <tr>\n",
       "      <th>2</th>\n",
       "      <td>Amu Darya</td>\n",
       "      <td>None</td>\n",
       "      <td>MULTILINESTRING ((73.98818 37.49952, 73.52595 ...</td>\n",
       "    </tr>\n",
       "    <tr>\n",
       "      <th>3</th>\n",
       "      <td>Amur</td>\n",
       "      <td>None</td>\n",
       "      <td>MULTILINESTRING ((122.63956 49.9973, 120.47874...</td>\n",
       "    </tr>\n",
       "    <tr>\n",
       "      <th>4</th>\n",
       "      <td>Angara</td>\n",
       "      <td>None</td>\n",
       "      <td>MULTILINESTRING ((105.07841 51.93053, 103.9295...</td>\n",
       "    </tr>\n",
       "    <tr>\n",
       "      <th>...</th>\n",
       "      <td>...</td>\n",
       "      <td>...</td>\n",
       "      <td>...</td>\n",
       "    </tr>\n",
       "    <tr>\n",
       "      <th>93</th>\n",
       "      <td>Yangtze</td>\n",
       "      <td>None</td>\n",
       "      <td>MULTILINESTRING ((119.82609 32.24864, 118.9707...</td>\n",
       "    </tr>\n",
       "    <tr>\n",
       "      <th>94</th>\n",
       "      <td>Yenisey</td>\n",
       "      <td>None</td>\n",
       "      <td>MULTILINESTRING ((98.94706 52.57675, 98.12095 ...</td>\n",
       "    </tr>\n",
       "    <tr>\n",
       "      <th>95</th>\n",
       "      <td>Yukon</td>\n",
       "      <td>None</td>\n",
       "      <td>MULTILINESTRING ((-130.89319 59.2448, -131.065...</td>\n",
       "    </tr>\n",
       "    <tr>\n",
       "      <th>96</th>\n",
       "      <td>Zambezi</td>\n",
       "      <td>None</td>\n",
       "      <td>MULTILINESTRING ((35.52866 -17.66773, 36.28055...</td>\n",
       "    </tr>\n",
       "    <tr>\n",
       "      <th>97</th>\n",
       "      <td>Rio Grande, South America</td>\n",
       "      <td>Parana</td>\n",
       "      <td>MULTILINESTRING ((-44.37152 -22.17241, -43.860...</td>\n",
       "    </tr>\n",
       "  </tbody>\n",
       "</table>\n",
       "<p>98 rows × 3 columns</p>\n",
       "</div>"
      ],
      "text/plain": [
       "                        RIVER  SYSTEM  \\\n",
       "0                       Aldan    Lena   \n",
       "1                      Amazon  Amazon   \n",
       "2                   Amu Darya    None   \n",
       "3                        Amur    None   \n",
       "4                      Angara    None   \n",
       "..                        ...     ...   \n",
       "93                    Yangtze    None   \n",
       "94                    Yenisey    None   \n",
       "95                      Yukon    None   \n",
       "96                    Zambezi    None   \n",
       "97  Rio Grande, South America  Parana   \n",
       "\n",
       "                                             geometry  \n",
       "0   MULTILINESTRING ((124.00678 56.47258, 123.2595...  \n",
       "1   MULTILINESTRING ((-61.2773 -3.60706, -60.68466...  \n",
       "2   MULTILINESTRING ((73.98818 37.49952, 73.52595 ...  \n",
       "3   MULTILINESTRING ((122.63956 49.9973, 120.47874...  \n",
       "4   MULTILINESTRING ((105.07841 51.93053, 103.9295...  \n",
       "..                                                ...  \n",
       "93  MULTILINESTRING ((119.82609 32.24864, 118.9707...  \n",
       "94  MULTILINESTRING ((98.94706 52.57675, 98.12095 ...  \n",
       "95  MULTILINESTRING ((-130.89319 59.2448, -131.065...  \n",
       "96  MULTILINESTRING ((35.52866 -17.66773, 36.28055...  \n",
       "97  MULTILINESTRING ((-44.37152 -22.17241, -43.860...  \n",
       "\n",
       "[98 rows x 3 columns]"
      ]
     },
     "execution_count": 88,
     "metadata": {},
     "output_type": "execute_result"
    }
   ],
   "source": [
    "world_rivers"
   ]
  },
  {
   "cell_type": "markdown",
   "id": "c6fcbcc4-6b4e-45ea-ba63-814549807e6d",
   "metadata": {
    "id": "c6fcbcc4-6b4e-45ea-ba63-814549807e6d"
   },
   "source": [
    "As you see, this GDF has no Country column. But since it has geometry, you can keep the rivers, or their sections, that serve a country:"
   ]
  },
  {
   "cell_type": "code",
   "execution_count": 89,
   "id": "5b6a5884-4c38-4cf9-b452-c472e409d82b",
   "metadata": {
    "id": "5b6a5884-4c38-4cf9-b452-c472e409d82b"
   },
   "outputs": [],
   "source": [
    "rivers_brazil5880 = gpd.clip(gdf=world_rivers.to_crs(5880),\n",
    "                             mask=brazil5880)"
   ]
  },
  {
   "cell_type": "markdown",
   "id": "59424b3b-f335-47dd-8496-c4a7a5b7ee72",
   "metadata": {
    "id": "59424b3b-f335-47dd-8496-c4a7a5b7ee72"
   },
   "source": [
    "Then, you can plot the clipped version:"
   ]
  },
  {
   "cell_type": "code",
   "execution_count": 90,
   "id": "4cc43012-dcc3-45b3-b31e-35bcb26cab94",
   "metadata": {
    "colab": {
     "base_uri": "https://localhost:8080/",
     "height": 463
    },
    "id": "4cc43012-dcc3-45b3-b31e-35bcb26cab94",
    "outputId": "684ed3d4-de8e-4541-f1b2-8c2dc6e30281"
   },
   "outputs": [
    {
     "data": {
      "text/plain": [
       "<Axes: >"
      ]
     },
     "execution_count": 90,
     "metadata": {},
     "output_type": "execute_result"
    },
    {
     "data": {
      "image/png": "[encoded data removed]",
      "text/plain": [
       "<Figure size 500x500 with 1 Axes>"
      ]
     },
     "metadata": {},
     "output_type": "display_data"
    }
   ],
   "source": [
    "base = brazil5880.plot(facecolor=\"greenyellow\", edgecolor='black', linewidth=0.4,figsize=(5,5))\n",
    "rivers_brazil5880.plot(edgecolor='blue', linewidth=0.5,\n",
    "                    ax=base)"
   ]
  },
  {
   "cell_type": "markdown",
   "id": "c77dfd82-1685-4f2d-a1ae-3ff26f8f3041",
   "metadata": {},
   "source": [
    "We can create our own mask for clipping:\n",
    "\n",
    "Let me get the **bounding box** of the map (the smallest possible rectangle that completely encloses a geometric shape or set of shapes):"
   ]
  },
  {
   "cell_type": "code",
   "execution_count": 91,
   "id": "80f8a267-da8a-4831-be2b-7d83bac3c595",
   "metadata": {
    "colab": {
     "base_uri": "https://localhost:8080/"
    },
    "id": "80f8a267-da8a-4831-be2b-7d83bac3c595",
    "outputId": "0abc437a-fd5d-42e9-9e5a-8ec183735ac7",
    "scrolled": true
   },
   "outputs": [
    {
     "data": {
      "text/plain": [
       "array([ 2793074.63914733,  6264891.06203913,  7120881.08835731,\n",
       "       10586462.14322563])"
      ]
     },
     "execution_count": 91,
     "metadata": {},
     "output_type": "execute_result"
    }
   ],
   "source": [
    "brazil5880.total_bounds #[minx, miny, maxx, maxy]"
   ]
  },
  {
   "cell_type": "code",
   "execution_count": 92,
   "id": "76f1dee2-1db3-4aca-a389-0d9b87718514",
   "metadata": {},
   "outputs": [
    {
     "data": {
      "text/plain": [
       "(np.float64(2793074.6391473296),\n",
       " np.float64(6264891.0620391285),\n",
       " np.float64(7120881.088357305),\n",
       " np.float64(10586462.143225627))"
      ]
     },
     "execution_count": 92,
     "metadata": {},
     "output_type": "execute_result"
    }
   ],
   "source": [
    "# or\n",
    "minx, miny, maxx, maxy=brazil5880.total_bounds\n",
    "minx, miny, maxx, maxy"
   ]
  },
  {
   "cell_type": "markdown",
   "id": "e00d037a-9493-4bee-807a-c04202409990",
   "metadata": {},
   "source": [
    "I will combine those coordinates with the _centroid_ (mid_x,mid_y)to create a BOX of the north and south of Brazil:"
   ]
  },
  {
   "cell_type": "code",
   "execution_count": 93,
   "id": "0180a0cd-311b-43e4-a68a-2fe82f46b4a0",
   "metadata": {
    "colab": {
     "base_uri": "https://localhost:8080/"
    },
    "id": "0180a0cd-311b-43e4-a68a-2fe82f46b4a0",
    "outputId": "8e33577f-7505-4442-fc2e-e55014d0f49c"
   },
   "outputs": [
    {
     "data": {
      "text/plain": [
       "<Axes: >"
      ]
     },
     "execution_count": 93,
     "metadata": {},
     "output_type": "execute_result"
    },
    {
     "data": {
      "image/png": "[encoded data removed]",
      "text/plain": [
       "<Figure size 640x480 with 1 Axes>"
      ]
     },
     "metadata": {},
     "output_type": "display_data"
    }
   ],
   "source": [
    "north_mask = [minx, mid_y, maxx, maxy]\n",
    "south_mask = [minx, minx, maxx, mid_y]\n",
    "\n",
    "# split Brazil\n",
    "states_brazil5880.clip(north_mask).plot(edgecolor=\"yellow\")"
   ]
  },
  {
   "cell_type": "code",
   "execution_count": 94,
   "id": "1b9e1c22-e6ec-4671-b60c-a946bccb7791",
   "metadata": {},
   "outputs": [
    {
     "data": {
      "text/plain": [
       "<Axes: >"
      ]
     },
     "execution_count": 94,
     "metadata": {},
     "output_type": "execute_result"
    },
    {
     "data": {
      "image/png": "[encoded data removed]",
      "text/plain": [
       "<Figure size 640x480 with 1 Axes>"
      ]
     },
     "metadata": {},
     "output_type": "display_data"
    }
   ],
   "source": [
    "states_brazil5880.clip(south_mask).plot(edgecolor=\"yellow\")"
   ]
  },
  {
   "cell_type": "markdown",
   "id": "f465c328-5cb2-49ce-a90a-37419ade4a6f",
   "metadata": {},
   "source": [
    "As you see, with clip we can cut polygons."
   ]
  },
  {
   "cell_type": "markdown",
   "id": "b5c4eee9-24fc-4fa2-a639-9d774eb60825",
   "metadata": {},
   "source": [
    "## Spatial Joins\n",
    "\n",
    "We’re familiar with **merging**, which joins tables using common keys. Spatial joins, by contrast, rely solely on **geometry columns** to perform various types of filtering. \n",
    "\n",
    "Let me use the brazilian large airports and states:"
   ]
  },
  {
   "cell_type": "code",
   "execution_count": 97,
   "id": "a0dfc63d-650e-4f89-bd29-817a42534b8e",
   "metadata": {},
   "outputs": [
    {
     "data": {
      "text/html": [
       "<div>\n",
       "<style scoped>\n",
       "    .dataframe tbody tr th:only-of-type {\n",
       "        vertical-align: middle;\n",
       "    }\n",
       "\n",
       "    .dataframe tbody tr th {\n",
       "        vertical-align: top;\n",
       "    }\n",
       "\n",
       "    .dataframe thead th {\n",
       "        text-align: right;\n",
       "    }\n",
       "</style>\n",
       "<table border=\"1\" class=\"dataframe\">\n",
       "  <thead>\n",
       "    <tr style=\"text-align: right;\">\n",
       "      <th></th>\n",
       "      <th>airport_name</th>\n",
       "      <th>airport_type</th>\n",
       "      <th>elevation_ft</th>\n",
       "      <th>region</th>\n",
       "      <th>municipality</th>\n",
       "      <th>geometry</th>\n",
       "    </tr>\n",
       "  </thead>\n",
       "  <tbody>\n",
       "    <tr>\n",
       "      <th>0</th>\n",
       "      <td>Guarulhos - Governador André Franco Montoro In...</td>\n",
       "      <td>large_airport</td>\n",
       "      <td>2461.0</td>\n",
       "      <td>São Paulo</td>\n",
       "      <td>São Paulo</td>\n",
       "      <td>POINT (5769392.959 7387510.487)</td>\n",
       "    </tr>\n",
       "    <tr>\n",
       "      <th>1</th>\n",
       "      <td>Rio Galeão – Tom Jobim International Airport</td>\n",
       "      <td>large_airport</td>\n",
       "      <td>28.0</td>\n",
       "      <td>Rio de Janeiro</td>\n",
       "      <td>Rio De Janeiro</td>\n",
       "      <td>POINT (6102623.812 7436387.271)</td>\n",
       "    </tr>\n",
       "    <tr>\n",
       "      <th>4</th>\n",
       "      <td>Presidente Juscelino Kubitschek International ...</td>\n",
       "      <td>large_airport</td>\n",
       "      <td>3497.0</td>\n",
       "      <td>Distrito Federal</td>\n",
       "      <td>Brasília</td>\n",
       "      <td>POINT (5651010.181 8235390.09)</td>\n",
       "    </tr>\n",
       "    <tr>\n",
       "      <th>5</th>\n",
       "      <td>Deputado Luiz Eduardo Magalhães International ...</td>\n",
       "      <td>large_airport</td>\n",
       "      <td>64.0</td>\n",
       "      <td>Bahia</td>\n",
       "      <td>Salvador</td>\n",
       "      <td>POINT (6700330.807 8520415.591)</td>\n",
       "    </tr>\n",
       "    <tr>\n",
       "      <th>9</th>\n",
       "      <td>Tancredo Neves International Airport</td>\n",
       "      <td>large_airport</td>\n",
       "      <td>2721.0</td>\n",
       "      <td>Minas Gerais</td>\n",
       "      <td>Belo Horizonte</td>\n",
       "      <td>POINT (6051718.72 7797008.905)</td>\n",
       "    </tr>\n",
       "  </tbody>\n",
       "</table>\n",
       "</div>"
      ],
      "text/plain": [
       "                                        airport_name   airport_type  \\\n",
       "0  Guarulhos - Governador André Franco Montoro In...  large_airport   \n",
       "1       Rio Galeão – Tom Jobim International Airport  large_airport   \n",
       "4  Presidente Juscelino Kubitschek International ...  large_airport   \n",
       "5  Deputado Luiz Eduardo Magalhães International ...  large_airport   \n",
       "9               Tancredo Neves International Airport  large_airport   \n",
       "\n",
       "   elevation_ft            region    municipality  \\\n",
       "0        2461.0         São Paulo       São Paulo   \n",
       "1          28.0    Rio de Janeiro  Rio De Janeiro   \n",
       "4        3497.0  Distrito Federal        Brasília   \n",
       "5          64.0             Bahia        Salvador   \n",
       "9        2721.0      Minas Gerais  Belo Horizonte   \n",
       "\n",
       "                          geometry  \n",
       "0  POINT (5769392.959 7387510.487)  \n",
       "1  POINT (6102623.812 7436387.271)  \n",
       "4   POINT (5651010.181 8235390.09)  \n",
       "5  POINT (6700330.807 8520415.591)  \n",
       "9   POINT (6051718.72 7797008.905)  "
      ]
     },
     "execution_count": 97,
     "metadata": {},
     "output_type": "execute_result"
    }
   ],
   "source": [
    "large_airports=airports_brazil5880[airports_brazil5880.airport_type=='large_airport']\n",
    "large_airports.head()"
   ]
  },
  {
   "cell_type": "markdown",
   "id": "b887209c-7a1a-4a3c-a79e-e74321e373ad",
   "metadata": {},
   "source": [
    "...and:"
   ]
  },
  {
   "cell_type": "code",
   "execution_count": 98,
   "id": "e30b503a-c304-4615-aa27-72a66a3a3cc9",
   "metadata": {},
   "outputs": [
    {
     "data": {
      "text/html": [
       "<div>\n",
       "<style scoped>\n",
       "    .dataframe tbody tr th:only-of-type {\n",
       "        vertical-align: middle;\n",
       "    }\n",
       "\n",
       "    .dataframe tbody tr th {\n",
       "        vertical-align: top;\n",
       "    }\n",
       "\n",
       "    .dataframe thead th {\n",
       "        text-align: right;\n",
       "    }\n",
       "</style>\n",
       "<table border=\"1\" class=\"dataframe\">\n",
       "  <thead>\n",
       "    <tr style=\"text-align: right;\">\n",
       "      <th></th>\n",
       "      <th>state_name</th>\n",
       "      <th>state_code</th>\n",
       "      <th>geometry</th>\n",
       "    </tr>\n",
       "  </thead>\n",
       "  <tbody>\n",
       "    <tr>\n",
       "      <th>0</th>\n",
       "      <td>Acre</td>\n",
       "      <td>BR12</td>\n",
       "      <td>MULTIPOLYGON (((3374854.317 8740996.704, 33745...</td>\n",
       "    </tr>\n",
       "    <tr>\n",
       "      <th>1</th>\n",
       "      <td>Alagoas</td>\n",
       "      <td>BR27</td>\n",
       "      <td>MULTIPOLYGON (((7038407.237 8973545.06, 703823...</td>\n",
       "    </tr>\n",
       "    <tr>\n",
       "      <th>2</th>\n",
       "      <td>Amapá</td>\n",
       "      <td>BR16</td>\n",
       "      <td>MULTIPOLYGON (((5393641.625 10233907.833, 5394...</td>\n",
       "    </tr>\n",
       "    <tr>\n",
       "      <th>3</th>\n",
       "      <td>Amazonas</td>\n",
       "      <td>BR13</td>\n",
       "      <td>MULTIPOLYGON (((4499820.936 9906611.648, 45003...</td>\n",
       "    </tr>\n",
       "    <tr>\n",
       "      <th>4</th>\n",
       "      <td>Bahia</td>\n",
       "      <td>BR29</td>\n",
       "      <td>MULTIPOLYGON (((6618113.779 7946308.264, 66178...</td>\n",
       "    </tr>\n",
       "  </tbody>\n",
       "</table>\n",
       "</div>"
      ],
      "text/plain": [
       "  state_name state_code                                           geometry\n",
       "0       Acre       BR12  MULTIPOLYGON (((3374854.317 8740996.704, 33745...\n",
       "1    Alagoas       BR27  MULTIPOLYGON (((7038407.237 8973545.06, 703823...\n",
       "2      Amapá       BR16  MULTIPOLYGON (((5393641.625 10233907.833, 5394...\n",
       "3   Amazonas       BR13  MULTIPOLYGON (((4499820.936 9906611.648, 45003...\n",
       "4      Bahia       BR29  MULTIPOLYGON (((6618113.779 7946308.264, 66178..."
      ]
     },
     "execution_count": 98,
     "metadata": {},
     "output_type": "execute_result"
    }
   ],
   "source": [
    "states_brazil5880.head()"
   ]
  },
  {
   "cell_type": "markdown",
   "id": "92e16665-bba3-462b-a6cb-971fd2cac082",
   "metadata": {},
   "source": [
    "Let's keep (filter):\n",
    "> The large airports whose geometries are within the borders of a state in Brazil."
   ]
  },
  {
   "cell_type": "code",
   "execution_count": 99,
   "id": "e4093e9f-2149-4390-b7fb-676b6a24beff",
   "metadata": {},
   "outputs": [
    {
     "data": {
      "text/html": [
       "<div>\n",
       "<style scoped>\n",
       "    .dataframe tbody tr th:only-of-type {\n",
       "        vertical-align: middle;\n",
       "    }\n",
       "\n",
       "    .dataframe tbody tr th {\n",
       "        vertical-align: top;\n",
       "    }\n",
       "\n",
       "    .dataframe thead th {\n",
       "        text-align: right;\n",
       "    }\n",
       "</style>\n",
       "<table border=\"1\" class=\"dataframe\">\n",
       "  <thead>\n",
       "    <tr style=\"text-align: right;\">\n",
       "      <th></th>\n",
       "      <th>airport_name</th>\n",
       "      <th>airport_type</th>\n",
       "      <th>elevation_ft</th>\n",
       "      <th>region</th>\n",
       "      <th>municipality</th>\n",
       "      <th>geometry</th>\n",
       "      <th>index_right</th>\n",
       "      <th>state_name</th>\n",
       "      <th>state_code</th>\n",
       "    </tr>\n",
       "  </thead>\n",
       "  <tbody>\n",
       "    <tr>\n",
       "      <th>0</th>\n",
       "      <td>Guarulhos - Governador André Franco Montoro In...</td>\n",
       "      <td>large_airport</td>\n",
       "      <td>2461.0</td>\n",
       "      <td>São Paulo</td>\n",
       "      <td>São Paulo</td>\n",
       "      <td>POINT (5769392.959 7387510.487)</td>\n",
       "      <td>24</td>\n",
       "      <td>São Paulo</td>\n",
       "      <td>BR35</td>\n",
       "    </tr>\n",
       "    <tr>\n",
       "      <th>1</th>\n",
       "      <td>Rio Galeão – Tom Jobim International Airport</td>\n",
       "      <td>large_airport</td>\n",
       "      <td>28.0</td>\n",
       "      <td>Rio de Janeiro</td>\n",
       "      <td>Rio De Janeiro</td>\n",
       "      <td>POINT (6102623.812 7436387.271)</td>\n",
       "      <td>18</td>\n",
       "      <td>Rio de Janeiro</td>\n",
       "      <td>BR33</td>\n",
       "    </tr>\n",
       "    <tr>\n",
       "      <th>4</th>\n",
       "      <td>Presidente Juscelino Kubitschek International ...</td>\n",
       "      <td>large_airport</td>\n",
       "      <td>3497.0</td>\n",
       "      <td>Distrito Federal</td>\n",
       "      <td>Brasília</td>\n",
       "      <td>POINT (5651010.181 8235390.09)</td>\n",
       "      <td>6</td>\n",
       "      <td>Distrito Federal</td>\n",
       "      <td>BR53</td>\n",
       "    </tr>\n",
       "    <tr>\n",
       "      <th>5</th>\n",
       "      <td>Deputado Luiz Eduardo Magalhães International ...</td>\n",
       "      <td>large_airport</td>\n",
       "      <td>64.0</td>\n",
       "      <td>Bahia</td>\n",
       "      <td>Salvador</td>\n",
       "      <td>POINT (6700330.807 8520415.591)</td>\n",
       "      <td>4</td>\n",
       "      <td>Bahia</td>\n",
       "      <td>BR29</td>\n",
       "    </tr>\n",
       "    <tr>\n",
       "      <th>9</th>\n",
       "      <td>Tancredo Neves International Airport</td>\n",
       "      <td>large_airport</td>\n",
       "      <td>2721.0</td>\n",
       "      <td>Minas Gerais</td>\n",
       "      <td>Belo Horizonte</td>\n",
       "      <td>POINT (6051718.72 7797008.905)</td>\n",
       "      <td>12</td>\n",
       "      <td>Minas Gerais</td>\n",
       "      <td>BR31</td>\n",
       "    </tr>\n",
       "    <tr>\n",
       "      <th>12</th>\n",
       "      <td>Eduardo Gomes International Airport</td>\n",
       "      <td>large_airport</td>\n",
       "      <td>264.0</td>\n",
       "      <td>Amazonas</td>\n",
       "      <td>Manaus</td>\n",
       "      <td>POINT (4327494.283 9662122.706)</td>\n",
       "      <td>3</td>\n",
       "      <td>Amazonas</td>\n",
       "      <td>BR13</td>\n",
       "    </tr>\n",
       "    <tr>\n",
       "      <th>14</th>\n",
       "      <td>Hercílio Luz International Airport</td>\n",
       "      <td>large_airport</td>\n",
       "      <td>16.0</td>\n",
       "      <td>Santa Catarina</td>\n",
       "      <td>Florianópolis</td>\n",
       "      <td>POINT (5537273.577 6926234.097)</td>\n",
       "      <td>23</td>\n",
       "      <td>Santa Catarina</td>\n",
       "      <td>BR42</td>\n",
       "    </tr>\n",
       "    <tr>\n",
       "      <th>16</th>\n",
       "      <td>Val de Cans/Júlio Cezar Ribeiro International ...</td>\n",
       "      <td>large_airport</td>\n",
       "      <td>54.0</td>\n",
       "      <td>Pará</td>\n",
       "      <td>Belém</td>\n",
       "      <td>POINT (5614728.302 9846773.655)</td>\n",
       "      <td>13</td>\n",
       "      <td>Pará</td>\n",
       "      <td>BR15</td>\n",
       "    </tr>\n",
       "  </tbody>\n",
       "</table>\n",
       "</div>"
      ],
      "text/plain": [
       "                                         airport_name   airport_type  \\\n",
       "0   Guarulhos - Governador André Franco Montoro In...  large_airport   \n",
       "1        Rio Galeão – Tom Jobim International Airport  large_airport   \n",
       "4   Presidente Juscelino Kubitschek International ...  large_airport   \n",
       "5   Deputado Luiz Eduardo Magalhães International ...  large_airport   \n",
       "9                Tancredo Neves International Airport  large_airport   \n",
       "12                Eduardo Gomes International Airport  large_airport   \n",
       "14                 Hercílio Luz International Airport  large_airport   \n",
       "16  Val de Cans/Júlio Cezar Ribeiro International ...  large_airport   \n",
       "\n",
       "    elevation_ft            region    municipality  \\\n",
       "0         2461.0         São Paulo       São Paulo   \n",
       "1           28.0    Rio de Janeiro  Rio De Janeiro   \n",
       "4         3497.0  Distrito Federal        Brasília   \n",
       "5           64.0             Bahia        Salvador   \n",
       "9         2721.0      Minas Gerais  Belo Horizonte   \n",
       "12         264.0          Amazonas          Manaus   \n",
       "14          16.0    Santa Catarina   Florianópolis   \n",
       "16          54.0              Pará           Belém   \n",
       "\n",
       "                           geometry  index_right        state_name state_code  \n",
       "0   POINT (5769392.959 7387510.487)           24         São Paulo       BR35  \n",
       "1   POINT (6102623.812 7436387.271)           18    Rio de Janeiro       BR33  \n",
       "4    POINT (5651010.181 8235390.09)            6  Distrito Federal       BR53  \n",
       "5   POINT (6700330.807 8520415.591)            4             Bahia       BR29  \n",
       "9    POINT (6051718.72 7797008.905)           12      Minas Gerais       BR31  \n",
       "12  POINT (4327494.283 9662122.706)            3          Amazonas       BR13  \n",
       "14  POINT (5537273.577 6926234.097)           23    Santa Catarina       BR42  \n",
       "16  POINT (5614728.302 9846773.655)           13              Pará       BR15  "
      ]
     },
     "execution_count": 99,
     "metadata": {},
     "output_type": "execute_result"
    }
   ],
   "source": [
    "airports_within_states = gpd.sjoin(\n",
    "    large_airports,         # LEFT: airports we want to filter/keep\n",
    "    states_brazil5880,      # RIGHT: spatial boundaries to check against\n",
    "    how='inner',            # return geometries that match in both LEFT/RIGHT (jointype)\n",
    "    predicate='within'      # spatial condition: LEFT geometry within RIGHT geometry\n",
    ")\n",
    "\n",
    "# these are:\n",
    "airports_within_states"
   ]
  },
  {
   "cell_type": "markdown",
   "id": "9a8607e8-a979-4cdb-b980-83d474c2418d",
   "metadata": {},
   "source": [
    "We just performed a point-to-polygon spatial join.\n",
    "Notice that the result preserves the original geometries from the LEFT GeoDataFrame — specifically, only those features whose spatial relationship satisfied both the predicate (e.g., 'within') and the join type ('inner').\n",
    "The non-geometric attributes (columns) from the RIGHT GeoDataFrame are joined to the matching rows.\n",
    "\n",
    "Importantly, if the LEFT GeoDataFrame contains polygons and the RIGHT contains points (a polygon-to-point join), you’ll typically need to use a different predicate — such as 'contains' — to express the spatial relationship correctly.\n",
    "\n",
    "> Brazilian states that house large airports"
   ]
  },
  {
   "cell_type": "code",
   "execution_count": 100,
   "id": "86d0683e-21fd-4300-a04e-59cc7392ef25",
   "metadata": {},
   "outputs": [
    {
     "data": {
      "text/html": [
       "<div>\n",
       "<style scoped>\n",
       "    .dataframe tbody tr th:only-of-type {\n",
       "        vertical-align: middle;\n",
       "    }\n",
       "\n",
       "    .dataframe tbody tr th {\n",
       "        vertical-align: top;\n",
       "    }\n",
       "\n",
       "    .dataframe thead th {\n",
       "        text-align: right;\n",
       "    }\n",
       "</style>\n",
       "<table border=\"1\" class=\"dataframe\">\n",
       "  <thead>\n",
       "    <tr style=\"text-align: right;\">\n",
       "      <th></th>\n",
       "      <th>state_name</th>\n",
       "      <th>state_code</th>\n",
       "      <th>geometry</th>\n",
       "      <th>index_right</th>\n",
       "      <th>airport_name</th>\n",
       "      <th>airport_type</th>\n",
       "      <th>elevation_ft</th>\n",
       "      <th>region</th>\n",
       "      <th>municipality</th>\n",
       "    </tr>\n",
       "  </thead>\n",
       "  <tbody>\n",
       "    <tr>\n",
       "      <th>3</th>\n",
       "      <td>Amazonas</td>\n",
       "      <td>BR13</td>\n",
       "      <td>MULTIPOLYGON (((4499820.936 9906611.648, 45003...</td>\n",
       "      <td>12</td>\n",
       "      <td>Eduardo Gomes International Airport</td>\n",
       "      <td>large_airport</td>\n",
       "      <td>264.0</td>\n",
       "      <td>Amazonas</td>\n",
       "      <td>Manaus</td>\n",
       "    </tr>\n",
       "    <tr>\n",
       "      <th>4</th>\n",
       "      <td>Bahia</td>\n",
       "      <td>BR29</td>\n",
       "      <td>MULTIPOLYGON (((6618113.779 7946308.264, 66178...</td>\n",
       "      <td>5</td>\n",
       "      <td>Deputado Luiz Eduardo Magalhães International ...</td>\n",
       "      <td>large_airport</td>\n",
       "      <td>64.0</td>\n",
       "      <td>Bahia</td>\n",
       "      <td>Salvador</td>\n",
       "    </tr>\n",
       "    <tr>\n",
       "      <th>6</th>\n",
       "      <td>Distrito Federal</td>\n",
       "      <td>BR53</td>\n",
       "      <td>MULTIPOLYGON (((5709200.339 8232316.484, 57090...</td>\n",
       "      <td>4</td>\n",
       "      <td>Presidente Juscelino Kubitschek International ...</td>\n",
       "      <td>large_airport</td>\n",
       "      <td>3497.0</td>\n",
       "      <td>Distrito Federal</td>\n",
       "      <td>Brasília</td>\n",
       "    </tr>\n",
       "    <tr>\n",
       "      <th>12</th>\n",
       "      <td>Minas Gerais</td>\n",
       "      <td>BR31</td>\n",
       "      <td>MULTIPOLYGON (((5730280.854 8106234.254, 57299...</td>\n",
       "      <td>9</td>\n",
       "      <td>Tancredo Neves International Airport</td>\n",
       "      <td>large_airport</td>\n",
       "      <td>2721.0</td>\n",
       "      <td>Minas Gerais</td>\n",
       "      <td>Belo Horizonte</td>\n",
       "    </tr>\n",
       "    <tr>\n",
       "      <th>13</th>\n",
       "      <td>Pará</td>\n",
       "      <td>BR15</td>\n",
       "      <td>MULTIPOLYGON (((5842059.053 9886741.08, 584156...</td>\n",
       "      <td>16</td>\n",
       "      <td>Val de Cans/Júlio Cezar Ribeiro International ...</td>\n",
       "      <td>large_airport</td>\n",
       "      <td>54.0</td>\n",
       "      <td>Pará</td>\n",
       "      <td>Belém</td>\n",
       "    </tr>\n",
       "    <tr>\n",
       "      <th>18</th>\n",
       "      <td>Rio de Janeiro</td>\n",
       "      <td>BR33</td>\n",
       "      <td>MULTIPOLYGON (((5957764.631 7386508.56, 595773...</td>\n",
       "      <td>1</td>\n",
       "      <td>Rio Galeão – Tom Jobim International Airport</td>\n",
       "      <td>large_airport</td>\n",
       "      <td>28.0</td>\n",
       "      <td>Rio de Janeiro</td>\n",
       "      <td>Rio De Janeiro</td>\n",
       "    </tr>\n",
       "    <tr>\n",
       "      <th>23</th>\n",
       "      <td>Santa Catarina</td>\n",
       "      <td>BR42</td>\n",
       "      <td>MULTIPOLYGON (((5384989.919 6745543.64, 538466...</td>\n",
       "      <td>14</td>\n",
       "      <td>Hercílio Luz International Airport</td>\n",
       "      <td>large_airport</td>\n",
       "      <td>16.0</td>\n",
       "      <td>Santa Catarina</td>\n",
       "      <td>Florianópolis</td>\n",
       "    </tr>\n",
       "    <tr>\n",
       "      <th>24</th>\n",
       "      <td>São Paulo</td>\n",
       "      <td>BR35</td>\n",
       "      <td>MULTIPOLYGON (((5619062.728 7205958.887, 56186...</td>\n",
       "      <td>0</td>\n",
       "      <td>Guarulhos - Governador André Franco Montoro In...</td>\n",
       "      <td>large_airport</td>\n",
       "      <td>2461.0</td>\n",
       "      <td>São Paulo</td>\n",
       "      <td>São Paulo</td>\n",
       "    </tr>\n",
       "  </tbody>\n",
       "</table>\n",
       "</div>"
      ],
      "text/plain": [
       "          state_name state_code  \\\n",
       "3           Amazonas       BR13   \n",
       "4              Bahia       BR29   \n",
       "6   Distrito Federal       BR53   \n",
       "12      Minas Gerais       BR31   \n",
       "13              Pará       BR15   \n",
       "18    Rio de Janeiro       BR33   \n",
       "23    Santa Catarina       BR42   \n",
       "24         São Paulo       BR35   \n",
       "\n",
       "                                             geometry  index_right  \\\n",
       "3   MULTIPOLYGON (((4499820.936 9906611.648, 45003...           12   \n",
       "4   MULTIPOLYGON (((6618113.779 7946308.264, 66178...            5   \n",
       "6   MULTIPOLYGON (((5709200.339 8232316.484, 57090...            4   \n",
       "12  MULTIPOLYGON (((5730280.854 8106234.254, 57299...            9   \n",
       "13  MULTIPOLYGON (((5842059.053 9886741.08, 584156...           16   \n",
       "18  MULTIPOLYGON (((5957764.631 7386508.56, 595773...            1   \n",
       "23  MULTIPOLYGON (((5384989.919 6745543.64, 538466...           14   \n",
       "24  MULTIPOLYGON (((5619062.728 7205958.887, 56186...            0   \n",
       "\n",
       "                                         airport_name   airport_type  \\\n",
       "3                 Eduardo Gomes International Airport  large_airport   \n",
       "4   Deputado Luiz Eduardo Magalhães International ...  large_airport   \n",
       "6   Presidente Juscelino Kubitschek International ...  large_airport   \n",
       "12               Tancredo Neves International Airport  large_airport   \n",
       "13  Val de Cans/Júlio Cezar Ribeiro International ...  large_airport   \n",
       "18       Rio Galeão – Tom Jobim International Airport  large_airport   \n",
       "23                 Hercílio Luz International Airport  large_airport   \n",
       "24  Guarulhos - Governador André Franco Montoro In...  large_airport   \n",
       "\n",
       "    elevation_ft            region    municipality  \n",
       "3          264.0          Amazonas          Manaus  \n",
       "4           64.0             Bahia        Salvador  \n",
       "6         3497.0  Distrito Federal        Brasília  \n",
       "12        2721.0      Minas Gerais  Belo Horizonte  \n",
       "13          54.0              Pará           Belém  \n",
       "18          28.0    Rio de Janeiro  Rio De Janeiro  \n",
       "23          16.0    Santa Catarina   Florianópolis  \n",
       "24        2461.0         São Paulo       São Paulo  "
      ]
     },
     "execution_count": 100,
     "metadata": {},
     "output_type": "execute_result"
    }
   ],
   "source": [
    "states_containing_LargeAirports = gpd.sjoin(states_brazil5880,large_airports,how='inner',\n",
    "                                            predicate='contains')\n",
    "\n",
    "states_containing_LargeAirports"
   ]
  },
  {
   "cell_type": "markdown",
   "id": "1d051af3-f9e2-47f2-974a-f22731bcab89",
   "metadata": {},
   "source": [
    "'Contains' is literally strict: Any airport located exactly on a state boundary — whether due to data precision, snapping, or real geography — will be excluded, even if it’s “practically” inside the state.\n",
    "\n",
    "> Large airports whose location is anywhere belonging to a particular state"
   ]
  },
  {
   "cell_type": "code",
   "execution_count": 101,
   "id": "ed58e5eb-663f-4973-b6c0-f9e1a00f6532",
   "metadata": {},
   "outputs": [
    {
     "data": {
      "text/html": [
       "<div>\n",
       "<style scoped>\n",
       "    .dataframe tbody tr th:only-of-type {\n",
       "        vertical-align: middle;\n",
       "    }\n",
       "\n",
       "    .dataframe tbody tr th {\n",
       "        vertical-align: top;\n",
       "    }\n",
       "\n",
       "    .dataframe thead th {\n",
       "        text-align: right;\n",
       "    }\n",
       "</style>\n",
       "<table border=\"1\" class=\"dataframe\">\n",
       "  <thead>\n",
       "    <tr style=\"text-align: right;\">\n",
       "      <th></th>\n",
       "      <th>state_name</th>\n",
       "      <th>state_code</th>\n",
       "      <th>geometry</th>\n",
       "      <th>index_right</th>\n",
       "      <th>airport_name</th>\n",
       "      <th>airport_type</th>\n",
       "      <th>elevation_ft</th>\n",
       "      <th>region</th>\n",
       "      <th>municipality</th>\n",
       "    </tr>\n",
       "  </thead>\n",
       "  <tbody>\n",
       "    <tr>\n",
       "      <th>3</th>\n",
       "      <td>Amazonas</td>\n",
       "      <td>BR13</td>\n",
       "      <td>MULTIPOLYGON (((4499820.936 9906611.648, 45003...</td>\n",
       "      <td>12</td>\n",
       "      <td>Eduardo Gomes International Airport</td>\n",
       "      <td>large_airport</td>\n",
       "      <td>264.0</td>\n",
       "      <td>Amazonas</td>\n",
       "      <td>Manaus</td>\n",
       "    </tr>\n",
       "    <tr>\n",
       "      <th>4</th>\n",
       "      <td>Bahia</td>\n",
       "      <td>BR29</td>\n",
       "      <td>MULTIPOLYGON (((6618113.779 7946308.264, 66178...</td>\n",
       "      <td>5</td>\n",
       "      <td>Deputado Luiz Eduardo Magalhães International ...</td>\n",
       "      <td>large_airport</td>\n",
       "      <td>64.0</td>\n",
       "      <td>Bahia</td>\n",
       "      <td>Salvador</td>\n",
       "    </tr>\n",
       "    <tr>\n",
       "      <th>6</th>\n",
       "      <td>Distrito Federal</td>\n",
       "      <td>BR53</td>\n",
       "      <td>MULTIPOLYGON (((5709200.339 8232316.484, 57090...</td>\n",
       "      <td>4</td>\n",
       "      <td>Presidente Juscelino Kubitschek International ...</td>\n",
       "      <td>large_airport</td>\n",
       "      <td>3497.0</td>\n",
       "      <td>Distrito Federal</td>\n",
       "      <td>Brasília</td>\n",
       "    </tr>\n",
       "    <tr>\n",
       "      <th>12</th>\n",
       "      <td>Minas Gerais</td>\n",
       "      <td>BR31</td>\n",
       "      <td>MULTIPOLYGON (((5730280.854 8106234.254, 57299...</td>\n",
       "      <td>9</td>\n",
       "      <td>Tancredo Neves International Airport</td>\n",
       "      <td>large_airport</td>\n",
       "      <td>2721.0</td>\n",
       "      <td>Minas Gerais</td>\n",
       "      <td>Belo Horizonte</td>\n",
       "    </tr>\n",
       "    <tr>\n",
       "      <th>13</th>\n",
       "      <td>Pará</td>\n",
       "      <td>BR15</td>\n",
       "      <td>MULTIPOLYGON (((5842059.053 9886741.08, 584156...</td>\n",
       "      <td>16</td>\n",
       "      <td>Val de Cans/Júlio Cezar Ribeiro International ...</td>\n",
       "      <td>large_airport</td>\n",
       "      <td>54.0</td>\n",
       "      <td>Pará</td>\n",
       "      <td>Belém</td>\n",
       "    </tr>\n",
       "    <tr>\n",
       "      <th>18</th>\n",
       "      <td>Rio de Janeiro</td>\n",
       "      <td>BR33</td>\n",
       "      <td>MULTIPOLYGON (((5957764.631 7386508.56, 595773...</td>\n",
       "      <td>1</td>\n",
       "      <td>Rio Galeão – Tom Jobim International Airport</td>\n",
       "      <td>large_airport</td>\n",
       "      <td>28.0</td>\n",
       "      <td>Rio de Janeiro</td>\n",
       "      <td>Rio De Janeiro</td>\n",
       "    </tr>\n",
       "    <tr>\n",
       "      <th>23</th>\n",
       "      <td>Santa Catarina</td>\n",
       "      <td>BR42</td>\n",
       "      <td>MULTIPOLYGON (((5384989.919 6745543.64, 538466...</td>\n",
       "      <td>14</td>\n",
       "      <td>Hercílio Luz International Airport</td>\n",
       "      <td>large_airport</td>\n",
       "      <td>16.0</td>\n",
       "      <td>Santa Catarina</td>\n",
       "      <td>Florianópolis</td>\n",
       "    </tr>\n",
       "    <tr>\n",
       "      <th>24</th>\n",
       "      <td>São Paulo</td>\n",
       "      <td>BR35</td>\n",
       "      <td>MULTIPOLYGON (((5619062.728 7205958.887, 56186...</td>\n",
       "      <td>0</td>\n",
       "      <td>Guarulhos - Governador André Franco Montoro In...</td>\n",
       "      <td>large_airport</td>\n",
       "      <td>2461.0</td>\n",
       "      <td>São Paulo</td>\n",
       "      <td>São Paulo</td>\n",
       "    </tr>\n",
       "  </tbody>\n",
       "</table>\n",
       "</div>"
      ],
      "text/plain": [
       "          state_name state_code  \\\n",
       "3           Amazonas       BR13   \n",
       "4              Bahia       BR29   \n",
       "6   Distrito Federal       BR53   \n",
       "12      Minas Gerais       BR31   \n",
       "13              Pará       BR15   \n",
       "18    Rio de Janeiro       BR33   \n",
       "23    Santa Catarina       BR42   \n",
       "24         São Paulo       BR35   \n",
       "\n",
       "                                             geometry  index_right  \\\n",
       "3   MULTIPOLYGON (((4499820.936 9906611.648, 45003...           12   \n",
       "4   MULTIPOLYGON (((6618113.779 7946308.264, 66178...            5   \n",
       "6   MULTIPOLYGON (((5709200.339 8232316.484, 57090...            4   \n",
       "12  MULTIPOLYGON (((5730280.854 8106234.254, 57299...            9   \n",
       "13  MULTIPOLYGON (((5842059.053 9886741.08, 584156...           16   \n",
       "18  MULTIPOLYGON (((5957764.631 7386508.56, 595773...            1   \n",
       "23  MULTIPOLYGON (((5384989.919 6745543.64, 538466...           14   \n",
       "24  MULTIPOLYGON (((5619062.728 7205958.887, 56186...            0   \n",
       "\n",
       "                                         airport_name   airport_type  \\\n",
       "3                 Eduardo Gomes International Airport  large_airport   \n",
       "4   Deputado Luiz Eduardo Magalhães International ...  large_airport   \n",
       "6   Presidente Juscelino Kubitschek International ...  large_airport   \n",
       "12               Tancredo Neves International Airport  large_airport   \n",
       "13  Val de Cans/Júlio Cezar Ribeiro International ...  large_airport   \n",
       "18       Rio Galeão – Tom Jobim International Airport  large_airport   \n",
       "23                 Hercílio Luz International Airport  large_airport   \n",
       "24  Guarulhos - Governador André Franco Montoro In...  large_airport   \n",
       "\n",
       "    elevation_ft            region    municipality  \n",
       "3          264.0          Amazonas          Manaus  \n",
       "4           64.0             Bahia        Salvador  \n",
       "6         3497.0  Distrito Federal        Brasília  \n",
       "12        2721.0      Minas Gerais  Belo Horizonte  \n",
       "13          54.0              Pará           Belém  \n",
       "18          28.0    Rio de Janeiro  Rio De Janeiro  \n",
       "23          16.0    Santa Catarina   Florianópolis  \n",
       "24        2461.0         São Paulo       São Paulo  "
      ]
     },
     "execution_count": 101,
     "metadata": {},
     "output_type": "execute_result"
    }
   ],
   "source": [
    "## Intersects needs at least a common point between both GeoDFs. \n",
    "gpd.sjoin(states_brazil5880,large_airports,\n",
    "          how='inner', predicate='intersects')"
   ]
  },
  {
   "cell_type": "markdown",
   "id": "fa2ca902-c593-4b74-a33a-8169a49c0250",
   "metadata": {},
   "source": [
    "We also have 'touches', a more stringent predicate than 'intersects'. It returns geometries that:\n",
    " - Share a border (for polygons or lines), or\n",
    " - Contact at exactly one point (for points or endpoints).\n",
    "\n",
    "> Which states are neighbors of 'BAHIA\", including BAHIA"
   ]
  },
  {
   "cell_type": "code",
   "execution_count": 103,
   "id": "9c2276e2-4e96-43b3-ab33-45f90eeea7fc",
   "metadata": {},
   "outputs": [
    {
     "data": {
      "text/plain": [
       "(6, 6)"
      ]
     },
     "execution_count": 103,
     "metadata": {},
     "output_type": "execute_result"
    }
   ],
   "source": [
    "# Neighbors of Bahia?\n",
    "gpd.sjoin(N_brazil.loc[N_brazil.state_name=='Bahia',:],N_brazil,how='inner', predicate='intersects').shape"
   ]
  },
  {
   "cell_type": "markdown",
   "id": "f862a19d-e5ec-4268-b126-dcbab84693c3",
   "metadata": {},
   "source": [
    "That is, Bahia seems to share borders with 5 states:"
   ]
  },
  {
   "cell_type": "code",
   "execution_count": 104,
   "id": "65d81e9d-b406-47de-9b06-dd26ed2b58d7",
   "metadata": {},
   "outputs": [
    {
     "data": {
      "text/plain": [
       "<Axes: >"
      ]
     },
     "execution_count": 104,
     "metadata": {},
     "output_type": "execute_result"
    },
    {
     "data": {
      "image/png": "[encoded data removed]",
      "text/plain": [
       "<Figure size 640x480 with 1 Axes>"
      ]
     },
     "metadata": {},
     "output_type": "display_data"
    }
   ],
   "source": [
    "base=gpd.sjoin(N_brazil,N_brazil.loc[N_brazil.state_name=='Bahia',:],\n",
    "               how='inner', \n",
    "               predicate='intersects').plot(color='yellow',edgecolor='red')\n",
    "N_brazil.loc[N_brazil.state_name=='Bahia',:].plot(ax=base, color='red')"
   ]
  },
  {
   "cell_type": "markdown",
   "id": "bbe020a9-92cf-40de-8eab-2edb5d9088ee",
   "metadata": {},
   "source": [
    "However, because many free GeoDataFrames — especially those sourced as Shapefiles — contain topological imperfections like gaps, overlaps, or misaligned vertices, 'touches' often fails to detect what should be adjacent features. Ironically, this “failure” can be useful: 'touches' acts as a diagnostic tool — highlighting where boundaries are not perfectly aligned."
   ]
  },
  {
   "cell_type": "code",
   "execution_count": 105,
   "id": "a2fcd8fc-b227-40c4-860e-c6367385d980",
   "metadata": {},
   "outputs": [
    {
     "data": {
      "text/plain": [
       "(4, 6)"
      ]
     },
     "execution_count": 105,
     "metadata": {},
     "output_type": "execute_result"
    }
   ],
   "source": [
    "gpd.sjoin(N_brazil.loc[N_brazil.state_name=='Bahia',:],N_brazil,how='inner', predicate='touches').shape"
   ]
  },
  {
   "cell_type": "markdown",
   "id": "a78b37ed-372c-48db-ad41-193e70866a5c",
   "metadata": {},
   "source": [
    "See the neighbor that disappears:"
   ]
  },
  {
   "cell_type": "code",
   "execution_count": 106,
   "id": "0f7315ce-674e-4ed4-a3ea-c302d5bbdd8b",
   "metadata": {},
   "outputs": [
    {
     "data": {
      "text/plain": [
       "<Axes: >"
      ]
     },
     "execution_count": 106,
     "metadata": {},
     "output_type": "execute_result"
    },
    {
     "data": {
      "image/png": "[encoded data removed]",
      "text/plain": [
       "<Figure size 640x480 with 1 Axes>"
      ]
     },
     "metadata": {},
     "output_type": "display_data"
    }
   ],
   "source": [
    "base=gpd.sjoin(N_brazil,N_brazil.loc[N_brazil.state_name=='Bahia',:],\n",
    "               how='inner', \n",
    "               predicate='touches').plot(color='yellow',edgecolor='red')\n",
    "N_brazil.loc[N_brazil.state_name=='Bahia',:].plot(ax=base, color='red')"
   ]
  },
  {
   "cell_type": "markdown",
   "id": "542dcd95-0a36-4d83-8216-13a7da41b41e",
   "metadata": {},
   "source": [
    "When we have **lines**, we may need **crosses**. Let me subset our rivers:"
   ]
  },
  {
   "cell_type": "code",
   "execution_count": 107,
   "id": "d74706f6-8eb3-4d5a-a5ad-00b896a0738c",
   "metadata": {},
   "outputs": [
    {
     "data": {
      "text/html": [
       "<div>\n",
       "<style scoped>\n",
       "    .dataframe tbody tr th:only-of-type {\n",
       "        vertical-align: middle;\n",
       "    }\n",
       "\n",
       "    .dataframe tbody tr th {\n",
       "        vertical-align: top;\n",
       "    }\n",
       "\n",
       "    .dataframe thead th {\n",
       "        text-align: right;\n",
       "    }\n",
       "</style>\n",
       "<table border=\"1\" class=\"dataframe\">\n",
       "  <thead>\n",
       "    <tr style=\"text-align: right;\">\n",
       "      <th></th>\n",
       "      <th>RIVER</th>\n",
       "      <th>SYSTEM</th>\n",
       "      <th>geometry</th>\n",
       "    </tr>\n",
       "  </thead>\n",
       "  <tbody>\n",
       "    <tr>\n",
       "      <th>38</th>\n",
       "      <td>Madre de Dios</td>\n",
       "      <td>Amazon</td>\n",
       "      <td>LINESTRING (3747782.967 8816805.526, 3784022.8...</td>\n",
       "    </tr>\n",
       "    <tr>\n",
       "      <th>24</th>\n",
       "      <td>Guapore</td>\n",
       "      <td>Amazon</td>\n",
       "      <td>MULTILINESTRING ((3784022.891 8842606.845, 378...</td>\n",
       "    </tr>\n",
       "    <tr>\n",
       "      <th>64</th>\n",
       "      <td>Rio Juruena</td>\n",
       "      <td>Amazon</td>\n",
       "      <td>LINESTRING (4488340.769 8382801.957, 4561243.9...</td>\n",
       "    </tr>\n",
       "    <tr>\n",
       "      <th>68</th>\n",
       "      <td>Rio Teles Pires</td>\n",
       "      <td>Amazon</td>\n",
       "      <td>LINESTRING (4890008.905 8388474.8, 4929569.193...</td>\n",
       "    </tr>\n",
       "    <tr>\n",
       "      <th>92</th>\n",
       "      <td>Xingu</td>\n",
       "      <td>Amazon</td>\n",
       "      <td>MULTILINESTRING ((4921614.129 8334835.678, 503...</td>\n",
       "    </tr>\n",
       "    <tr>\n",
       "      <th>59</th>\n",
       "      <td>Purus</td>\n",
       "      <td>Amazon</td>\n",
       "      <td>LINESTRING (3179817.343 8884480.014, 3233812.4...</td>\n",
       "    </tr>\n",
       "    <tr>\n",
       "      <th>37</th>\n",
       "      <td>Madeira</td>\n",
       "      <td>Amazon</td>\n",
       "      <td>LINESTRING (3784022.891 8842606.845, 3785447.5...</td>\n",
       "    </tr>\n",
       "    <tr>\n",
       "      <th>80</th>\n",
       "      <td>Tapajos</td>\n",
       "      <td>Amazon</td>\n",
       "      <td>LINESTRING (4956154.209 9738475.606, 4908229.1...</td>\n",
       "    </tr>\n",
       "    <tr>\n",
       "      <th>1</th>\n",
       "      <td>Amazon</td>\n",
       "      <td>Amazon</td>\n",
       "      <td>MULTILINESTRING ((4191497.619 9597916.381, 425...</td>\n",
       "    </tr>\n",
       "    <tr>\n",
       "      <th>60</th>\n",
       "      <td>Putamayo</td>\n",
       "      <td>Amazon</td>\n",
       "      <td>LINESTRING (3255840.239 9675268.883, 3294855.9...</td>\n",
       "    </tr>\n",
       "    <tr>\n",
       "      <th>29</th>\n",
       "      <td>Japura</td>\n",
       "      <td>Amazon</td>\n",
       "      <td>MULTILINESTRING ((3782432.967 9748590.005, 382...</td>\n",
       "    </tr>\n",
       "    <tr>\n",
       "      <th>66</th>\n",
       "      <td>Rio Negro</td>\n",
       "      <td>Amazon</td>\n",
       "      <td>MULTILINESTRING ((3592372.872 10116670.869, 35...</td>\n",
       "    </tr>\n",
       "    <tr>\n",
       "      <th>62</th>\n",
       "      <td>Rio Branco</td>\n",
       "      <td>Amazon</td>\n",
       "      <td>LINESTRING (4352974.168 10393701.397, 4312100....</td>\n",
       "    </tr>\n",
       "  </tbody>\n",
       "</table>\n",
       "</div>"
      ],
      "text/plain": [
       "              RIVER  SYSTEM                                           geometry\n",
       "38    Madre de Dios  Amazon  LINESTRING (3747782.967 8816805.526, 3784022.8...\n",
       "24          Guapore  Amazon  MULTILINESTRING ((3784022.891 8842606.845, 378...\n",
       "64      Rio Juruena  Amazon  LINESTRING (4488340.769 8382801.957, 4561243.9...\n",
       "68  Rio Teles Pires  Amazon  LINESTRING (4890008.905 8388474.8, 4929569.193...\n",
       "92            Xingu  Amazon  MULTILINESTRING ((4921614.129 8334835.678, 503...\n",
       "59            Purus  Amazon  LINESTRING (3179817.343 8884480.014, 3233812.4...\n",
       "37          Madeira  Amazon  LINESTRING (3784022.891 8842606.845, 3785447.5...\n",
       "80          Tapajos  Amazon  LINESTRING (4956154.209 9738475.606, 4908229.1...\n",
       "1            Amazon  Amazon  MULTILINESTRING ((4191497.619 9597916.381, 425...\n",
       "60         Putamayo  Amazon  LINESTRING (3255840.239 9675268.883, 3294855.9...\n",
       "29           Japura  Amazon  MULTILINESTRING ((3782432.967 9748590.005, 382...\n",
       "66        Rio Negro  Amazon  MULTILINESTRING ((3592372.872 10116670.869, 35...\n",
       "62       Rio Branco  Amazon  LINESTRING (4352974.168 10393701.397, 4312100...."
      ]
     },
     "execution_count": 107,
     "metadata": {},
     "output_type": "execute_result"
    }
   ],
   "source": [
    "amazonSystem=rivers_brazil5880[rivers_brazil5880.SYSTEM=='Amazon']\n",
    "amazonSystem"
   ]
  },
  {
   "cell_type": "markdown",
   "id": "06bf70f4-9fa3-4d2c-bb19-099e0317641b",
   "metadata": {},
   "source": [
    "Then,\n",
    "> Which rivers from the Amazon system are intersecting states?"
   ]
  },
  {
   "cell_type": "code",
   "execution_count": 122,
   "id": "96be5973-9fea-45d3-a6de-a8a6ff7b868a",
   "metadata": {},
   "outputs": [
    {
     "data": {
      "text/plain": [
       "(20, 6)"
      ]
     },
     "execution_count": 122,
     "metadata": {},
     "output_type": "execute_result"
    }
   ],
   "source": [
    "gpd.sjoin(amazonSystem,states_brazil5880,how='inner', predicate='intersects').shape"
   ]
  },
  {
   "cell_type": "markdown",
   "id": "ea5546ab-0870-406a-9ef6-dff58b69ad03",
   "metadata": {},
   "source": [
    "Alternatively,\n",
    "\n",
    "> Which rivers from the Amazon system are crossing states?"
   ]
  },
  {
   "cell_type": "code",
   "execution_count": 124,
   "id": "80662036-9e9a-47b3-af64-8287707c95ed",
   "metadata": {},
   "outputs": [
    {
     "data": {
      "text/plain": [
       "(19, 6)"
      ]
     },
     "execution_count": 124,
     "metadata": {},
     "output_type": "execute_result"
    }
   ],
   "source": [
    "gpd.sjoin(amazonSystem,states_brazil5880,how='inner', predicate='crosses').shape"
   ]
  },
  {
   "cell_type": "markdown",
   "id": "49f10269-28e7-4ec2-851c-d8b8acacb161",
   "metadata": {},
   "source": [
    "Again, _intersects_ means both geometries have some 'space' in common. But **crosses** is an intersection that has to cross the spatial object. From the result above, there is one river that shares space with the state, but is not crossing its border."
   ]
  },
  {
   "cell_type": "code",
   "execution_count": 127,
   "id": "3f966718-80e6-4204-8cae-6a707fe3012f",
   "metadata": {},
   "outputs": [
    {
     "data": {
      "text/html": [
       "<div>\n",
       "<style scoped>\n",
       "    .dataframe tbody tr th:only-of-type {\n",
       "        vertical-align: middle;\n",
       "    }\n",
       "\n",
       "    .dataframe tbody tr th {\n",
       "        vertical-align: top;\n",
       "    }\n",
       "\n",
       "    .dataframe thead th {\n",
       "        text-align: right;\n",
       "    }\n",
       "</style>\n",
       "<table border=\"1\" class=\"dataframe\">\n",
       "  <thead>\n",
       "    <tr style=\"text-align: right;\">\n",
       "      <th></th>\n",
       "      <th>RIVER</th>\n",
       "      <th>SYSTEM</th>\n",
       "      <th>geometry</th>\n",
       "      <th>index_right</th>\n",
       "      <th>state_name</th>\n",
       "      <th>state_code</th>\n",
       "    </tr>\n",
       "  </thead>\n",
       "  <tbody>\n",
       "    <tr>\n",
       "      <th>38</th>\n",
       "      <td>Madre de Dios</td>\n",
       "      <td>Amazon</td>\n",
       "      <td>LINESTRING (3747782.967 8816805.526, 3784022.8...</td>\n",
       "      <td>21</td>\n",
       "      <td>Rondônia</td>\n",
       "      <td>BR11</td>\n",
       "    </tr>\n",
       "    <tr>\n",
       "      <th>24</th>\n",
       "      <td>Guapore</td>\n",
       "      <td>Amazon</td>\n",
       "      <td>MULTILINESTRING ((3784022.891 8842606.845, 378...</td>\n",
       "      <td>21</td>\n",
       "      <td>Rondônia</td>\n",
       "      <td>BR11</td>\n",
       "    </tr>\n",
       "    <tr>\n",
       "      <th>64</th>\n",
       "      <td>Rio Juruena</td>\n",
       "      <td>Amazon</td>\n",
       "      <td>LINESTRING (4488340.769 8382801.957, 4561243.9...</td>\n",
       "      <td>10</td>\n",
       "      <td>Mato Grosso</td>\n",
       "      <td>BR51</td>\n",
       "    </tr>\n",
       "    <tr>\n",
       "      <th>64</th>\n",
       "      <td>Rio Juruena</td>\n",
       "      <td>Amazon</td>\n",
       "      <td>LINESTRING (4488340.769 8382801.957, 4561243.9...</td>\n",
       "      <td>13</td>\n",
       "      <td>Pará</td>\n",
       "      <td>BR15</td>\n",
       "    </tr>\n",
       "    <tr>\n",
       "      <th>68</th>\n",
       "      <td>Rio Teles Pires</td>\n",
       "      <td>Amazon</td>\n",
       "      <td>LINESTRING (4890008.905 8388474.8, 4929569.193...</td>\n",
       "      <td>10</td>\n",
       "      <td>Mato Grosso</td>\n",
       "      <td>BR51</td>\n",
       "    </tr>\n",
       "    <tr>\n",
       "      <th>68</th>\n",
       "      <td>Rio Teles Pires</td>\n",
       "      <td>Amazon</td>\n",
       "      <td>LINESTRING (4890008.905 8388474.8, 4929569.193...</td>\n",
       "      <td>13</td>\n",
       "      <td>Pará</td>\n",
       "      <td>BR15</td>\n",
       "    </tr>\n",
       "    <tr>\n",
       "      <th>92</th>\n",
       "      <td>Xingu</td>\n",
       "      <td>Amazon</td>\n",
       "      <td>MULTILINESTRING ((4921614.129 8334835.678, 503...</td>\n",
       "      <td>10</td>\n",
       "      <td>Mato Grosso</td>\n",
       "      <td>BR51</td>\n",
       "    </tr>\n",
       "    <tr>\n",
       "      <th>92</th>\n",
       "      <td>Xingu</td>\n",
       "      <td>Amazon</td>\n",
       "      <td>MULTILINESTRING ((4921614.129 8334835.678, 503...</td>\n",
       "      <td>13</td>\n",
       "      <td>Pará</td>\n",
       "      <td>BR15</td>\n",
       "    </tr>\n",
       "    <tr>\n",
       "      <th>59</th>\n",
       "      <td>Purus</td>\n",
       "      <td>Amazon</td>\n",
       "      <td>LINESTRING (3179817.343 8884480.014, 3233812.4...</td>\n",
       "      <td>0</td>\n",
       "      <td>Acre</td>\n",
       "      <td>BR12</td>\n",
       "    </tr>\n",
       "    <tr>\n",
       "      <th>59</th>\n",
       "      <td>Purus</td>\n",
       "      <td>Amazon</td>\n",
       "      <td>LINESTRING (3179817.343 8884480.014, 3233812.4...</td>\n",
       "      <td>3</td>\n",
       "      <td>Amazonas</td>\n",
       "      <td>BR13</td>\n",
       "    </tr>\n",
       "    <tr>\n",
       "      <th>37</th>\n",
       "      <td>Madeira</td>\n",
       "      <td>Amazon</td>\n",
       "      <td>LINESTRING (3784022.891 8842606.845, 3785447.5...</td>\n",
       "      <td>21</td>\n",
       "      <td>Rondônia</td>\n",
       "      <td>BR11</td>\n",
       "    </tr>\n",
       "    <tr>\n",
       "      <th>37</th>\n",
       "      <td>Madeira</td>\n",
       "      <td>Amazon</td>\n",
       "      <td>LINESTRING (3784022.891 8842606.845, 3785447.5...</td>\n",
       "      <td>3</td>\n",
       "      <td>Amazonas</td>\n",
       "      <td>BR13</td>\n",
       "    </tr>\n",
       "    <tr>\n",
       "      <th>80</th>\n",
       "      <td>Tapajos</td>\n",
       "      <td>Amazon</td>\n",
       "      <td>LINESTRING (4956154.209 9738475.606, 4908229.1...</td>\n",
       "      <td>13</td>\n",
       "      <td>Pará</td>\n",
       "      <td>BR15</td>\n",
       "    </tr>\n",
       "    <tr>\n",
       "      <th>1</th>\n",
       "      <td>Amazon</td>\n",
       "      <td>Amazon</td>\n",
       "      <td>MULTILINESTRING ((4191497.619 9597916.381, 425...</td>\n",
       "      <td>3</td>\n",
       "      <td>Amazonas</td>\n",
       "      <td>BR13</td>\n",
       "    </tr>\n",
       "    <tr>\n",
       "      <th>1</th>\n",
       "      <td>Amazon</td>\n",
       "      <td>Amazon</td>\n",
       "      <td>MULTILINESTRING ((4191497.619 9597916.381, 425...</td>\n",
       "      <td>13</td>\n",
       "      <td>Pará</td>\n",
       "      <td>BR15</td>\n",
       "    </tr>\n",
       "    <tr>\n",
       "      <th>60</th>\n",
       "      <td>Putamayo</td>\n",
       "      <td>Amazon</td>\n",
       "      <td>LINESTRING (3255840.239 9675268.883, 3294855.9...</td>\n",
       "      <td>3</td>\n",
       "      <td>Amazonas</td>\n",
       "      <td>BR13</td>\n",
       "    </tr>\n",
       "    <tr>\n",
       "      <th>29</th>\n",
       "      <td>Japura</td>\n",
       "      <td>Amazon</td>\n",
       "      <td>MULTILINESTRING ((3782432.967 9748590.005, 382...</td>\n",
       "      <td>3</td>\n",
       "      <td>Amazonas</td>\n",
       "      <td>BR13</td>\n",
       "    </tr>\n",
       "    <tr>\n",
       "      <th>66</th>\n",
       "      <td>Rio Negro</td>\n",
       "      <td>Amazon</td>\n",
       "      <td>MULTILINESTRING ((3592372.872 10116670.869, 35...</td>\n",
       "      <td>3</td>\n",
       "      <td>Amazonas</td>\n",
       "      <td>BR13</td>\n",
       "    </tr>\n",
       "    <tr>\n",
       "      <th>66</th>\n",
       "      <td>Rio Negro</td>\n",
       "      <td>Amazon</td>\n",
       "      <td>MULTILINESTRING ((3592372.872 10116670.869, 35...</td>\n",
       "      <td>22</td>\n",
       "      <td>Roraima</td>\n",
       "      <td>BR14</td>\n",
       "    </tr>\n",
       "    <tr>\n",
       "      <th>62</th>\n",
       "      <td>Rio Branco</td>\n",
       "      <td>Amazon</td>\n",
       "      <td>LINESTRING (4352974.168 10393701.397, 4312100....</td>\n",
       "      <td>22</td>\n",
       "      <td>Roraima</td>\n",
       "      <td>BR14</td>\n",
       "    </tr>\n",
       "  </tbody>\n",
       "</table>\n",
       "</div>"
      ],
      "text/plain": [
       "              RIVER  SYSTEM  \\\n",
       "38    Madre de Dios  Amazon   \n",
       "24          Guapore  Amazon   \n",
       "64      Rio Juruena  Amazon   \n",
       "64      Rio Juruena  Amazon   \n",
       "68  Rio Teles Pires  Amazon   \n",
       "68  Rio Teles Pires  Amazon   \n",
       "92            Xingu  Amazon   \n",
       "92            Xingu  Amazon   \n",
       "59            Purus  Amazon   \n",
       "59            Purus  Amazon   \n",
       "37          Madeira  Amazon   \n",
       "37          Madeira  Amazon   \n",
       "80          Tapajos  Amazon   \n",
       "1            Amazon  Amazon   \n",
       "1            Amazon  Amazon   \n",
       "60         Putamayo  Amazon   \n",
       "29           Japura  Amazon   \n",
       "66        Rio Negro  Amazon   \n",
       "66        Rio Negro  Amazon   \n",
       "62       Rio Branco  Amazon   \n",
       "\n",
       "                                             geometry  index_right  \\\n",
       "38  LINESTRING (3747782.967 8816805.526, 3784022.8...           21   \n",
       "24  MULTILINESTRING ((3784022.891 8842606.845, 378...           21   \n",
       "64  LINESTRING (4488340.769 8382801.957, 4561243.9...           10   \n",
       "64  LINESTRING (4488340.769 8382801.957, 4561243.9...           13   \n",
       "68  LINESTRING (4890008.905 8388474.8, 4929569.193...           10   \n",
       "68  LINESTRING (4890008.905 8388474.8, 4929569.193...           13   \n",
       "92  MULTILINESTRING ((4921614.129 8334835.678, 503...           10   \n",
       "92  MULTILINESTRING ((4921614.129 8334835.678, 503...           13   \n",
       "59  LINESTRING (3179817.343 8884480.014, 3233812.4...            0   \n",
       "59  LINESTRING (3179817.343 8884480.014, 3233812.4...            3   \n",
       "37  LINESTRING (3784022.891 8842606.845, 3785447.5...           21   \n",
       "37  LINESTRING (3784022.891 8842606.845, 3785447.5...            3   \n",
       "80  LINESTRING (4956154.209 9738475.606, 4908229.1...           13   \n",
       "1   MULTILINESTRING ((4191497.619 9597916.381, 425...            3   \n",
       "1   MULTILINESTRING ((4191497.619 9597916.381, 425...           13   \n",
       "60  LINESTRING (3255840.239 9675268.883, 3294855.9...            3   \n",
       "29  MULTILINESTRING ((3782432.967 9748590.005, 382...            3   \n",
       "66  MULTILINESTRING ((3592372.872 10116670.869, 35...            3   \n",
       "66  MULTILINESTRING ((3592372.872 10116670.869, 35...           22   \n",
       "62  LINESTRING (4352974.168 10393701.397, 4312100....           22   \n",
       "\n",
       "     state_name state_code  \n",
       "38     Rondônia       BR11  \n",
       "24     Rondônia       BR11  \n",
       "64  Mato Grosso       BR51  \n",
       "64         Pará       BR15  \n",
       "68  Mato Grosso       BR51  \n",
       "68         Pará       BR15  \n",
       "92  Mato Grosso       BR51  \n",
       "92         Pará       BR15  \n",
       "59         Acre       BR12  \n",
       "59     Amazonas       BR13  \n",
       "37     Rondônia       BR11  \n",
       "37     Amazonas       BR13  \n",
       "80         Pará       BR15  \n",
       "1      Amazonas       BR13  \n",
       "1          Pará       BR15  \n",
       "60     Amazonas       BR13  \n",
       "29     Amazonas       BR13  \n",
       "66     Amazonas       BR13  \n",
       "66      Roraima       BR14  \n",
       "62      Roraima       BR14  "
      ]
     },
     "execution_count": 127,
     "metadata": {},
     "output_type": "execute_result"
    }
   ],
   "source": [
    "intersects_result"
   ]
  },
  {
   "cell_type": "code",
   "execution_count": 128,
   "id": "42e07b05-b457-4c08-85c7-57c4db92b66f",
   "metadata": {},
   "outputs": [
    {
     "data": {
      "text/html": [
       "<div>\n",
       "<style scoped>\n",
       "    .dataframe tbody tr th:only-of-type {\n",
       "        vertical-align: middle;\n",
       "    }\n",
       "\n",
       "    .dataframe tbody tr th {\n",
       "        vertical-align: top;\n",
       "    }\n",
       "\n",
       "    .dataframe thead th {\n",
       "        text-align: right;\n",
       "    }\n",
       "</style>\n",
       "<table border=\"1\" class=\"dataframe\">\n",
       "  <thead>\n",
       "    <tr style=\"text-align: right;\">\n",
       "      <th></th>\n",
       "      <th>RIVER</th>\n",
       "      <th>SYSTEM</th>\n",
       "      <th>geometry</th>\n",
       "      <th>index_right</th>\n",
       "      <th>state_name</th>\n",
       "      <th>state_code</th>\n",
       "    </tr>\n",
       "  </thead>\n",
       "  <tbody>\n",
       "    <tr>\n",
       "      <th>38</th>\n",
       "      <td>Madre de Dios</td>\n",
       "      <td>Amazon</td>\n",
       "      <td>LINESTRING (3747782.967 8816805.526, 3784022.8...</td>\n",
       "      <td>21</td>\n",
       "      <td>Rondônia</td>\n",
       "      <td>BR11</td>\n",
       "    </tr>\n",
       "    <tr>\n",
       "      <th>24</th>\n",
       "      <td>Guapore</td>\n",
       "      <td>Amazon</td>\n",
       "      <td>MULTILINESTRING ((3784022.891 8842606.845, 378...</td>\n",
       "      <td>21</td>\n",
       "      <td>Rondônia</td>\n",
       "      <td>BR11</td>\n",
       "    </tr>\n",
       "    <tr>\n",
       "      <th>64</th>\n",
       "      <td>Rio Juruena</td>\n",
       "      <td>Amazon</td>\n",
       "      <td>LINESTRING (4488340.769 8382801.957, 4561243.9...</td>\n",
       "      <td>10</td>\n",
       "      <td>Mato Grosso</td>\n",
       "      <td>BR51</td>\n",
       "    </tr>\n",
       "    <tr>\n",
       "      <th>64</th>\n",
       "      <td>Rio Juruena</td>\n",
       "      <td>Amazon</td>\n",
       "      <td>LINESTRING (4488340.769 8382801.957, 4561243.9...</td>\n",
       "      <td>13</td>\n",
       "      <td>Pará</td>\n",
       "      <td>BR15</td>\n",
       "    </tr>\n",
       "    <tr>\n",
       "      <th>68</th>\n",
       "      <td>Rio Teles Pires</td>\n",
       "      <td>Amazon</td>\n",
       "      <td>LINESTRING (4890008.905 8388474.8, 4929569.193...</td>\n",
       "      <td>10</td>\n",
       "      <td>Mato Grosso</td>\n",
       "      <td>BR51</td>\n",
       "    </tr>\n",
       "    <tr>\n",
       "      <th>68</th>\n",
       "      <td>Rio Teles Pires</td>\n",
       "      <td>Amazon</td>\n",
       "      <td>LINESTRING (4890008.905 8388474.8, 4929569.193...</td>\n",
       "      <td>13</td>\n",
       "      <td>Pará</td>\n",
       "      <td>BR15</td>\n",
       "    </tr>\n",
       "    <tr>\n",
       "      <th>92</th>\n",
       "      <td>Xingu</td>\n",
       "      <td>Amazon</td>\n",
       "      <td>MULTILINESTRING ((4921614.129 8334835.678, 503...</td>\n",
       "      <td>10</td>\n",
       "      <td>Mato Grosso</td>\n",
       "      <td>BR51</td>\n",
       "    </tr>\n",
       "    <tr>\n",
       "      <th>92</th>\n",
       "      <td>Xingu</td>\n",
       "      <td>Amazon</td>\n",
       "      <td>MULTILINESTRING ((4921614.129 8334835.678, 503...</td>\n",
       "      <td>13</td>\n",
       "      <td>Pará</td>\n",
       "      <td>BR15</td>\n",
       "    </tr>\n",
       "    <tr>\n",
       "      <th>59</th>\n",
       "      <td>Purus</td>\n",
       "      <td>Amazon</td>\n",
       "      <td>LINESTRING (3179817.343 8884480.014, 3233812.4...</td>\n",
       "      <td>0</td>\n",
       "      <td>Acre</td>\n",
       "      <td>BR12</td>\n",
       "    </tr>\n",
       "    <tr>\n",
       "      <th>59</th>\n",
       "      <td>Purus</td>\n",
       "      <td>Amazon</td>\n",
       "      <td>LINESTRING (3179817.343 8884480.014, 3233812.4...</td>\n",
       "      <td>3</td>\n",
       "      <td>Amazonas</td>\n",
       "      <td>BR13</td>\n",
       "    </tr>\n",
       "    <tr>\n",
       "      <th>37</th>\n",
       "      <td>Madeira</td>\n",
       "      <td>Amazon</td>\n",
       "      <td>LINESTRING (3784022.891 8842606.845, 3785447.5...</td>\n",
       "      <td>21</td>\n",
       "      <td>Rondônia</td>\n",
       "      <td>BR11</td>\n",
       "    </tr>\n",
       "    <tr>\n",
       "      <th>37</th>\n",
       "      <td>Madeira</td>\n",
       "      <td>Amazon</td>\n",
       "      <td>LINESTRING (3784022.891 8842606.845, 3785447.5...</td>\n",
       "      <td>3</td>\n",
       "      <td>Amazonas</td>\n",
       "      <td>BR13</td>\n",
       "    </tr>\n",
       "    <tr>\n",
       "      <th>1</th>\n",
       "      <td>Amazon</td>\n",
       "      <td>Amazon</td>\n",
       "      <td>MULTILINESTRING ((4191497.619 9597916.381, 425...</td>\n",
       "      <td>3</td>\n",
       "      <td>Amazonas</td>\n",
       "      <td>BR13</td>\n",
       "    </tr>\n",
       "    <tr>\n",
       "      <th>1</th>\n",
       "      <td>Amazon</td>\n",
       "      <td>Amazon</td>\n",
       "      <td>MULTILINESTRING ((4191497.619 9597916.381, 425...</td>\n",
       "      <td>13</td>\n",
       "      <td>Pará</td>\n",
       "      <td>BR15</td>\n",
       "    </tr>\n",
       "    <tr>\n",
       "      <th>60</th>\n",
       "      <td>Putamayo</td>\n",
       "      <td>Amazon</td>\n",
       "      <td>LINESTRING (3255840.239 9675268.883, 3294855.9...</td>\n",
       "      <td>3</td>\n",
       "      <td>Amazonas</td>\n",
       "      <td>BR13</td>\n",
       "    </tr>\n",
       "    <tr>\n",
       "      <th>29</th>\n",
       "      <td>Japura</td>\n",
       "      <td>Amazon</td>\n",
       "      <td>MULTILINESTRING ((3782432.967 9748590.005, 382...</td>\n",
       "      <td>3</td>\n",
       "      <td>Amazonas</td>\n",
       "      <td>BR13</td>\n",
       "    </tr>\n",
       "    <tr>\n",
       "      <th>66</th>\n",
       "      <td>Rio Negro</td>\n",
       "      <td>Amazon</td>\n",
       "      <td>MULTILINESTRING ((3592372.872 10116670.869, 35...</td>\n",
       "      <td>3</td>\n",
       "      <td>Amazonas</td>\n",
       "      <td>BR13</td>\n",
       "    </tr>\n",
       "    <tr>\n",
       "      <th>66</th>\n",
       "      <td>Rio Negro</td>\n",
       "      <td>Amazon</td>\n",
       "      <td>MULTILINESTRING ((3592372.872 10116670.869, 35...</td>\n",
       "      <td>22</td>\n",
       "      <td>Roraima</td>\n",
       "      <td>BR14</td>\n",
       "    </tr>\n",
       "    <tr>\n",
       "      <th>62</th>\n",
       "      <td>Rio Branco</td>\n",
       "      <td>Amazon</td>\n",
       "      <td>LINESTRING (4352974.168 10393701.397, 4312100....</td>\n",
       "      <td>22</td>\n",
       "      <td>Roraima</td>\n",
       "      <td>BR14</td>\n",
       "    </tr>\n",
       "  </tbody>\n",
       "</table>\n",
       "</div>"
      ],
      "text/plain": [
       "              RIVER  SYSTEM  \\\n",
       "38    Madre de Dios  Amazon   \n",
       "24          Guapore  Amazon   \n",
       "64      Rio Juruena  Amazon   \n",
       "64      Rio Juruena  Amazon   \n",
       "68  Rio Teles Pires  Amazon   \n",
       "68  Rio Teles Pires  Amazon   \n",
       "92            Xingu  Amazon   \n",
       "92            Xingu  Amazon   \n",
       "59            Purus  Amazon   \n",
       "59            Purus  Amazon   \n",
       "37          Madeira  Amazon   \n",
       "37          Madeira  Amazon   \n",
       "1            Amazon  Amazon   \n",
       "1            Amazon  Amazon   \n",
       "60         Putamayo  Amazon   \n",
       "29           Japura  Amazon   \n",
       "66        Rio Negro  Amazon   \n",
       "66        Rio Negro  Amazon   \n",
       "62       Rio Branco  Amazon   \n",
       "\n",
       "                                             geometry  index_right  \\\n",
       "38  LINESTRING (3747782.967 8816805.526, 3784022.8...           21   \n",
       "24  MULTILINESTRING ((3784022.891 8842606.845, 378...           21   \n",
       "64  LINESTRING (4488340.769 8382801.957, 4561243.9...           10   \n",
       "64  LINESTRING (4488340.769 8382801.957, 4561243.9...           13   \n",
       "68  LINESTRING (4890008.905 8388474.8, 4929569.193...           10   \n",
       "68  LINESTRING (4890008.905 8388474.8, 4929569.193...           13   \n",
       "92  MULTILINESTRING ((4921614.129 8334835.678, 503...           10   \n",
       "92  MULTILINESTRING ((4921614.129 8334835.678, 503...           13   \n",
       "59  LINESTRING (3179817.343 8884480.014, 3233812.4...            0   \n",
       "59  LINESTRING (3179817.343 8884480.014, 3233812.4...            3   \n",
       "37  LINESTRING (3784022.891 8842606.845, 3785447.5...           21   \n",
       "37  LINESTRING (3784022.891 8842606.845, 3785447.5...            3   \n",
       "1   MULTILINESTRING ((4191497.619 9597916.381, 425...            3   \n",
       "1   MULTILINESTRING ((4191497.619 9597916.381, 425...           13   \n",
       "60  LINESTRING (3255840.239 9675268.883, 3294855.9...            3   \n",
       "29  MULTILINESTRING ((3782432.967 9748590.005, 382...            3   \n",
       "66  MULTILINESTRING ((3592372.872 10116670.869, 35...            3   \n",
       "66  MULTILINESTRING ((3592372.872 10116670.869, 35...           22   \n",
       "62  LINESTRING (4352974.168 10393701.397, 4312100....           22   \n",
       "\n",
       "     state_name state_code  \n",
       "38     Rondônia       BR11  \n",
       "24     Rondônia       BR11  \n",
       "64  Mato Grosso       BR51  \n",
       "64         Pará       BR15  \n",
       "68  Mato Grosso       BR51  \n",
       "68         Pará       BR15  \n",
       "92  Mato Grosso       BR51  \n",
       "92         Pará       BR15  \n",
       "59         Acre       BR12  \n",
       "59     Amazonas       BR13  \n",
       "37     Rondônia       BR11  \n",
       "37     Amazonas       BR13  \n",
       "1      Amazonas       BR13  \n",
       "1          Pará       BR15  \n",
       "60     Amazonas       BR13  \n",
       "29     Amazonas       BR13  \n",
       "66     Amazonas       BR13  \n",
       "66      Roraima       BR14  \n",
       "62      Roraima       BR14  "
      ]
     },
     "execution_count": 128,
     "metadata": {},
     "output_type": "execute_result"
    }
   ],
   "source": [
    "crosses_result"
   ]
  },
  {
   "cell_type": "code",
   "execution_count": 147,
   "id": "83d40017-7236-4a2f-9048-4adc4c8659f7",
   "metadata": {},
   "outputs": [],
   "source": [
    "notInCrosses=list(set(intersects_result.index)-set(crosses_result.index))"
   ]
  },
  {
   "cell_type": "code",
   "execution_count": 162,
   "id": "c4f2cd79-62cd-43ad-abc1-d6931b430a4c",
   "metadata": {},
   "outputs": [
    {
     "data": {
      "text/plain": [
       "80    13\n",
       "Name: index_right, dtype: int64"
      ]
     },
     "execution_count": 162,
     "metadata": {},
     "output_type": "execute_result"
    }
   ],
   "source": []
  },
  {
   "cell_type": "code",
   "execution_count": 165,
   "id": "1ce5511d-bcfe-4008-9989-6c349685a83a",
   "metadata": {},
   "outputs": [
    {
     "data": {
      "text/plain": [
       "(13    Pará\n",
       " Name: state_name, dtype: object,\n",
       " 80    Tapajos\n",
       " Name: RIVER, dtype: object)"
      ]
     },
     "execution_count": 165,
     "metadata": {},
     "output_type": "execute_result"
    }
   ],
   "source": [
    "# Get intersects result\n",
    "intersects_result = gpd.sjoin(amazonSystem,states_brazil5880, how='inner', predicate='intersects')\n",
    "\n",
    "# Get crosses result\n",
    "crosses_result = gpd.sjoin(amazonSystem,states_brazil5880, how='inner', predicate='crosses')\n",
    "\n",
    "# Find the one that's in intersects but not in crosses\n",
    "notInCrosses=list(set(intersects_result.index)-set(crosses_result.index))\n",
    "stateToWatch=intersects_result[intersects_result.index.isin(notInCrosses)].index_right\n",
    "\n",
    "# see\n",
    "states_brazil5880.loc[stateToWatch,\"state_name\"], amazonSystem.loc[notInCrosses,\"RIVER\"]"
   ]
  },
  {
   "cell_type": "markdown",
   "id": "98684eea-ab6b-42f8-8afa-d66000fd0c17",
   "metadata": {},
   "source": [
    "Now we know the river that is not crossing an state, and the name of that state."
   ]
  },
  {
   "cell_type": "code",
   "execution_count": 167,
   "id": "06cc6736-5808-41c8-8062-5f72527c8cdb",
   "metadata": {},
   "outputs": [
    {
     "data": {
      "text/plain": [
       "<Axes: >"
      ]
     },
     "execution_count": 167,
     "metadata": {},
     "output_type": "execute_result"
    },
    {
     "data": {
      "image/png": "[encoded data removed]",
      "text/plain": [
       "<Figure size 1500x1000 with 1 Axes>"
      ]
     },
     "metadata": {},
     "output_type": "display_data"
    }
   ],
   "source": [
    "base=states_brazil5880.loc[stateToWatch,:].plot(color='w',edgecolor='k',figsize=(15, 10))\n",
    "amazonSystem.plot(ax=base)\n",
    "amazonSystem.loc[notInCrosses,:].plot(color='red',ax=base)\n"
   ]
  },
  {
   "cell_type": "markdown",
   "id": "f4045360",
   "metadata": {
    "id": "f4045360"
   },
   "source": [
    "\n",
    "\n",
    "_____________\n",
    "\n",
    "\n",
    "<a class=\"anchor\" id=\"3\"></a>\n",
    "\n",
    "# UNARY Operations on GeoDF\n",
    "\n"
   ]
  },
  {
   "cell_type": "code",
   "execution_count": null,
   "id": "a732d195-b51f-4bf7-8b9c-daaf8a49c0a3",
   "metadata": {
    "colab": {
     "base_uri": "https://localhost:8080/",
     "height": 206
    },
    "id": "a732d195-b51f-4bf7-8b9c-daaf8a49c0a3",
    "outputId": "d19e9d6b-8d87-45e6-b693-9cc997209290"
   },
   "outputs": [],
   "source": [
    "#see\n",
    "municipalities_brazil5880.head(20)"
   ]
  },
  {
   "cell_type": "markdown",
   "id": "1d0ca18b-4d56-4a5f-9575-755e278582c2",
   "metadata": {
    "id": "1d0ca18b-4d56-4a5f-9575-755e278582c2"
   },
   "source": [
    "Then, this is Rondônia:"
   ]
  },
  {
   "cell_type": "code",
   "execution_count": null,
   "id": "9206f541-2616-428b-af59-77b1b3f3965d",
   "metadata": {},
   "outputs": [],
   "source": [
    "muniRondonia=municipalities_brazil5880[municipalities_brazil5880.state_name=='Rondônia']"
   ]
  },
  {
   "cell_type": "code",
   "execution_count": null,
   "id": "e2954e50-2d6f-4583-a2c0-3e5aaeb20b44",
   "metadata": {
    "colab": {
     "base_uri": "https://localhost:8080/",
     "height": 481
    },
    "id": "e2954e50-2d6f-4583-a2c0-3e5aaeb20b44",
    "outputId": "1c2b676d-f43b-4cfd-aa3a-01c8684ae6e7"
   },
   "outputs": [],
   "source": [
    "muniRondonia.plot(edgecolor='yellow')"
   ]
  },
  {
   "cell_type": "markdown",
   "id": "e0ec0e20-de35-444b-9b20-daff26825402",
   "metadata": {
    "id": "e0ec0e20-de35-444b-9b20-daff26825402"
   },
   "source": [
    "## I. Operation that combine \n",
    "\n",
    "Let's see the options to combine:"
   ]
  },
  {
   "cell_type": "markdown",
   "id": "97eadc14-d617-4345-ad89-1eb2b786d31f",
   "metadata": {
    "id": "97eadc14-d617-4345-ad89-1eb2b786d31f"
   },
   "source": [
    "### Unary UNION\n",
    "\n",
    "We can combine all these polygons into one:"
   ]
  },
  {
   "cell_type": "code",
   "execution_count": null,
   "id": "c00c048b-6faa-4ad6-8cf7-0f98769e17f2",
   "metadata": {
    "colab": {
     "base_uri": "https://localhost:8080/",
     "height": 321
    },
    "id": "c00c048b-6faa-4ad6-8cf7-0f98769e17f2",
    "outputId": "d6518f2b-be89-4366-ca31-a49bb275f203"
   },
   "outputs": [],
   "source": [
    "muniRondonia.union_all()"
   ]
  },
  {
   "cell_type": "markdown",
   "id": "9d3fcffd-e552-4bea-9da3-b39745de4c36",
   "metadata": {
    "id": "9d3fcffd-e552-4bea-9da3-b39745de4c36"
   },
   "source": [
    "Let's save that result:"
   ]
  },
  {
   "cell_type": "code",
   "execution_count": null,
   "id": "ce5d4b07-7f14-4dc7-8031-5c12ee2c8a92",
   "metadata": {
    "id": "ce5d4b07-7f14-4dc7-8031-5c12ee2c8a92"
   },
   "outputs": [],
   "source": [
    "Rondonia_union=muniRondonia.union_all()"
   ]
  },
  {
   "cell_type": "code",
   "execution_count": null,
   "id": "d71ea52f-6738-4d8b-93fb-6e6bfdd7ed21",
   "metadata": {
    "colab": {
     "base_uri": "https://localhost:8080/"
    },
    "id": "d71ea52f-6738-4d8b-93fb-6e6bfdd7ed21",
    "outputId": "e2976b5a-efa1-492e-e3bc-81842fa7fdd8"
   },
   "outputs": [],
   "source": [
    "# what do we have?\n",
    "type(Rondonia_union)"
   ]
  },
  {
   "cell_type": "markdown",
   "id": "97f5eeba-ee4f-4a46-b8ac-9645f7e59766",
   "metadata": {
    "id": "97f5eeba-ee4f-4a46-b8ac-9645f7e59766"
   },
   "source": [
    "You can turn that _shapely_ object into a GeoDF like this:"
   ]
  },
  {
   "cell_type": "code",
   "execution_count": null,
   "id": "52d84f0d-bd43-4008-b3ac-c807e7dbafc5",
   "metadata": {
    "colab": {
     "base_uri": "https://localhost:8080/",
     "height": 81
    },
    "id": "52d84f0d-bd43-4008-b3ac-c807e7dbafc5",
    "outputId": "add29621-ed75-4274-a651-e092ea7e3185"
   },
   "outputs": [],
   "source": [
    "gpd.GeoDataFrame(geometry=[Rondonia_union]) # the recent union"
   ]
  },
  {
   "cell_type": "markdown",
   "id": "9f088b27-8921-454e-8aeb-43e33aae6a69",
   "metadata": {},
   "source": [
    "Even better:"
   ]
  },
  {
   "cell_type": "code",
   "execution_count": null,
   "id": "c7f7bffc-13eb-43b6-ba49-a46bea47a865",
   "metadata": {},
   "outputs": [],
   "source": [
    "gpd.GeoDataFrame(index=[0], # one element\n",
    "                 data={'state':'Rondonia'}, # the column and the value\n",
    "                 geometry=[Rondonia_union]) # the recent union"
   ]
  },
  {
   "cell_type": "markdown",
   "id": "b1dee927-70dd-48e8-82b7-a04a2fa8fe3c",
   "metadata": {
    "id": "b1dee927-70dd-48e8-82b7-a04a2fa8fe3c"
   },
   "source": [
    "<a class=\"anchor\" id=\"21\"></a>\n",
    "\n",
    "### Dissolve\n",
    "\n",
    "#### a. Dissolve as Union\n",
    "Using  **dissolve** is an alternative to _UNION_:"
   ]
  },
  {
   "cell_type": "code",
   "execution_count": null,
   "id": "c5768952-7e24-43ad-901e-9a7fadc3fc2c",
   "metadata": {
    "colab": {
     "base_uri": "https://localhost:8080/",
     "height": 481
    },
    "id": "c5768952-7e24-43ad-901e-9a7fadc3fc2c",
    "outputId": "78bde6c3-e080-44ff-e393-19a812684b6e"
   },
   "outputs": [],
   "source": [
    "muniRondonia.dissolve().plot()"
   ]
  },
  {
   "cell_type": "markdown",
   "id": "351fbf6a-7e61-467e-ab1c-15c7544a4632",
   "metadata": {
    "id": "351fbf6a-7e61-467e-ab1c-15c7544a4632"
   },
   "source": [
    "Let me save the result, and see the type :"
   ]
  },
  {
   "cell_type": "code",
   "execution_count": null,
   "id": "672d051e-772e-4310-86f6-8fcfca6ed287",
   "metadata": {
    "colab": {
     "base_uri": "https://localhost:8080/",
     "height": 187
    },
    "id": "672d051e-772e-4310-86f6-8fcfca6ed287",
    "outputId": "2ac9f749-2cc1-43f7-e90d-f6bfd565fa69"
   },
   "outputs": [],
   "source": [
    "Rondonia_dissolved=muniRondonia.dissolve()\n",
    "\n",
    "# we got?\n",
    "type(Rondonia_dissolved)"
   ]
  },
  {
   "cell_type": "markdown",
   "id": "2fc5778d-ef46-46dd-bd3e-eaba9f668e03",
   "metadata": {
    "id": "2fc5778d-ef46-46dd-bd3e-eaba9f668e03"
   },
   "source": [
    "You got a GEOdf this time:"
   ]
  },
  {
   "cell_type": "code",
   "execution_count": null,
   "id": "c3f3d552-060c-41f2-bbe5-debf1de6a496",
   "metadata": {
    "colab": {
     "base_uri": "https://localhost:8080/",
     "height": 89
    },
    "id": "c3f3d552-060c-41f2-bbe5-debf1de6a496",
    "outputId": "440196dd-dc8d-4143-f0dc-e443547f5785"
   },
   "outputs": [],
   "source": [
    "## see\n",
    "Rondonia_dissolved"
   ]
  },
  {
   "cell_type": "code",
   "execution_count": null,
   "id": "95b21cb3-db50-48f1-a354-ce2b23e9b247",
   "metadata": {
    "colab": {
     "base_uri": "https://localhost:8080/",
     "height": 89
    },
    "id": "95b21cb3-db50-48f1-a354-ce2b23e9b247",
    "outputId": "0c529369-6e65-4304-b641-788a744787ea"
   },
   "outputs": [],
   "source": [
    "# keeping what is relevant\n",
    "Rondonia_dissolved.drop(columns=['municipality_name','municipality_code'],inplace=True)\n",
    "\n",
    "# then\n",
    "Rondonia_dissolved"
   ]
  },
  {
   "cell_type": "markdown",
   "id": "9321a5df-3274-4696-9278-6141e3218930",
   "metadata": {
    "id": "9321a5df-3274-4696-9278-6141e3218930"
   },
   "source": [
    "#### b. Dissolve for groups\n",
    "\n",
    "Using _dissolve()_ with no arguments returns the union of the polygons as above, AND also you get a GEOdf.\n",
    "However, if you have a column that represents a grouping (as we do), you can dissolve by that column:"
   ]
  },
  {
   "cell_type": "code",
   "execution_count": null,
   "id": "8b02371a-f65e-46e5-b0d2-e88d21825cd2",
   "metadata": {
    "colab": {
     "base_uri": "https://localhost:8080/",
     "height": 481
    },
    "id": "8b02371a-f65e-46e5-b0d2-e88d21825cd2",
    "outputId": "506a772d-0f22-4f87-9cf8-72298537b8ad"
   },
   "outputs": [],
   "source": [
    "# dissolving\n",
    "municipalities_brazil5880.dissolve(by='state_code').plot(facecolor='lightgrey', edgecolor='black',linewidth=0.2)"
   ]
  },
  {
   "cell_type": "markdown",
   "id": "ade71f08-90cb-4a1c-977a-4f5ac846f2d9",
   "metadata": {
    "id": "ade71f08-90cb-4a1c-977a-4f5ac846f2d9"
   },
   "source": [
    "Again, let me save this result:"
   ]
  },
  {
   "cell_type": "code",
   "execution_count": null,
   "id": "1a36080b-9326-4584-9190-fa1718e03f0d",
   "metadata": {
    "id": "1a36080b-9326-4584-9190-fa1718e03f0d"
   },
   "outputs": [],
   "source": [
    "Brazil_adm1_diss=municipalities_brazil5880.dissolve(by='state_code')"
   ]
  },
  {
   "cell_type": "markdown",
   "id": "4d1de91b-7ad7-44f5-a9cb-410dbf53656c",
   "metadata": {
    "id": "4d1de91b-7ad7-44f5-a9cb-410dbf53656c"
   },
   "source": [
    "We know we have a GeoDF; let's see contents:"
   ]
  },
  {
   "cell_type": "code",
   "execution_count": null,
   "id": "ef8b7fbb-7b5b-4624-ae40-e7aed7d4bdf6",
   "metadata": {
    "colab": {
     "base_uri": "https://localhost:8080/",
     "height": 927
    },
    "id": "ef8b7fbb-7b5b-4624-ae40-e7aed7d4bdf6",
    "outputId": "d5ec1d9d-642c-4b0d-b352-5d48203ef4c8"
   },
   "outputs": [],
   "source": [
    "Brazil_adm1_diss.head()"
   ]
  },
  {
   "cell_type": "markdown",
   "id": "48b1ddda-4b45-489c-97b8-3260a2f75459",
   "metadata": {
    "id": "48b1ddda-4b45-489c-97b8-3260a2f75459"
   },
   "source": [
    "Again, we can drop columns that do not bring important information:"
   ]
  },
  {
   "cell_type": "code",
   "execution_count": null,
   "id": "bebf8290-4334-4b1f-8818-0f0db44799be",
   "metadata": {
    "colab": {
     "base_uri": "https://localhost:8080/"
    },
    "id": "bebf8290-4334-4b1f-8818-0f0db44799be",
    "outputId": "decce817-b7a3-444d-ead9-6602ea60cdad"
   },
   "outputs": [],
   "source": [
    "Brazil_adm1_diss.drop(columns=['municipality_name',\t'municipality_code'],inplace=True)\n",
    "Brazil_adm1_diss.reset_index(inplace=True)\n",
    "Brazil_adm1_diss.info()"
   ]
  },
  {
   "cell_type": "markdown",
   "id": "8ce4da9c-0e99-4e00-aabb-5a291d7a935d",
   "metadata": {
    "id": "8ce4da9c-0e99-4e00-aabb-5a291d7a935d"
   },
   "source": [
    "#### c. Dissolve and aggregate\n",
    "\n",
    "In pandas, you can aggregate data using some statistics. Let me open the map with indicators we created in a previous session:"
   ]
  },
  {
   "cell_type": "code",
   "execution_count": null,
   "id": "f842ce68-8353-4af7-9ed9-5e1a8e856f39",
   "metadata": {
    "colab": {
     "base_uri": "https://localhost:8080/",
     "height": 206
    },
    "id": "f842ce68-8353-4af7-9ed9-5e1a8e856f39",
    "outputId": "907fbc15-5088-4658-e526-f6f828fea29a"
   },
   "outputs": [],
   "source": [
    "\n",
    "indicators.head()"
   ]
  },
  {
   "cell_type": "markdown",
   "id": "Rto2Jyoz3vcm",
   "metadata": {
    "id": "Rto2Jyoz3vcm"
   },
   "source": [
    "You can compute the mean of the countries by region, using a DF approach like this:"
   ]
  },
  {
   "cell_type": "code",
   "execution_count": null,
   "id": "O3VGN7S81s3B",
   "metadata": {
    "colab": {
     "base_uri": "https://localhost:8080/",
     "height": 394
    },
    "id": "O3VGN7S81s3B",
    "outputId": "d8d30f70-5d4d-4425-da7a-a08b05906e72"
   },
   "outputs": [],
   "source": [
    "indicators.groupby('region').agg({'fragility':'mean'}) "
   ]
  },
  {
   "cell_type": "markdown",
   "id": "Vk8B5uRC0mVX",
   "metadata": {
    "id": "Vk8B5uRC0mVX"
   },
   "source": [
    "\n",
    "You do not see a \"geometry\" column. It got lost when using **groupby().agg()**.\n",
    "\n",
    "The appropriate operation to conserve spatial information is also **dissolve**:"
   ]
  },
  {
   "cell_type": "code",
   "execution_count": null,
   "id": "794f3048-257d-4193-89d0-deda71523b9c",
   "metadata": {
    "colab": {
     "base_uri": "https://localhost:8080/",
     "height": 363
    },
    "id": "794f3048-257d-4193-89d0-deda71523b9c",
    "outputId": "80383224-82f9-4082-d7b0-dfb8ce032ab0"
   },
   "outputs": [],
   "source": [
    "indicatorsByRegion=indicators.dissolve(\n",
    "    by=\"region\", #groupby()\n",
    "    aggfunc={\"fragility\": \"mean\"}, #agg()\n",
    "    )\n",
    "\n",
    "## see the GeoDF\n",
    "indicatorsByRegion"
   ]
  },
  {
   "cell_type": "markdown",
   "id": "ce73aadb-aaad-458f-abf1-dc24be193949",
   "metadata": {
    "id": "ce73aadb-aaad-458f-abf1-dc24be193949"
   },
   "source": [
    "Without renaming, you can request a choropleth:"
   ]
  },
  {
   "cell_type": "code",
   "execution_count": null,
   "id": "-c3sNkIr4ehl",
   "metadata": {
    "id": "-c3sNkIr4ehl"
   },
   "outputs": [],
   "source": [
    "# !pip install mapclassify"
   ]
  },
  {
   "cell_type": "code",
   "execution_count": null,
   "id": "509d432c-35bb-48c2-9365-02b6aa6227ee",
   "metadata": {
    "colab": {
     "base_uri": "https://localhost:8080/",
     "height": 540
    },
    "id": "509d432c-35bb-48c2-9365-02b6aa6227ee",
    "outputId": "6ee2ef0e-67b7-43c0-a111-1e9bc11a891e"
   },
   "outputs": [],
   "source": [
    "indicatorsByRegion.plot(column ='fragility',edgecolor='white',\n",
    "                        figsize=(15, 10))"
   ]
  },
  {
   "cell_type": "markdown",
   "id": "79bf34fd-aba5-4649-82aa-ede86b29ab40",
   "metadata": {},
   "source": [
    "Keep in mind that the combining of objects via UNION_ALL and DISSOLVE are destructive, we can not undo them. We have operations like EXPLODE that work in the reverse direction (splitting) but even that function can not undo the output of UNION_ALL and DISSOLVE. Always preserve your original GeoDataFrame before using these operations, as they permanently alter your data in ways that cannot be reversed."
   ]
  },
  {
   "cell_type": "markdown",
   "id": "29bdb1b3",
   "metadata": {
    "id": "29bdb1b3"
   },
   "source": [
    "_____________\n",
    "\n",
    "\n",
    "<a class=\"anchor\" id=\"4\"></a>\n",
    "\n",
    "## II. The convex hull\n",
    "\n",
    "Sometimes you may have the need to create a polygon that serves as an envelope to a set of points.\n",
    "\n",
    "For this example, let me use the large airports:"
   ]
  },
  {
   "cell_type": "code",
   "execution_count": null,
   "id": "2649d471",
   "metadata": {
    "colab": {
     "base_uri": "https://localhost:8080/",
     "height": 321
    },
    "id": "2649d471",
    "outputId": "57a518e6-c0c3-4238-99aa-67cd6b28c7d7"
   },
   "outputs": [],
   "source": [
    "large_airports.plot()"
   ]
  },
  {
   "cell_type": "markdown",
   "id": "23333a76-766c-48e7-a8be-657570fce381",
   "metadata": {},
   "source": [
    "May I use now **convex_hull**?"
   ]
  },
  {
   "cell_type": "code",
   "execution_count": null,
   "id": "faff72a0-bfe2-450d-9d20-4e2e50403e40",
   "metadata": {},
   "outputs": [],
   "source": [
    "## you see no difference!!\n",
    "large_airports.convex_hull.plot()"
   ]
  },
  {
   "cell_type": "markdown",
   "id": "ebb360e8-59ed-4676-b86e-1799a2a4b4a0",
   "metadata": {},
   "source": [
    "The objects to be enveloped required to be **previously combined**: "
   ]
  },
  {
   "cell_type": "code",
   "execution_count": null,
   "id": "ce05689b-acde-4373-8b60-51ca6bc19c5b",
   "metadata": {
    "colab": {
     "base_uri": "https://localhost:8080/",
     "height": 321
    },
    "id": "ce05689b-acde-4373-8b60-51ca6bc19c5b",
    "outputId": "aa1f67e2-f663-4441-9dca-cf0d80df294a"
   },
   "outputs": [],
   "source": [
    "# hull of the union\n",
    "large_airports.union_all().convex_hull"
   ]
  },
  {
   "cell_type": "markdown",
   "id": "d5a06f35-93ae-47ef-acd4-d443a5211d93",
   "metadata": {},
   "source": [
    "The structure we  got is:"
   ]
  },
  {
   "cell_type": "code",
   "execution_count": null,
   "id": "3863963a-8f59-4e5b-a772-6af682d683e6",
   "metadata": {},
   "outputs": [],
   "source": [
    "# this geometry not a GeoDF...yet\n",
    "type(large_airports.union_all().convex_hull)"
   ]
  },
  {
   "cell_type": "markdown",
   "id": "46a0e7b3",
   "metadata": {
    "id": "46a0e7b3"
   },
   "source": [
    "Let's turn this geometry into a GDF:"
   ]
  },
  {
   "cell_type": "code",
   "execution_count": null,
   "id": "14037793-1df7-4dfa-8438-7dc7734580fe",
   "metadata": {
    "colab": {
     "base_uri": "https://localhost:8080/",
     "height": 89
    },
    "id": "14037793-1df7-4dfa-8438-7dc7734580fe",
    "outputId": "735cf3a6-19d2-458d-9c8e-80439331d36a"
   },
   "outputs": [],
   "source": [
    "LargeAirports_hull= gpd.GeoDataFrame(index=[0],\n",
    "                                     data={'hull':'Large airports'}, # the column and the value\n",
    "                                    #crs=large_airports.crs,\n",
    "                                    geometry=[large_airports.union_all().convex_hull])\n",
    "\n",
    "# then\n",
    "\n",
    "LargeAirports_hull"
   ]
  },
  {
   "cell_type": "markdown",
   "id": "c67c1b31",
   "metadata": {
    "id": "c67c1b31"
   },
   "source": [
    "Let's use the GDF in plotting:"
   ]
  },
  {
   "cell_type": "code",
   "execution_count": null,
   "id": "e73b691b",
   "metadata": {
    "colab": {
     "base_uri": "https://localhost:8080/",
     "height": 481
    },
    "id": "e73b691b",
    "outputId": "d123e0e6-7073-4d2a-8579-ec6a116b7ab1"
   },
   "outputs": [],
   "source": [
    "\n",
    "base=brazil5880.plot(facecolor='yellow')\n",
    "large_airports.plot(ax=base)\n",
    "LargeAirports_hull.plot(ax=base,facecolor='green',\n",
    "                       edgecolor='white',alpha=0.4,\n",
    "                       hatch='X')"
   ]
  },
  {
   "cell_type": "markdown",
   "id": "ac22811f-889b-4373-b1b6-43bce73ddedb",
   "metadata": {},
   "source": [
    "You can get a convex hull of lines or polygons:"
   ]
  },
  {
   "cell_type": "code",
   "execution_count": null,
   "id": "92625b08-1aa7-44c9-9039-efe74eedb822",
   "metadata": {},
   "outputs": [],
   "source": [
    "rivers_brazil5880.union_all().convex_hull"
   ]
  },
  {
   "cell_type": "markdown",
   "id": "9bbf2601-c6e2-4d1c-9ef5-9fa1d624c949",
   "metadata": {},
   "source": [
    "You can use it for dissolved polygons:"
   ]
  },
  {
   "cell_type": "code",
   "execution_count": null,
   "id": "dd1d98d6-9339-4d5e-99b5-446512743321",
   "metadata": {},
   "outputs": [],
   "source": [
    "Rondonia_dissolved.convex_hull.plot()"
   ]
  },
  {
   "cell_type": "markdown",
   "id": "d6e203c9-24c0-43db-a1f5-4ec14520721e",
   "metadata": {},
   "source": [
    "Remember that **union_all** and **dissolve()** give different outputs:"
   ]
  },
  {
   "cell_type": "code",
   "execution_count": null,
   "id": "6060e527-4dad-4ac3-a818-c155f5d71a04",
   "metadata": {},
   "outputs": [],
   "source": [
    "# you got a series, not just a geometry \n",
    "type(Rondonia_dissolved.convex_hull)"
   ]
  },
  {
   "cell_type": "code",
   "execution_count": null,
   "id": "24d5a6db-cb27-4eea-a14d-b4e07988d855",
   "metadata": {},
   "outputs": [],
   "source": [
    "# a simple \"to_frame\" does the job\n",
    "Rondonia_dissolved.convex_hull.to_frame()"
   ]
  },
  {
   "cell_type": "code",
   "execution_count": null,
   "id": "7f564e4c-1e25-4965-9b8c-9a086d720c77",
   "metadata": {},
   "outputs": [],
   "source": [
    "# more details\n",
    "Rondonia_hull=Rondonia_dissolved.convex_hull.to_frame()\n",
    "Rondonia_hull.rename(columns={0:\"geometry\"},inplace=True)\n",
    "Rondonia_hull.set_geometry('geometry',inplace=True)\n",
    "Rondonia_hull[\"name\"]=\"Rondonia\"\n",
    "Rondonia_hull"
   ]
  },
  {
   "cell_type": "code",
   "execution_count": null,
   "id": "2f6f5883-3ca6-468c-9127-d3afefdf210a",
   "metadata": {},
   "outputs": [],
   "source": [
    "#noticed the crs was inherited\n",
    "Rondonia_hull.crs"
   ]
  },
  {
   "cell_type": "markdown",
   "id": "a219e942-aaca-41f5-a2c9-e043bfd592f3",
   "metadata": {},
   "source": [
    "Unless you need a hull per row, you need to union/dissolve the polygons (rows) of a GeoDF, see:"
   ]
  },
  {
   "cell_type": "code",
   "execution_count": null,
   "id": "ba946bf6-cf6e-4e2b-a93b-c810c28a1736",
   "metadata": {},
   "outputs": [],
   "source": [
    "#original not COMBINED:\n",
    "Brazil_adm1_diss.plot(edgecolor=\"yellow\")"
   ]
  },
  {
   "cell_type": "code",
   "execution_count": null,
   "id": "3cce9e36-b924-40cf-9a73-2d91d227db5f",
   "metadata": {},
   "outputs": [],
   "source": [
    "# hull of Non combined\n",
    "Brazil_adm1_diss.convex_hull.plot(edgecolor=\"yellow\")"
   ]
  },
  {
   "cell_type": "code",
   "execution_count": null,
   "id": "840623f3-90ab-4130-b5f9-3a3e32da2b4a",
   "metadata": {},
   "outputs": [],
   "source": [
    "# the hull of Brazil\n",
    "Brazil_adm1_diss.dissolve().convex_hull.plot(edgecolor=\"yellow\")"
   ]
  },
  {
   "cell_type": "markdown",
   "id": "Cjc9MDEdB_Go",
   "metadata": {
    "id": "Cjc9MDEdB_Go"
   },
   "source": [
    "## III. The Buffer\n",
    "\n",
    "The buffer will create a polygon that follows the same shape of the original vector (line, polygon, point)."
   ]
  },
  {
   "cell_type": "markdown",
   "id": "05d55225-89c4-4ffc-88da-34c8b76a8bfc",
   "metadata": {},
   "source": [
    "Let me buffer the Brazil rivers:"
   ]
  },
  {
   "cell_type": "code",
   "execution_count": null,
   "id": "b9dXwRtkCDAp",
   "metadata": {
    "colab": {
     "base_uri": "https://localhost:8080/",
     "height": 448
    },
    "id": "b9dXwRtkCDAp",
    "outputId": "96809c19-6d72-4709-b320-7a14705c7471"
   },
   "outputs": [],
   "source": [
    "# this is the original\n",
    "rivers_brazil5880.plot()"
   ]
  },
  {
   "cell_type": "markdown",
   "id": "UQWZpvMwGEFm",
   "metadata": {
    "id": "UQWZpvMwGEFm"
   },
   "source": [
    "But, verify crs as we are going to use distances:"
   ]
  },
  {
   "cell_type": "code",
   "execution_count": null,
   "id": "OhNjrHJ3CMDs",
   "metadata": {
    "colab": {
     "base_uri": "https://localhost:8080/"
    },
    "id": "OhNjrHJ3CMDs",
    "outputId": "0702d280-ae78-48e6-8d47-dee4680c3ff7"
   },
   "outputs": [],
   "source": [
    "rivers_brazil5880.crs"
   ]
  },
  {
   "cell_type": "markdown",
   "id": "tvarDeceGlbw",
   "metadata": {
    "id": "tvarDeceGlbw"
   },
   "source": [
    "Now I can use the rivers to create a buffer of 50000 meters:"
   ]
  },
  {
   "cell_type": "code",
   "execution_count": null,
   "id": "y8q7Zx6EDpOZ",
   "metadata": {
    "colab": {
     "base_uri": "https://localhost:8080/",
     "height": 481
    },
    "id": "y8q7Zx6EDpOZ",
    "outputId": "f1a8c25a-0aba-4b72-8887-cfdd61d2cc37"
   },
   "outputs": [],
   "source": [
    "# 50000 at each side (radius)\n",
    "rivers_brazil5880.buffer(50000).plot(facecolor='yellow', edgecolor='black',linewidth=0.2)"
   ]
  },
  {
   "cell_type": "markdown",
   "id": "7ab86179-3355-4d1e-9b1d-6f7b20e9a0e0",
   "metadata": {},
   "source": [
    "The resulting buffer is:"
   ]
  },
  {
   "cell_type": "code",
   "execution_count": null,
   "id": "fcfbddcb-3137-480f-8187-d037e332c7ab",
   "metadata": {},
   "outputs": [],
   "source": [
    "type(rivers_brazil5880.buffer(50000))"
   ]
  },
  {
   "cell_type": "markdown",
   "id": "Kof-yyMHHfGA",
   "metadata": {
    "id": "Kof-yyMHHfGA"
   },
   "source": [
    "Then:"
   ]
  },
  {
   "cell_type": "code",
   "execution_count": null,
   "id": "5P8nF3cYEDdV",
   "metadata": {
    "colab": {
     "base_uri": "https://localhost:8080/",
     "height": 481
    },
    "id": "5P8nF3cYEDdV",
    "outputId": "f43f5902-3d68-43b6-fa35-d60552053abb"
   },
   "outputs": [],
   "source": [
    "base=rivers_brazil5880.buffer(50000).plot(facecolor='yellow',edgecolor='black',linewidth=0.2)\n",
    "rivers_brazil5880.plot(ax=base)"
   ]
  },
  {
   "cell_type": "markdown",
   "id": "bd7ed969-2e21-471e-928f-6c0be6ddb562",
   "metadata": {},
   "source": [
    "notice:"
   ]
  },
  {
   "cell_type": "code",
   "execution_count": null,
   "id": "cac66485-04fb-4c60-968f-4e97ffce2d00",
   "metadata": {},
   "outputs": [],
   "source": [
    "riv_buf_right = rivers_brazil5880.buffer(distance = 50000, single_sided = True)\n",
    "riv_buf_left = rivers_brazil5880.buffer(distance = -25000, single_sided = True)\n",
    "\n",
    "base =riv_buf_right.plot(color='green')\n",
    "riv_buf_left.plot(ax=base, color='purple')"
   ]
  },
  {
   "cell_type": "markdown",
   "id": "2769b216-46b0-4ef8-9315-3d6a7abf7489",
   "metadata": {},
   "source": [
    "Let me save the rivers reprojected in a JSON file:"
   ]
  },
  {
   "cell_type": "code",
   "execution_count": null,
   "id": "3a76bff7-7d57-430e-acc9-a5c78bf38b06",
   "metadata": {},
   "outputs": [],
   "source": [
    "rivers_brazil5880.to_file(\"rivers_brazil5880.geojson\", driver=\"GeoJSON\")"
   ]
  },
  {
   "cell_type": "markdown",
   "id": "6852f4a7-24bb-4540-9324-bf9f67c54637",
   "metadata": {
    "id": "6852f4a7-24bb-4540-9324-bf9f67c54637"
   },
   "source": [
    "\n",
    "_____________\n",
    "\n",
    "<a class=\"anchor\" id=\"5\"></a>\n",
    "# BINARY Operations: Spatial Overlay\n",
    "\n",
    "We might need to create or find some geometries from the geometries we already have. Using a set theory approach, we will see the use of _intersection_, _union_, _difference_, and _symmetric difference_."
   ]
  },
  {
   "cell_type": "markdown",
   "id": "5ab4dd55-0b15-4d11-9be2-547998200d1d",
   "metadata": {},
   "source": [
    "Let's remember these results:"
   ]
  },
  {
   "cell_type": "code",
   "execution_count": null,
   "id": "5b9c5caf-9e85-4462-b529-89784ecad92c",
   "metadata": {},
   "outputs": [],
   "source": [
    "N_brazil"
   ]
  },
  {
   "cell_type": "code",
   "execution_count": null,
   "id": "1a8b28f5-aba3-4ea9-abbb-6d80f0480fbe",
   "metadata": {},
   "outputs": [],
   "source": [
    "S_brazil"
   ]
  },
  {
   "cell_type": "markdown",
   "id": "c4f50822-09a7-4845-9652-a64cad41d5e7",
   "metadata": {},
   "source": [
    "Let me plot both of them:"
   ]
  },
  {
   "cell_type": "code",
   "execution_count": null,
   "id": "7a5a27d5-7117-43a5-bf61-6542de99e280",
   "metadata": {
    "colab": {
     "base_uri": "https://localhost:8080/",
     "height": 481
    },
    "id": "7a5a27d5-7117-43a5-bf61-6542de99e280",
    "outputId": "efbce584-091a-4ec2-9724-089756d5decf"
   },
   "outputs": [],
   "source": [
    "base= N_brazil.plot(facecolor='black', edgecolor='white',linewidth=0.2, alpha=0.6)\n",
    "S_brazil.plot(facecolor='white', edgecolor='black',linewidth=0.2,ax=base, alpha=0.6)"
   ]
  },
  {
   "cell_type": "markdown",
   "id": "940832b7-250c-46f6-ab20-c65e92e0bd31",
   "metadata": {},
   "source": [
    "Notice that the coordinates we used to split the states did not give us a clean cut. Here you see the states in common:"
   ]
  },
  {
   "cell_type": "code",
   "execution_count": null,
   "id": "bf1d298a-325d-4996-8fa0-4cbd48471b25",
   "metadata": {},
   "outputs": [],
   "source": [
    "set(S_brazil.state_name) & set(N_brazil.state_name)"
   ]
  },
  {
   "cell_type": "markdown",
   "id": "69fcdb81-597c-4812-8544-343764ef568a",
   "metadata": {},
   "source": [
    "The same happened in East vs West:"
   ]
  },
  {
   "cell_type": "code",
   "execution_count": null,
   "id": "f6c71c71-f9d1-4a3d-b03e-d3a492ddb2e7",
   "metadata": {},
   "outputs": [],
   "source": [
    "set(E_brazil.state_name) & set(W_brazil.state_name)"
   ]
  },
  {
   "cell_type": "code",
   "execution_count": null,
   "id": "1e119335-f1d0-42fb-8c7a-bcd5f0231578",
   "metadata": {
    "colab": {
     "base_uri": "https://localhost:8080/",
     "height": 481
    },
    "id": "1e119335-f1d0-42fb-8c7a-bcd5f0231578",
    "outputId": "84460d11-0d8a-4259-b753-b07999c6feef"
   },
   "outputs": [],
   "source": [
    "# visualizing\n",
    "base= E_brazil.plot(facecolor='black', edgecolor='white',linewidth=0.2, alpha=0.6)\n",
    "W_brazil.plot(facecolor='white', edgecolor='black',linewidth=0.2,ax=base, alpha=0.6)"
   ]
  },
  {
   "cell_type": "markdown",
   "id": "b751684b-270f-4b3a-9b7d-d51ae7f2b641",
   "metadata": {
    "id": "b751684b-270f-4b3a-9b7d-d51ae7f2b641"
   },
   "source": [
    "## Intersection\n",
    "\n",
    "We keep what is common between GeoDFs:"
   ]
  },
  {
   "cell_type": "code",
   "execution_count": null,
   "id": "b6517bb9-b20a-46f9-ba77-d8a0f120f97c",
   "metadata": {
    "colab": {
     "base_uri": "https://localhost:8080/",
     "height": 163
    },
    "id": "b6517bb9-b20a-46f9-ba77-d8a0f120f97c",
    "outputId": "7a93953c-3c9c-4d00-8142-1f05532068e0"
   },
   "outputs": [],
   "source": [
    "NS_brazil=N_brazil.overlay(S_brazil, how=\"intersection\",keep_geom_type=True)\n",
    "# see results\n",
    "NS_brazil"
   ]
  },
  {
   "cell_type": "markdown",
   "id": "539a5c97-abc2-4368-8831-5eb93f2a8e15",
   "metadata": {},
   "source": [
    "Notice we got more rows than when we did this operation:\n",
    "\n",
    "```\n",
    "set(S_brazil.state_name) & set(N_brazil.state_name)\n",
    "```\n",
    "We have three more polygons:"
   ]
  },
  {
   "cell_type": "code",
   "execution_count": null,
   "id": "b977c127-d413-4d2f-ac97-1de1b0d97f05",
   "metadata": {},
   "outputs": [],
   "source": [
    "NS_brazil[NS_brazil.state_name_1!= NS_brazil.state_name_2]"
   ]
  },
  {
   "cell_type": "markdown",
   "id": "ddb5e74e-2a4a-4b97-9476-ad296465cd09",
   "metadata": {},
   "source": [
    "In fact, we are NOT intersecting state names, we are intersecting geometries. Then, the input maps have some topological issues.\n",
    "\n",
    "This is the amount of area that is in fact a topological problem:"
   ]
  },
  {
   "cell_type": "code",
   "execution_count": null,
   "id": "ed29af30-f7b1-4fb2-a48e-e76ca3d242a0",
   "metadata": {},
   "outputs": [],
   "source": [
    "NS_brazil[NS_brazil.state_name_1!= NS_brazil.state_name_2].geometry.area.sum()"
   ]
  },
  {
   "cell_type": "markdown",
   "id": "ba01405e-dec9-4709-8eee-1256e8df371e",
   "metadata": {},
   "source": [
    "This represents the area with topologically valid boundaries:"
   ]
  },
  {
   "cell_type": "code",
   "execution_count": null,
   "id": "4bf225d6-3b98-4650-9c36-558996b7613c",
   "metadata": {},
   "outputs": [],
   "source": [
    "NS_brazil[NS_brazil.state_name_1== NS_brazil.state_name_2].geometry.area.sum()"
   ]
  },
  {
   "cell_type": "markdown",
   "id": "c5c03087-f4a6-4870-9ef7-19ea6ccc3710",
   "metadata": {},
   "source": [
    "A way to measure the share of the low quality:"
   ]
  },
  {
   "cell_type": "code",
   "execution_count": null,
   "id": "1fb79b39-3c17-42c0-91f6-f9b5056cbeb7",
   "metadata": {},
   "outputs": [],
   "source": [
    "NS_brazil[NS_brazil.state_name_1!= NS_brazil.state_name_2].geometry.area.sum()/  \\\n",
    "NS_brazil[NS_brazil.state_name_1== NS_brazil.state_name_2].geometry.area.sum() #continues from above"
   ]
  },
  {
   "cell_type": "markdown",
   "id": "8b8aad96-b3f9-4c25-9f20-83ce699d763a",
   "metadata": {},
   "source": [
    "So, spatial overlay operations do their best to give you true results; but unfortunately, as the quality of the sources is not perfect, you may get messy results. It is our job to detect and make decisions. Let's keep two GeoDF, one with the unperfect result, and another with the true output."
   ]
  },
  {
   "cell_type": "code",
   "execution_count": null,
   "id": "333abaf6-0a6e-4f87-9b66-d83ec8321fac",
   "metadata": {},
   "outputs": [],
   "source": [
    "NS_brazil_messy=NS_brazil.copy()\n",
    "NS_brazil=NS_brazil[NS_brazil.state_name_1== NS_brazil.state_name_2]"
   ]
  },
  {
   "cell_type": "markdown",
   "id": "63f0b701-618d-4090-a8aa-ea90d45930bc",
   "metadata": {},
   "source": [
    "This should be what we expected to see:"
   ]
  },
  {
   "cell_type": "code",
   "execution_count": null,
   "id": "7effbb8f-183e-4683-8466-619ecc5f03e1",
   "metadata": {},
   "outputs": [],
   "source": [
    "NS_brazil"
   ]
  },
  {
   "cell_type": "markdown",
   "id": "f2d4ee19-1074-4eb2-8b79-4405f4d551fb",
   "metadata": {},
   "source": [
    "The clean data has minor things to improve, delete redundant columns, rename columns, and reset the index so they are a correlative sequence. "
   ]
  },
  {
   "cell_type": "code",
   "execution_count": null,
   "id": "144f3447-84a7-4a04-94e2-0e0e386946a2",
   "metadata": {},
   "outputs": [],
   "source": [
    "# avoid redundancy\n",
    "keep=['state_name_1','state_code_1','geometry']\n",
    "NS_brazil=NS_brazil.loc[:,keep]\n",
    "NS_brazil.rename(columns={'state_name_1':'state_name','state_code_1':'state_code'},inplace=True)\n",
    "\n",
    "# reset for correlative sequence\n",
    "NS_brazil.reset_index(drop=True, inplace=True)"
   ]
  },
  {
   "cell_type": "markdown",
   "id": "81d97f1d-fa30-4793-8094-18e0573fa9b8",
   "metadata": {},
   "source": [
    "Based on the previous case, we may expect a similar situation here:"
   ]
  },
  {
   "cell_type": "code",
   "execution_count": null,
   "id": "a65bd362-ddde-4d7d-98c7-151d7a1d1b0b",
   "metadata": {
    "colab": {
     "base_uri": "https://localhost:8080/",
     "height": 481
    },
    "id": "a65bd362-ddde-4d7d-98c7-151d7a1d1b0b",
    "outputId": "6dc90a38-dab6-41f7-84c3-00d2701b9d18"
   },
   "outputs": [],
   "source": [
    "# keeping the overlay\n",
    "WE_brazil=W_brazil.overlay(E_brazil, how=\"intersection\",keep_geom_type=True)\n",
    "WE_brazil[WE_brazil.state_name_1!= WE_brazil.state_name_2]"
   ]
  },
  {
   "cell_type": "markdown",
   "id": "a4eae87b-6570-4ea2-951b-97c3848dbafd",
   "metadata": {},
   "source": [
    "Let's do the same as before:"
   ]
  },
  {
   "cell_type": "code",
   "execution_count": null,
   "id": "bc2d266d-1469-4850-bd6e-548bd272c6b2",
   "metadata": {},
   "outputs": [],
   "source": [
    "WE_brazil_messy=WE_brazil.copy()\n",
    "WE_brazil=WE_brazil[WE_brazil.state_name_1== WE_brazil.state_name_2]\n",
    "\n",
    "keep=['state_name_1','state_code_1','geometry']\n",
    "WE_brazil=WE_brazil.loc[:,keep]\n",
    "WE_brazil.rename(columns={'state_name_1':'state_name','state_code_1':'state_code'},inplace=True)\n",
    "WE_brazil.reset_index(drop=True, inplace=True)"
   ]
  },
  {
   "cell_type": "markdown",
   "id": "ec14306e-6c6e-4759-88e0-66a02b4294ec",
   "metadata": {
    "id": "ec14306e-6c6e-4759-88e0-66a02b4294ec"
   },
   "source": [
    "## Union\n",
    "\n",
    "Different from UNION_ALL (which acts as DISSOLVE), here we will combine two GeoDFs. "
   ]
  },
  {
   "cell_type": "code",
   "execution_count": null,
   "id": "4bbcc6ab-975e-4e47-8a07-9ad723c68368",
   "metadata": {
    "colab": {
     "base_uri": "https://localhost:8080/"
    },
    "id": "4bbcc6ab-975e-4e47-8a07-9ad723c68368",
    "outputId": "327ebe28-14b9-4bbb-bcaa-c5bcb1861faa"
   },
   "outputs": [],
   "source": [
    "NS_brazil.info()"
   ]
  },
  {
   "cell_type": "code",
   "execution_count": null,
   "id": "c69c559c-987a-4335-b18c-bc9e0f9fea2b",
   "metadata": {
    "colab": {
     "base_uri": "https://localhost:8080/"
    },
    "id": "c69c559c-987a-4335-b18c-bc9e0f9fea2b",
    "outputId": "ac5add12-0b6c-4c83-c4c8-fa7b1a3011cf"
   },
   "outputs": [],
   "source": [
    "WE_brazil.info()"
   ]
  },
  {
   "cell_type": "code",
   "execution_count": null,
   "id": "5dfab57c-04e5-468d-b60a-0cc82ddeb1de",
   "metadata": {
    "colab": {
     "base_uri": "https://localhost:8080/",
     "height": 424
    },
    "id": "5dfab57c-04e5-468d-b60a-0cc82ddeb1de",
    "outputId": "bd796237-81bd-4a2e-8a18-c43a874113f5"
   },
   "outputs": [],
   "source": [
    "# now\n",
    "NS_brazil.overlay(WE_brazil,how=\"union\",keep_geom_type=True)"
   ]
  },
  {
   "cell_type": "markdown",
   "id": "4630ac7f-d8f5-4f98-b88b-4b3e201cdba3",
   "metadata": {
    "id": "4630ac7f-d8f5-4f98-b88b-4b3e201cdba3"
   },
   "source": [
    "As you see, geometries are fine, but missing values were created where no intersection exists. Notice this operation does not identity the intersection, just pastes one of top of the other:"
   ]
  },
  {
   "cell_type": "code",
   "execution_count": null,
   "id": "dd26202c-f697-4635-9596-5eed71dc777d",
   "metadata": {
    "colab": {
     "base_uri": "https://localhost:8080/",
     "height": 424
    },
    "id": "dd26202c-f697-4635-9596-5eed71dc777d",
    "outputId": "da553bed-30d2-4bac-86b5-e226bf954c03"
   },
   "outputs": [],
   "source": [
    "# appending\n",
    "import pandas as pd\n",
    "\n",
    "pd.concat([NS_brazil,WE_brazil],ignore_index=True)"
   ]
  },
  {
   "cell_type": "markdown",
   "id": "2741107f-24c9-4dd0-bdd9-910a3666b61d",
   "metadata": {
    "id": "2741107f-24c9-4dd0-bdd9-910a3666b61d"
   },
   "source": [
    "Let me create an object to save the previous result:"
   ]
  },
  {
   "cell_type": "code",
   "execution_count": null,
   "id": "cc7b3bca-13b5-4bae-a431-3a23811f1a73",
   "metadata": {
    "colab": {
     "base_uri": "https://localhost:8080/",
     "height": 89
    },
    "id": "cc7b3bca-13b5-4bae-a431-3a23811f1a73",
    "outputId": "a5dc285e-ea40-4db4-8f69-9317ffb00fa5"
   },
   "outputs": [],
   "source": [
    "MidBrazil=NS_brazil.overlay(WE_brazil,how=\"union\",keep_geom_type=True).dissolve()\n",
    "MidBrazil"
   ]
  },
  {
   "cell_type": "code",
   "execution_count": null,
   "id": "df9d6897-4e84-4b6b-8a76-398b19985d49",
   "metadata": {
    "colab": {
     "base_uri": "https://localhost:8080/",
     "height": 89
    },
    "id": "df9d6897-4e84-4b6b-8a76-398b19985d49",
    "outputId": "e07d59fb-fe67-42d9-dd27-0d16d2b8ee21"
   },
   "outputs": [],
   "source": [
    "# some cleaning\n",
    "\n",
    "MidBrazil['country']='Brazil'\n",
    "MidBrazil['region']='center'\n",
    "# reordering\n",
    "MidBrazil=MidBrazil.loc[:,['country','region','geometry']]\n",
    "\n",
    "MidBrazil"
   ]
  },
  {
   "cell_type": "code",
   "execution_count": null,
   "id": "7023d7a3-2b4f-4a0c-97d6-5e1ab524242a",
   "metadata": {},
   "outputs": [],
   "source": [
    "# see it\n",
    "base=brazil_5880.plot(facecolor='yellow')\n",
    "MidBrazil.plot(ax=base)"
   ]
  },
  {
   "cell_type": "markdown",
   "id": "bd80963c-3d9e-4708-af62-6d19149a6a4b",
   "metadata": {
    "id": "bd80963c-3d9e-4708-af62-6d19149a6a4b"
   },
   "source": [
    "## Difference\n",
    "\n",
    "Here, you keep what belongs to the GeoDF to left that is not in the GeoDF to the right:"
   ]
  },
  {
   "cell_type": "code",
   "execution_count": null,
   "id": "667a9eeb-dadb-4fcf-9c67-23ce0f6da08a",
   "metadata": {
    "colab": {
     "base_uri": "https://localhost:8080/",
     "height": 481
    },
    "id": "667a9eeb-dadb-4fcf-9c67-23ce0f6da08a",
    "outputId": "ca55f1ba-5263-4864-82ea-8c8643eccf05"
   },
   "outputs": [],
   "source": [
    "# we keep nothern states that are not in the 'S_brazil' region\n",
    "N_brazil.overlay(S_brazil, how='difference')"
   ]
  },
  {
   "cell_type": "code",
   "execution_count": null,
   "id": "8fc7538f-4c2f-47ee-85ca-c3df2783f99c",
   "metadata": {},
   "outputs": [],
   "source": [
    "# using set operations:\n",
    "set(N_brazil.state_name)- set(S_brazil.state_name)"
   ]
  },
  {
   "cell_type": "markdown",
   "id": "796a135d-3c3b-4115-8c11-b9c001cc3476",
   "metadata": {},
   "source": [
    "We got a clean result. Let's plot it:"
   ]
  },
  {
   "cell_type": "code",
   "execution_count": null,
   "id": "0bc5fdd2-672b-4770-94ad-e886f7bb094a",
   "metadata": {},
   "outputs": [],
   "source": [
    "base=N_brazil.plot(color='yellow', edgecolor='black',alpha=0.1)\n",
    "N_brazil.overlay(S_brazil, how='difference').plot(ax=base)"
   ]
  },
  {
   "cell_type": "markdown",
   "id": "ae4cc49b-7302-424b-9dec-79dccb01122d",
   "metadata": {},
   "source": [
    "Keep in mind that **difference** is not commutative:"
   ]
  },
  {
   "cell_type": "code",
   "execution_count": null,
   "id": "3ed9cbaa-1036-4a76-935d-68c90210990d",
   "metadata": {},
   "outputs": [],
   "source": [
    "S_brazil.overlay(N_brazil, how='difference')"
   ]
  },
  {
   "cell_type": "code",
   "execution_count": null,
   "id": "74cf955a-71ff-4600-b4b9-256273357630",
   "metadata": {},
   "outputs": [],
   "source": [
    "base=N_brazil.plot(color='yellow', edgecolor='black',alpha=0.1)\n",
    "S_brazil.overlay(N_brazil, how='difference').plot(ax=base)"
   ]
  },
  {
   "cell_type": "markdown",
   "id": "8170b033-0707-43e8-b4ee-dca39e46f17a",
   "metadata": {
    "id": "8170b033-0707-43e8-b4ee-dca39e46f17a"
   },
   "source": [
    "## Symmetric Difference"
   ]
  },
  {
   "cell_type": "markdown",
   "id": "5f2728ec-f142-47a9-8de2-a65fef18680f",
   "metadata": {
    "id": "5f2728ec-f142-47a9-8de2-a65fef18680f"
   },
   "source": [
    "This is the opposite to *intersection*, you keep what is not in the intersection. Notice that this operation is commutative!"
   ]
  },
  {
   "cell_type": "code",
   "execution_count": null,
   "id": "1a3e81f0-3f80-4a88-98c7-5f6611c50cfe",
   "metadata": {
    "colab": {
     "base_uri": "https://localhost:8080/",
     "height": 481
    },
    "id": "1a3e81f0-3f80-4a88-98c7-5f6611c50cfe",
    "outputId": "6f74eff7-5d91-4ce8-9771-4a4d8de818fd"
   },
   "outputs": [],
   "source": [
    "N_brazil.overlay(S_brazil, how='symmetric_difference')"
   ]
  },
  {
   "cell_type": "markdown",
   "id": "2317badb-dae3-4e00-a7fa-de3a157fbe1c",
   "metadata": {},
   "source": [
    "This operation gave a clean result again. Let's plot it:"
   ]
  },
  {
   "cell_type": "code",
   "execution_count": null,
   "id": "6feddf7a-056a-42f7-9408-62fe691f5635",
   "metadata": {},
   "outputs": [],
   "source": [
    "N_brazil.overlay(S_brazil, how='symmetric_difference').plot()"
   ]
  },
  {
   "cell_type": "markdown",
   "id": "7caa0e58",
   "metadata": {
    "id": "7caa0e58"
   },
   "source": [
    "\n",
    "_____________\n",
    "\n",
    "<a class=\"anchor\" id=\"6\"></a>\n",
    "\n",
    "# Validity of Geometry\n",
    "\n",
    "Geometries are created in a way that some issues may appear, especially in (multi) polygons.\n",
    "Let's check if our recent maps on states and municipalities are valid:"
   ]
  },
  {
   "cell_type": "code",
   "execution_count": null,
   "id": "3a27c1ca",
   "metadata": {
    "colab": {
     "base_uri": "https://localhost:8080/",
     "height": 424
    },
    "id": "3a27c1ca",
    "outputId": "3ac8b3f8-eafb-438b-cf02-fb91d6748998"
   },
   "outputs": [],
   "source": [
    "# non valid\n",
    "\n",
    "S_brazil[~S_brazil.is_valid]"
   ]
  },
  {
   "cell_type": "code",
   "execution_count": null,
   "id": "ee29926a",
   "metadata": {
    "colab": {
     "base_uri": "https://localhost:8080/",
     "height": 481
    },
    "id": "ee29926a",
    "outputId": "02d6689b-8a2b-4788-9447-b9db3bac7413"
   },
   "outputs": [],
   "source": [
    "# see the invalid:\n",
    "S_brazil[~S_brazil.is_valid].plot()"
   ]
  },
  {
   "cell_type": "markdown",
   "id": "735abaa5",
   "metadata": {
    "id": "735abaa5"
   },
   "source": [
    "It is difficult to see what is wrong. Let's get some information:"
   ]
  },
  {
   "cell_type": "code",
   "execution_count": null,
   "id": "7c6591e0",
   "metadata": {
    "colab": {
     "base_uri": "https://localhost:8080/",
     "height": 458
    },
    "id": "7c6591e0",
    "outputId": "f5881f99-79d1-431f-e3ff-4e1fb9e613d4"
   },
   "outputs": [],
   "source": [
    "# what is wrong?\n",
    "\n",
    "from shapely.validation import explain_validity, make_valid\n",
    "\n",
    "explain_validity(S_brazil[~S_brazil.is_valid].geometry)"
   ]
  },
  {
   "cell_type": "code",
   "execution_count": null,
   "id": "0045e65b-c10a-49ff-8c6c-c877bd55ceea",
   "metadata": {},
   "outputs": [],
   "source": [
    "explain_validity(S_brazil.geometry).str.split(\"[\",expand=True)[0].value_counts()"
   ]
  },
  {
   "cell_type": "code",
   "execution_count": null,
   "id": "d69f261b",
   "metadata": {
    "colab": {
     "base_uri": "https://localhost:8080/",
     "height": 142
    },
    "id": "d69f261b",
    "outputId": "fa739ed0-bd09-444b-cf31-555254c97afa"
   },
   "outputs": [],
   "source": [
    "S_brazil_valid=S_brazil.copy()\n",
    "\n",
    "S_brazil_valid['geometry'] = [make_valid(row)  if not row.is_valid else row for row in S_brazil['geometry'] ]\n",
    "#any invalid?\n",
    "S_brazil_valid[~S_brazil_valid.is_valid]"
   ]
  },
  {
   "cell_type": "markdown",
   "id": "cfa45bcf",
   "metadata": {
    "id": "cfa45bcf"
   },
   "source": [
    "Let´s verify we have not created **collections**:"
   ]
  },
  {
   "cell_type": "code",
   "execution_count": null,
   "id": "c072a9dc-411c-4d7d-a94b-0c2f2de9cf97",
   "metadata": {
    "colab": {
     "base_uri": "https://localhost:8080/",
     "height": 178
    },
    "id": "c072a9dc-411c-4d7d-a94b-0c2f2de9cf97",
    "outputId": "3f5c6824-39e4-4cbd-cd03-e0417184bae5"
   },
   "outputs": [],
   "source": [
    "pd.Series([type(x) for x in S_brazil_valid.geometry]).value_counts()"
   ]
  },
  {
   "cell_type": "markdown",
   "id": "65x2T7riHonF",
   "metadata": {
    "id": "65x2T7riHonF"
   },
   "source": [
    "## Buffers and Validity\n",
    "\n",
    "The buffering process helps cleaning simple invalidities:"
   ]
  },
  {
   "cell_type": "code",
   "execution_count": null,
   "id": "PAj05ydv8_hF",
   "metadata": {
    "colab": {
     "base_uri": "https://localhost:8080/",
     "height": 53
    },
    "id": "PAj05ydv8_hF",
    "outputId": "16bb514d-4673-4b56-dab4-8f45c51535ad"
   },
   "outputs": [],
   "source": [
    "S_brazil_valid=S_brazil.copy()\n",
    "\n",
    "S_brazil_valid['geometry'] = S_brazil_valid['geometry'].buffer(0)\n",
    "\n",
    "#any invalid?\n",
    "S_brazil_valid[~S_brazil_valid.is_valid]"
   ]
  },
  {
   "cell_type": "markdown",
   "id": "zDnnoMc7ICYW",
   "metadata": {
    "id": "zDnnoMc7ICYW"
   },
   "source": [
    "This 'buffer trick' may not always work:"
   ]
  },
  {
   "cell_type": "code",
   "execution_count": null,
   "id": "-bOp4B4F9sDN",
   "metadata": {
    "colab": {
     "base_uri": "https://localhost:8080/",
     "height": 540
    },
    "id": "-bOp4B4F9sDN",
    "outputId": "cebf92a3-3962-434d-c5af-13d1f905cb4d"
   },
   "outputs": [],
   "source": [
    "# previously\n",
    "indicatorsByRegion.plot(column =indicatorsByRegion.index,\n",
    "                        edgecolor='white',\n",
    "                        figsize=(15, 10))"
   ]
  },
  {
   "cell_type": "markdown",
   "id": "22e08b0c-a5ea-444c-a5cf-190684a161a8",
   "metadata": {},
   "source": [
    "The worst cases seem AFRICA and EAST AND SOUTHEAST ASIA, as both show some lines that should have disappeared after the dissolving we did a while ago.\n",
    "\n",
    "Did the dissolving process created invalid geometries?"
   ]
  },
  {
   "cell_type": "code",
   "execution_count": null,
   "id": "c3281864-c92e-4b68-a886-29e83e0cdb3e",
   "metadata": {},
   "outputs": [],
   "source": [
    "indicatorsByRegion.geometry.is_valid.value_counts()"
   ]
  },
  {
   "cell_type": "markdown",
   "id": "G7eQNSJJIKl-",
   "metadata": {
    "id": "G7eQNSJJIKl-"
   },
   "source": [
    "Since we do not have invalid geometries, we know the dissolving created some gaps, so the goal is to snap the boundaries together to eliminate these microscopic gaps.\n",
    "\n",
    "We could try the trick  of buffer(0), again:"
   ]
  },
  {
   "cell_type": "code",
   "execution_count": null,
   "id": "TXpvyu_d9umU",
   "metadata": {
    "colab": {
     "base_uri": "https://localhost:8080/",
     "height": 540
    },
    "id": "TXpvyu_d9umU",
    "outputId": "a9ed632f-487c-488c-93cd-b918cb64422a"
   },
   "outputs": [],
   "source": [
    "indicatorsByRegion_prjd=indicatorsByRegion.to_crs(\"ESRI:54052\").copy()\n",
    "indicatorsByRegion_prjd['geometry'] = indicatorsByRegion_prjd.buffer(0)\n",
    "\n",
    "# previously\n",
    "indicatorsByRegion_prjd.plot(column =indicatorsByRegion_prjd.index,\n",
    "                        edgecolor='white',\n",
    "                        figsize=(15, 10))"
   ]
  },
  {
   "cell_type": "markdown",
   "id": "Ng_3aPjpIc6M",
   "metadata": {
    "id": "Ng_3aPjpIc6M"
   },
   "source": [
    "It did not work either. We may increase the buffer:"
   ]
  },
  {
   "cell_type": "code",
   "execution_count": null,
   "id": "oTved9a8-UH8",
   "metadata": {
    "colab": {
     "base_uri": "https://localhost:8080/",
     "height": 540
    },
    "id": "oTved9a8-UH8",
    "outputId": "66fc8de2-37c0-423c-d7ab-6b6ca85d99b2"
   },
   "outputs": [],
   "source": [
    "indicatorsByRegion_prjd['geometry'] = indicatorsByRegion_prjd.buffer(1)\n",
    "\n",
    "indicatorsByRegion_prjd.plot(column =indicatorsByRegion_prjd.index,\n",
    "                        edgecolor='white',\n",
    "                        figsize=(15, 10))"
   ]
  },
  {
   "cell_type": "markdown",
   "id": "2b896eca-a50e-4434-b529-12e6fa4f28d4",
   "metadata": {},
   "source": [
    "The last version did got rid of the gaps. Let's just check the counts in each case:"
   ]
  },
  {
   "cell_type": "code",
   "execution_count": null,
   "id": "effd1293-a115-4cbf-a68e-2dc08783a8df",
   "metadata": {},
   "outputs": [],
   "source": [
    "[(r,len(g.geoms)) for r,g in zip(indicatorsByRegion.index,indicatorsByRegion.geometry) if g.geom_type.startswith('Multi')]"
   ]
  },
  {
   "cell_type": "code",
   "execution_count": null,
   "id": "1ab0120c-27d0-498e-8dc1-f222244124dd",
   "metadata": {},
   "outputs": [],
   "source": [
    "[(r,len(g.geoms)) for r,g in zip(indicatorsByRegion_prjd.index,indicatorsByRegion_prjd.geometry)  if g.geom_type.startswith('Multi')]"
   ]
  },
  {
   "cell_type": "markdown",
   "id": "rdsk7MTUItrn",
   "metadata": {
    "id": "rdsk7MTUItrn"
   },
   "source": [
    "It seems AFRICA issue was solved, but not EAST AND SOUTHEAST ASIA. Thee seems to be a really big issue in those borders (Mongolia and China). Let's explore:"
   ]
  },
  {
   "cell_type": "code",
   "execution_count": null,
   "id": "49093b9a-e2bc-4a64-a0da-2bff5a0c360d",
   "metadata": {},
   "outputs": [],
   "source": [
    "china=indicators[indicators.Country.isin(['CHINA'])]\n",
    "mongolia=indicators[indicators.Country.isin(['MONGOLIA'])]\n",
    "\n",
    "china.overlay(mongolia, how='intersection',keep_geom_type=False).geometry"
   ]
  },
  {
   "cell_type": "markdown",
   "id": "ba893547-b00e-495b-9799-12a908271554",
   "metadata": {},
   "source": [
    "So, we have some really bad situation:\n",
    "\n",
    "- There is an intersection between two countries, and there should be none.\n",
    "- There intersection includes objects other than polygons: 'GEOMETRYCOLLECTION'\n",
    "\n",
    "See:\n"
   ]
  },
  {
   "cell_type": "code",
   "execution_count": null,
   "id": "82de9956-afb1-4146-a84a-821310f13ac9",
   "metadata": {},
   "outputs": [],
   "source": [
    "# Quick count of objects in the GeometryCollection\n",
    "result_geom = china.overlay(mongolia, how='intersection',keep_geom_type=False).geometry.iloc[0]\n",
    "if result_geom.geom_type == 'GeometryCollection':\n",
    "    print(f\"Objects in collection: {len(result_geom.geoms)}\")\n",
    "    from collections import Counter\n",
    "    print(dict(Counter(g.geom_type for g in result_geom.geoms)))"
   ]
  },
  {
   "cell_type": "code",
   "execution_count": null,
   "id": "a4d9aade-2583-495f-8a44-56227c43f2dd",
   "metadata": {},
   "outputs": [],
   "source": [
    "## see the intersection:\n",
    "base=china.plot(color='lightgrey')\n",
    "mongolia.plot(color='yellow',ax=base)\n",
    "china.overlay(mongolia, how='intersection',keep_geom_type=False).plot(ax=base)"
   ]
  },
  {
   "cell_type": "markdown",
   "id": "75f1fd42-45a2-41d5-a048-7a32d441b217",
   "metadata": {},
   "source": [
    "The solution to this, believe me will not be trivial: the border is not continuous, and creating a 'new frontier' between China and Mongolia will demand more functions than the ones we have taught so far. Situations like this require smart decisions, like get a new map  with a [better quality](https://www.naturalearthdata.com/downloads/110m-cultural-vectors/)."
   ]
  },
  {
   "cell_type": "code",
   "execution_count": null,
   "id": "e40a5236-e370-4164-91ec-9e440482fd6e",
   "metadata": {},
   "outputs": [],
   "source": []
  },
  {
   "cell_type": "code",
   "execution_count": null,
   "id": "73af001e-3481-4882-8e16-3e41faf4d359",
   "metadata": {},
   "outputs": [],
   "source": []
  }
 ],
 "metadata": {
  "anaconda-cloud": {
   "attach-environment": true,
   "summary": "test"
  },
  "colab": {
   "provenance": []
  },
  "hide_input": false,
  "jupytext": {
   "cell_metadata_filter": "-all",
   "notebook_metadata_filter": "-all"
  },
  "kernelspec": {
   "display_name": "Python 3 (ipykernel)",
   "language": "python",
   "name": "python3"
  },
  "language_info": {
   "codemirror_mode": {
    "name": "ipython",
    "version": 3
   },
   "file_extension": ".py",
   "mimetype": "text/x-python",
   "name": "python",
   "nbconvert_exporter": "python",
   "pygments_lexer": "ipython3",
   "version": "3.11.13"
  },
  "toc-autonumbering": false
 },
 "nbformat": 4,
 "nbformat_minor": 5
}
