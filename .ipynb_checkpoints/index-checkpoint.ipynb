{
 "cells": [
  {
   "cell_type": "markdown",
   "id": "f8746832",
   "metadata": {
    "id": "f8746832"
   },
   "source": [
    "<center><img src=\"https://i.imgur.com/zRrFdsf.png\" width=\"700\"></center>\n",
    "\n"
   ]
  },
  {
   "cell_type": "markdown",
   "id": "af76d2a2",
   "metadata": {
    "id": "af76d2a2"
   },
   "source": [
    "<a target=\"_blank\" href=\"https://colab.research.google.com/github/CienciaDeDatosEspacial/GeoDataFrame_SpatialOperation/blob/main/index.ipynb\">\n",
    "  <img src=\"https://colab.research.google.com/assets/colab-badge.svg\" alt=\"Open In Colab\"/>\n",
    "</a>\n",
    "\n",
    "# Basic spatial operations in  Geo Dataframes\n",
    "\n",
    "We will review some important operations for geodataframes."
   ]
  },
  {
   "cell_type": "markdown",
   "id": "244a5266",
   "metadata": {
    "id": "244a5266"
   },
   "source": [
    "Let's remember the contents of the world map from last session:\n",
    "\n",
    "<a class=\"anchor\" id=\"0\"></a>"
   ]
  },
  {
   "cell_type": "code",
   "execution_count": null,
   "id": "f5bcb405-dfc6-4b14-8499-d9e42805336d",
   "metadata": {
    "colab": {
     "base_uri": "https://localhost:8080/",
     "height": 143
    },
    "id": "f5bcb405-dfc6-4b14-8499-d9e42805336d",
    "outputId": "5a969405-6147-4637-e40f-519a2e199062"
   },
   "outputs": [],
   "source": [
    "linkWorldMap=\"https://github.com/CienciaDeDatosEspacial/dataSets/raw/refs/heads/main/WORLD/worldMaps.gpkg\"\n",
    "\n",
    "import geopandas as gpd\n",
    "gpd.list_layers(linkWorldMap)"
   ]
  },
  {
   "cell_type": "markdown",
   "id": "0ea5e97e-6d16-4803-a70e-f7d5982af275",
   "metadata": {
    "id": "0ea5e97e-6d16-4803-a70e-f7d5982af275"
   },
   "source": [
    "Let's open all the layers (this takes a minute):"
   ]
  },
  {
   "cell_type": "code",
   "execution_count": null,
   "id": "fad3435e-317c-49e5-ab61-ef7261c92cfe",
   "metadata": {
    "id": "fad3435e-317c-49e5-ab61-ef7261c92cfe"
   },
   "outputs": [],
   "source": [
    "countries=gpd.read_file(linkWorldMap,layer='countries')\n",
    "rivers=gpd.read_file(linkWorldMap,layer='rivers')\n",
    "cities=gpd.read_file(linkWorldMap,layer='cities')"
   ]
  },
  {
   "cell_type": "markdown",
   "id": "c2fc940f",
   "metadata": {
    "id": "c2fc940f"
   },
   "source": [
    "\n",
    "\n",
    "Now, let's see some important spatial operations.\n"
   ]
  },
  {
   "cell_type": "markdown",
   "id": "cbba7a88-a1b1-41d1-8aff-a1f912f964a9",
   "metadata": {
    "id": "cbba7a88-a1b1-41d1-8aff-a1f912f964a9"
   },
   "source": [
    "<a class=\"anchor\" id=\"1\"></a>\n",
    "\n",
    "# Subsetting\n",
    "\n",
    "## Filtering\n",
    "\n",
    "You can keep some elements by subsetting by *filtering*, as we used to do in common pandas data frames."
   ]
  },
  {
   "cell_type": "code",
   "execution_count": null,
   "id": "4ed1361d-8624-41eb-868c-0010ed9c9475",
   "metadata": {
    "colab": {
     "base_uri": "https://localhost:8080/",
     "height": 206
    },
    "id": "4ed1361d-8624-41eb-868c-0010ed9c9475",
    "outputId": "ba7ec566-90b2-496b-95a0-184e291f1c5f"
   },
   "outputs": [],
   "source": [
    "countries.head()"
   ]
  },
  {
   "cell_type": "code",
   "execution_count": null,
   "id": "a41ade83-f334-4d7a-ae1d-61b66e6b5b92",
   "metadata": {
    "colab": {
     "base_uri": "https://localhost:8080/",
     "height": 424
    },
    "id": "a41ade83-f334-4d7a-ae1d-61b66e6b5b92",
    "outputId": "0eb1d914-233c-4493-99ef-fd20922c7868"
   },
   "outputs": [],
   "source": [
    "# as DF\n",
    "countries.iloc[50:,]"
   ]
  },
  {
   "cell_type": "code",
   "execution_count": null,
   "id": "17e5a1bf-ee01-41b0-81f4-bfbc4657857c",
   "metadata": {
    "colab": {
     "base_uri": "https://localhost:8080/",
     "height": 458
    },
    "id": "17e5a1bf-ee01-41b0-81f4-bfbc4657857c",
    "outputId": "3bde2eef-f346-474c-f5b6-887deddefa22"
   },
   "outputs": [],
   "source": [
    "# as DF\n",
    "countries.loc[50:,'geometry']"
   ]
  },
  {
   "cell_type": "markdown",
   "id": "6a3dfc54-46a0-4531-998c-3f11c9735fec",
   "metadata": {
    "id": "6a3dfc54-46a0-4531-998c-3f11c9735fec"
   },
   "source": [
    "But as a GeDF, you can also filter using a coordinate point via __cx__. Let me get the bounding box of the map:"
   ]
  },
  {
   "cell_type": "code",
   "execution_count": null,
   "id": "80f8a267-da8a-4831-be2b-7d83bac3c595",
   "metadata": {
    "colab": {
     "base_uri": "https://localhost:8080/"
    },
    "id": "80f8a267-da8a-4831-be2b-7d83bac3c595",
    "outputId": "0abc437a-fd5d-42e9-9e5a-8ec183735ac7"
   },
   "outputs": [],
   "source": [
    "countries.total_bounds"
   ]
  },
  {
   "cell_type": "markdown",
   "id": "66a83e6d-4073-44fc-8e07-b1ddabc5582a",
   "metadata": {
    "id": "66a83e6d-4073-44fc-8e07-b1ddabc5582a"
   },
   "source": [
    "As you are getting __[minx, miny, maxx, maxy]__ let me select a valid coordinate, i.e. (0,0)"
   ]
  },
  {
   "cell_type": "code",
   "execution_count": null,
   "id": "50632acb-1595-4207-927c-ee9b4d030b83",
   "metadata": {
    "colab": {
     "base_uri": "https://localhost:8080/",
     "height": 833
    },
    "id": "50632acb-1595-4207-927c-ee9b4d030b83",
    "outputId": "19568afa-f936-4fee-ee5c-4abb1d08b942"
   },
   "outputs": [],
   "source": [
    "countries.cx[:0,:0]"
   ]
  },
  {
   "cell_type": "code",
   "execution_count": null,
   "id": "27d0e4a1-8798-45ff-b122-e81b4f613100",
   "metadata": {
    "colab": {
     "base_uri": "https://localhost:8080/",
     "height": 259
    },
    "id": "27d0e4a1-8798-45ff-b122-e81b4f613100",
    "outputId": "267aa2e7-b28e-4ea0-91bc-e17b266c9a50"
   },
   "outputs": [],
   "source": [
    "#then\n",
    "countries.cx[:0,:0].plot()"
   ]
  },
  {
   "cell_type": "markdown",
   "id": "1c44c596-e798-44d7-ba22-e24c00ae5044",
   "metadata": {
    "id": "1c44c596-e798-44d7-ba22-e24c00ae5044"
   },
   "source": [
    "Notice __cx__ would be cleaner if spatial element is a point."
   ]
  },
  {
   "cell_type": "markdown",
   "id": "be643505-1c8f-435c-b3ca-150aee9c4b3b",
   "metadata": {
    "id": "be643505-1c8f-435c-b3ca-150aee9c4b3b"
   },
   "source": [
    "## Clipping"
   ]
  },
  {
   "cell_type": "markdown",
   "id": "5b602bc2-9264-46ac-8b8a-b3a71514096e",
   "metadata": {
    "id": "5b602bc2-9264-46ac-8b8a-b3a71514096e"
   },
   "source": [
    "Let me keep one country:"
   ]
  },
  {
   "cell_type": "code",
   "execution_count": null,
   "id": "fa3fd88c-b4ee-42c2-8d79-5c4855534877",
   "metadata": {
    "colab": {
     "base_uri": "https://localhost:8080/",
     "height": 89
    },
    "id": "fa3fd88c-b4ee-42c2-8d79-5c4855534877",
    "outputId": "9e65dd23-c40f-4cc7-ae2f-cb6463467d09"
   },
   "outputs": [],
   "source": [
    "brazil=countries[countries.COUNTRY=='Brazil']\n",
    "#see\n",
    "brazil"
   ]
  },
  {
   "cell_type": "markdown",
   "id": "01e11a63-f60d-46b7-90b3-29f8e554227f",
   "metadata": {
    "id": "01e11a63-f60d-46b7-90b3-29f8e554227f"
   },
   "source": [
    "Pay attention to this GDF:"
   ]
  },
  {
   "cell_type": "code",
   "execution_count": null,
   "id": "39f32061-01f8-4459-ab57-b2e311838aba",
   "metadata": {
    "colab": {
     "base_uri": "https://localhost:8080/",
     "height": 424
    },
    "id": "39f32061-01f8-4459-ab57-b2e311838aba",
    "outputId": "b1f4eabf-92ee-4dac-817d-103af8c08835"
   },
   "outputs": [],
   "source": [
    "cities"
   ]
  },
  {
   "cell_type": "markdown",
   "id": "8f48d650-8113-4e99-ba44-1c6393d3f9dd",
   "metadata": {
    "id": "8f48d650-8113-4e99-ba44-1c6393d3f9dd"
   },
   "source": [
    "The GDF has a column 'COUNTRY' too.\n",
    "\n",
    "Now, check the rivers GDF:"
   ]
  },
  {
   "cell_type": "code",
   "execution_count": null,
   "id": "e04c8325-ac9e-416a-a15d-165a3945c028",
   "metadata": {
    "colab": {
     "base_uri": "https://localhost:8080/",
     "height": 424
    },
    "id": "e04c8325-ac9e-416a-a15d-165a3945c028",
    "outputId": "59e3b63c-7f48-4f5c-f269-102a2f7388b5"
   },
   "outputs": [],
   "source": [
    "rivers"
   ]
  },
  {
   "cell_type": "markdown",
   "id": "c6fcbcc4-6b4e-45ea-ba63-814549807e6d",
   "metadata": {
    "id": "c6fcbcc4-6b4e-45ea-ba63-814549807e6d"
   },
   "source": [
    "As you see, this GDF has no Country. But since it has geometry, you can keep the rivers, or their sections, that serve a country:"
   ]
  },
  {
   "cell_type": "code",
   "execution_count": null,
   "id": "5b6a5884-4c38-4cf9-b452-c472e409d82b",
   "metadata": {
    "id": "5b6a5884-4c38-4cf9-b452-c472e409d82b"
   },
   "outputs": [],
   "source": [
    "riversBrazil_clipped = gpd.clip(gdf=rivers,\n",
    "                               mask=brazil)"
   ]
  },
  {
   "cell_type": "markdown",
   "id": "59424b3b-f335-47dd-8496-c4a7a5b7ee72",
   "metadata": {
    "id": "59424b3b-f335-47dd-8496-c4a7a5b7ee72"
   },
   "source": [
    "Then, you can plot the clipped version:"
   ]
  },
  {
   "cell_type": "code",
   "execution_count": null,
   "id": "4cc43012-dcc3-45b3-b31e-35bcb26cab94",
   "metadata": {
    "colab": {
     "base_uri": "https://localhost:8080/",
     "height": 463
    },
    "id": "4cc43012-dcc3-45b3-b31e-35bcb26cab94",
    "outputId": "684ed3d4-de8e-4541-f1b2-8c2dc6e30281"
   },
   "outputs": [],
   "source": [
    "base = brazil.plot(facecolor=\"greenyellow\", edgecolor='black', linewidth=0.4,figsize=(5,5))\n",
    "riversBrazil_clipped.plot(edgecolor='blue', linewidth=0.5,\n",
    "                    ax=base)"
   ]
  },
  {
   "cell_type": "markdown",
   "id": "a565103c-95a1-4adc-be79-99cf98d5d57b",
   "metadata": {
    "id": "a565103c-95a1-4adc-be79-99cf98d5d57b"
   },
   "source": [
    "The geometry types are not modified:"
   ]
  },
  {
   "cell_type": "code",
   "execution_count": null,
   "id": "0180a0cd-311b-43e4-a68a-2fe82f46b4a0",
   "metadata": {
    "colab": {
     "base_uri": "https://localhost:8080/"
    },
    "id": "0180a0cd-311b-43e4-a68a-2fe82f46b4a0",
    "outputId": "8e33577f-7505-4442-fc2e-e55014d0f49c"
   },
   "outputs": [],
   "source": [
    "set(brazil.geom_type), set(riversBrazil_clipped.geom_type)"
   ]
  },
  {
   "cell_type": "code",
   "execution_count": null,
   "id": "dc3b94b2-7750-4888-9e56-482fd5c77529",
   "metadata": {},
   "outputs": [],
   "source": []
  },
  {
   "cell_type": "markdown",
   "id": "f4045360",
   "metadata": {
    "id": "f4045360"
   },
   "source": [
    "\n",
    "\n",
    "_____________\n",
    "\n",
    "\n",
    "<a class=\"anchor\" id=\"3\"></a>\n",
    "\n",
    "# UNARY Operations on GeoDF\n",
    "\n",
    "Let me bring the projected data from Brazil."
   ]
  },
  {
   "cell_type": "code",
   "execution_count": null,
   "id": "32827eb6-2450-4210-bec0-c45032769605",
   "metadata": {
    "colab": {
     "base_uri": "https://localhost:8080/",
     "height": 206
    },
    "id": "32827eb6-2450-4210-bec0-c45032769605",
    "outputId": "ffd0f77f-62a2-4a23-ed8c-ddc5a6c4e35f"
   },
   "outputs": [],
   "source": [
    "LinkBrazil=\"https://github.com/CienciaDeDatosEspacial/dataSets/raw/refs/heads/main/BRAZIL/brazil_5880.gpkg\"\n",
    "## we have\n",
    "gpd.list_layers(LinkBrazil)"
   ]
  },
  {
   "cell_type": "markdown",
   "id": "099c9940-1d68-4524-8494-91236904510e",
   "metadata": {
    "id": "099c9940-1d68-4524-8494-91236904510e"
   },
   "source": [
    "Let me open municipalities:"
   ]
  },
  {
   "cell_type": "code",
   "execution_count": null,
   "id": "ff834b0d-e7e8-434f-a293-7c3ca2e3490a",
   "metadata": {
    "colab": {
     "base_uri": "https://localhost:8080/",
     "height": 481
    },
    "id": "ff834b0d-e7e8-434f-a293-7c3ca2e3490a",
    "outputId": "da2b4aa6-bbb0-49b3-b584-9809eb9184c9"
   },
   "outputs": [],
   "source": [
    "brazil_municipalities=gpd.read_file(LinkBrazil,layer='municipalities')\n",
    "brazil_municipalities.plot(facecolor='lightgrey', edgecolor='black',linewidth=0.2)"
   ]
  },
  {
   "cell_type": "code",
   "execution_count": null,
   "id": "a732d195-b51f-4bf7-8b9c-daaf8a49c0a3",
   "metadata": {
    "colab": {
     "base_uri": "https://localhost:8080/",
     "height": 206
    },
    "id": "a732d195-b51f-4bf7-8b9c-daaf8a49c0a3",
    "outputId": "d19e9d6b-8d87-45e6-b693-9cc997209290"
   },
   "outputs": [],
   "source": [
    "#see\n",
    "brazil_municipalities.head()"
   ]
  },
  {
   "cell_type": "code",
   "execution_count": null,
   "id": "05e89ed8-5095-46b6-a59f-c0248047fdcf",
   "metadata": {
    "colab": {
     "base_uri": "https://localhost:8080/"
    },
    "id": "05e89ed8-5095-46b6-a59f-c0248047fdcf",
    "outputId": "42856d36-7cc8-4925-e600-173d261cebea"
   },
   "outputs": [],
   "source": [
    "## we have\n",
    "len(brazil_municipalities.ADM2_PT)"
   ]
  },
  {
   "cell_type": "code",
   "execution_count": null,
   "id": "edc01a89-ae84-405d-82e8-0ba1da113a00",
   "metadata": {
    "colab": {
     "base_uri": "https://localhost:8080/"
    },
    "id": "edc01a89-ae84-405d-82e8-0ba1da113a00",
    "outputId": "d0ad3172-bb39-4726-eaff-4eacd31280a3"
   },
   "outputs": [],
   "source": [
    "# higher level count\n",
    "len(set(brazil_municipalities.ADM1_PT))"
   ]
  },
  {
   "cell_type": "markdown",
   "id": "1d0ca18b-4d56-4a5f-9575-755e278582c2",
   "metadata": {
    "id": "1d0ca18b-4d56-4a5f-9575-755e278582c2"
   },
   "source": [
    "Then, this is Minas Gerais:"
   ]
  },
  {
   "cell_type": "code",
   "execution_count": null,
   "id": "e2954e50-2d6f-4583-a2c0-3e5aaeb20b44",
   "metadata": {
    "colab": {
     "base_uri": "https://localhost:8080/",
     "height": 481
    },
    "id": "e2954e50-2d6f-4583-a2c0-3e5aaeb20b44",
    "outputId": "1c2b676d-f43b-4cfd-aa3a-01c8684ae6e7"
   },
   "outputs": [],
   "source": [
    "brazil_municipalities[brazil_municipalities.ADM1_PT=='Minas Gerais'].plot(edgecolor='yellow')"
   ]
  },
  {
   "cell_type": "markdown",
   "id": "e0ec0e20-de35-444b-9b20-daff26825402",
   "metadata": {
    "id": "e0ec0e20-de35-444b-9b20-daff26825402"
   },
   "source": [
    "## I. Operation that combine \n",
    "\n",
    "Let's see the options to combine:"
   ]
  },
  {
   "cell_type": "markdown",
   "id": "97eadc14-d617-4345-ad89-1eb2b786d31f",
   "metadata": {
    "id": "97eadc14-d617-4345-ad89-1eb2b786d31f"
   },
   "source": [
    "### Unary UNION\n",
    "\n",
    "We can combine all these polygons into one:"
   ]
  },
  {
   "cell_type": "code",
   "execution_count": null,
   "id": "c00c048b-6faa-4ad6-8cf7-0f98769e17f2",
   "metadata": {
    "colab": {
     "base_uri": "https://localhost:8080/",
     "height": 321
    },
    "id": "c00c048b-6faa-4ad6-8cf7-0f98769e17f2",
    "outputId": "d6518f2b-be89-4366-ca31-a49bb275f203"
   },
   "outputs": [],
   "source": [
    "brazil_municipalities[brazil_municipalities.ADM1_PT=='Minas Gerais'].union_all()"
   ]
  },
  {
   "cell_type": "markdown",
   "id": "9d3fcffd-e552-4bea-9da3-b39745de4c36",
   "metadata": {
    "id": "9d3fcffd-e552-4bea-9da3-b39745de4c36"
   },
   "source": [
    "Let's save that result:"
   ]
  },
  {
   "cell_type": "code",
   "execution_count": null,
   "id": "ce5d4b07-7f14-4dc7-8031-5c12ee2c8a92",
   "metadata": {
    "id": "ce5d4b07-7f14-4dc7-8031-5c12ee2c8a92"
   },
   "outputs": [],
   "source": [
    "MinasGerais_union=brazil_municipalities[brazil_municipalities.ADM1_PT=='Minas Gerais'].union_all()"
   ]
  },
  {
   "cell_type": "code",
   "execution_count": null,
   "id": "d71ea52f-6738-4d8b-93fb-6e6bfdd7ed21",
   "metadata": {
    "colab": {
     "base_uri": "https://localhost:8080/"
    },
    "id": "d71ea52f-6738-4d8b-93fb-6e6bfdd7ed21",
    "outputId": "e2976b5a-efa1-492e-e3bc-81842fa7fdd8"
   },
   "outputs": [],
   "source": [
    "# what do we have?\n",
    "type(MinasGerais_union)"
   ]
  },
  {
   "cell_type": "markdown",
   "id": "97f5eeba-ee4f-4a46-b8ac-9645f7e59766",
   "metadata": {
    "id": "97f5eeba-ee4f-4a46-b8ac-9645f7e59766"
   },
   "source": [
    "You can turn that shapely object into a GeoDF like this:"
   ]
  },
  {
   "cell_type": "code",
   "execution_count": null,
   "id": "52d84f0d-bd43-4008-b3ac-c807e7dbafc5",
   "metadata": {
    "colab": {
     "base_uri": "https://localhost:8080/",
     "height": 81
    },
    "id": "52d84f0d-bd43-4008-b3ac-c807e7dbafc5",
    "outputId": "add29621-ed75-4274-a651-e092ea7e3185"
   },
   "outputs": [],
   "source": [
    "gpd.GeoDataFrame(index=[0], # one element\n",
    "                 data={'ADM':'Minas Gerais'}, # the column and the value\n",
    "                 crs=brazil_municipalities.crs,\n",
    "                 geometry=[MinasGerais_union]) # the recent union"
   ]
  },
  {
   "cell_type": "markdown",
   "id": "b1dee927-70dd-48e8-82b7-a04a2fa8fe3c",
   "metadata": {
    "id": "b1dee927-70dd-48e8-82b7-a04a2fa8fe3c"
   },
   "source": [
    "<a class=\"anchor\" id=\"21\"></a>\n",
    "\n",
    "### Dissolve\n",
    "\n",
    "#### a. Dissolve as Union\n",
    "Using  **dissolve** is an alternative to _UNION_:"
   ]
  },
  {
   "cell_type": "code",
   "execution_count": null,
   "id": "c5768952-7e24-43ad-901e-9a7fadc3fc2c",
   "metadata": {
    "colab": {
     "base_uri": "https://localhost:8080/",
     "height": 481
    },
    "id": "c5768952-7e24-43ad-901e-9a7fadc3fc2c",
    "outputId": "78bde6c3-e080-44ff-e393-19a812684b6e"
   },
   "outputs": [],
   "source": [
    "brazil_municipalities[brazil_municipalities.ADM1_PT=='Minas Gerais'].dissolve().plot()"
   ]
  },
  {
   "cell_type": "markdown",
   "id": "351fbf6a-7e61-467e-ab1c-15c7544a4632",
   "metadata": {
    "id": "351fbf6a-7e61-467e-ab1c-15c7544a4632"
   },
   "source": [
    "Let me save the result, and see the type :"
   ]
  },
  {
   "cell_type": "code",
   "execution_count": null,
   "id": "672d051e-772e-4310-86f6-8fcfca6ed287",
   "metadata": {
    "colab": {
     "base_uri": "https://localhost:8080/",
     "height": 187
    },
    "id": "672d051e-772e-4310-86f6-8fcfca6ed287",
    "outputId": "2ac9f749-2cc1-43f7-e90d-f6bfd565fa69"
   },
   "outputs": [],
   "source": [
    "MinasGerais_dissolve=brazil_municipalities[brazil_municipalities.ADM1_PT=='Minas Gerais'].dissolve()\n",
    "\n",
    "# we got?\n",
    "type(MinasGerais_dissolve)"
   ]
  },
  {
   "cell_type": "markdown",
   "id": "2fc5778d-ef46-46dd-bd3e-eaba9f668e03",
   "metadata": {
    "id": "2fc5778d-ef46-46dd-bd3e-eaba9f668e03"
   },
   "source": [
    "You got a GEOdf this time:"
   ]
  },
  {
   "cell_type": "code",
   "execution_count": null,
   "id": "c3f3d552-060c-41f2-bbe5-debf1de6a496",
   "metadata": {
    "colab": {
     "base_uri": "https://localhost:8080/",
     "height": 89
    },
    "id": "c3f3d552-060c-41f2-bbe5-debf1de6a496",
    "outputId": "440196dd-dc8d-4143-f0dc-e443547f5785"
   },
   "outputs": [],
   "source": [
    "## see\n",
    "MinasGerais_dissolve"
   ]
  },
  {
   "cell_type": "code",
   "execution_count": null,
   "id": "95b21cb3-db50-48f1-a354-ce2b23e9b247",
   "metadata": {
    "colab": {
     "base_uri": "https://localhost:8080/",
     "height": 89
    },
    "id": "95b21cb3-db50-48f1-a354-ce2b23e9b247",
    "outputId": "0c529369-6e65-4304-b641-788a744787ea"
   },
   "outputs": [],
   "source": [
    "# keeping what is relevant\n",
    "MinasGerais_dissolve.drop(columns=['ADM2_PT','ADM2_PCODE','ET_ID'],inplace=True)\n",
    "\n",
    "# then\n",
    "MinasGerais_dissolve"
   ]
  },
  {
   "cell_type": "markdown",
   "id": "9321a5df-3274-4696-9278-6141e3218930",
   "metadata": {
    "id": "9321a5df-3274-4696-9278-6141e3218930"
   },
   "source": [
    "#### b. Dissolve for groups\n",
    "\n",
    "Using _dissolve()_ with no arguments returns the union of the polygons, BUT also you get a GEOdf.\n",
    "However, if you have a column that represents a grouping (as we do), you can dissolve by that column:"
   ]
  },
  {
   "cell_type": "code",
   "execution_count": null,
   "id": "8b02371a-f65e-46e5-b0d2-e88d21825cd2",
   "metadata": {
    "colab": {
     "base_uri": "https://localhost:8080/",
     "height": 481
    },
    "id": "8b02371a-f65e-46e5-b0d2-e88d21825cd2",
    "outputId": "506a772d-0f22-4f87-9cf8-72298537b8ad"
   },
   "outputs": [],
   "source": [
    "# dissolving\n",
    "brazil_municipalities.dissolve(by='ADM1_PT').plot(facecolor='lightgrey', edgecolor='black',linewidth=0.2)"
   ]
  },
  {
   "cell_type": "markdown",
   "id": "ade71f08-90cb-4a1c-977a-4f5ac846f2d9",
   "metadata": {
    "id": "ade71f08-90cb-4a1c-977a-4f5ac846f2d9"
   },
   "source": [
    "Again, let me save this result:"
   ]
  },
  {
   "cell_type": "code",
   "execution_count": null,
   "id": "1a36080b-9326-4584-9190-fa1718e03f0d",
   "metadata": {
    "id": "1a36080b-9326-4584-9190-fa1718e03f0d"
   },
   "outputs": [],
   "source": [
    "Brazil_adm1_diss=brazil_municipalities.dissolve(by='ADM1_PT')"
   ]
  },
  {
   "cell_type": "markdown",
   "id": "4d1de91b-7ad7-44f5-a9cb-410dbf53656c",
   "metadata": {
    "id": "4d1de91b-7ad7-44f5-a9cb-410dbf53656c"
   },
   "source": [
    "We know we have a GeoDF; let's see contents:"
   ]
  },
  {
   "cell_type": "code",
   "execution_count": null,
   "id": "ef8b7fbb-7b5b-4624-ae40-e7aed7d4bdf6",
   "metadata": {
    "colab": {
     "base_uri": "https://localhost:8080/",
     "height": 927
    },
    "id": "ef8b7fbb-7b5b-4624-ae40-e7aed7d4bdf6",
    "outputId": "d5ec1d9d-642c-4b0d-b352-5d48203ef4c8"
   },
   "outputs": [],
   "source": [
    "Brazil_adm1_diss.head()"
   ]
  },
  {
   "cell_type": "markdown",
   "id": "48b1ddda-4b45-489c-97b8-3260a2f75459",
   "metadata": {
    "id": "48b1ddda-4b45-489c-97b8-3260a2f75459"
   },
   "source": [
    "Again, we can drop columns that do not bring important information:"
   ]
  },
  {
   "cell_type": "code",
   "execution_count": null,
   "id": "bebf8290-4334-4b1f-8818-0f0db44799be",
   "metadata": {
    "colab": {
     "base_uri": "https://localhost:8080/"
    },
    "id": "bebf8290-4334-4b1f-8818-0f0db44799be",
    "outputId": "decce817-b7a3-444d-ead9-6602ea60cdad"
   },
   "outputs": [],
   "source": [
    "Brazil_adm1_diss.drop(columns=['ADM2_PT','ADM2_PCODE','ET_ID'],inplace=True)\n",
    "Brazil_adm1_diss.reset_index(inplace=True)\n",
    "Brazil_adm1_diss.info()"
   ]
  },
  {
   "cell_type": "markdown",
   "id": "8ce4da9c-0e99-4e00-aabb-5a291d7a935d",
   "metadata": {
    "id": "8ce4da9c-0e99-4e00-aabb-5a291d7a935d"
   },
   "source": [
    "#### c. Dissolve and aggregate\n",
    "\n",
    "In pandas, you can aggregate data using some statistics. Let me open the map with indicators we created in a previous session:"
   ]
  },
  {
   "cell_type": "code",
   "execution_count": null,
   "id": "f842ce68-8353-4af7-9ed9-5e1a8e856f39",
   "metadata": {
    "colab": {
     "base_uri": "https://localhost:8080/",
     "height": 206
    },
    "id": "f842ce68-8353-4af7-9ed9-5e1a8e856f39",
    "outputId": "907fbc15-5088-4658-e526-f6f828fea29a"
   },
   "outputs": [],
   "source": [
    "linkInd=\"https://github.com/CienciaDeDatosEspacial/dataSets/raw/refs/heads/main/WORLD/worldindicators.json\"\n",
    "indicators=gpd.read_file(linkInd)\n",
    "indicators.head()"
   ]
  },
  {
   "cell_type": "markdown",
   "id": "Rto2Jyoz3vcm",
   "metadata": {
    "id": "Rto2Jyoz3vcm"
   },
   "source": [
    "You can compute the mean of the countries by region, using a DF approach like this:"
   ]
  },
  {
   "cell_type": "code",
   "execution_count": null,
   "id": "O3VGN7S81s3B",
   "metadata": {
    "colab": {
     "base_uri": "https://localhost:8080/",
     "height": 394
    },
    "id": "O3VGN7S81s3B",
    "outputId": "d8d30f70-5d4d-4425-da7a-a08b05906e72"
   },
   "outputs": [],
   "source": [
    "indicators.groupby('region').agg({'fragility':'mean'})"
   ]
  },
  {
   "cell_type": "markdown",
   "id": "Vk8B5uRC0mVX",
   "metadata": {
    "id": "Vk8B5uRC0mVX"
   },
   "source": [
    "\n",
    "The RESULT is just data, you see no spatial information. It got lost.\n",
    "\n",
    "The appropriate operation to conserve spatial information is **Dissolve**:"
   ]
  },
  {
   "cell_type": "code",
   "execution_count": null,
   "id": "794f3048-257d-4193-89d0-deda71523b9c",
   "metadata": {
    "colab": {
     "base_uri": "https://localhost:8080/",
     "height": 363
    },
    "id": "794f3048-257d-4193-89d0-deda71523b9c",
    "outputId": "80383224-82f9-4082-d7b0-dfb8ce032ab0"
   },
   "outputs": [],
   "source": [
    "indicatorsByRegion=indicators.dissolve(\n",
    "     by=\"region\",\n",
    "     aggfunc={\n",
    "         \"fragility\": [\"mean\"]},as_index=False, grid_size=0.1\n",
    " )\n",
    "\n",
    "## see the spatial info\n",
    "indicatorsByRegion"
   ]
  },
  {
   "cell_type": "markdown",
   "id": "ce73aadb-aaad-458f-abf1-dc24be193949",
   "metadata": {
    "id": "ce73aadb-aaad-458f-abf1-dc24be193949"
   },
   "source": [
    "Without renaming, you can request a choropleth:"
   ]
  },
  {
   "cell_type": "code",
   "execution_count": null,
   "id": "-c3sNkIr4ehl",
   "metadata": {
    "id": "-c3sNkIr4ehl"
   },
   "outputs": [],
   "source": [
    "# !pip install mapclassify"
   ]
  },
  {
   "cell_type": "code",
   "execution_count": null,
   "id": "509d432c-35bb-48c2-9365-02b6aa6227ee",
   "metadata": {
    "colab": {
     "base_uri": "https://localhost:8080/",
     "height": 540
    },
    "id": "509d432c-35bb-48c2-9365-02b6aa6227ee",
    "outputId": "6ee2ef0e-67b7-43c0-a111-1e9bc11a891e"
   },
   "outputs": [],
   "source": [
    "indicatorsByRegion.plot(column =('fragility', 'mean'),scheme='quantiles', cmap='OrRd_r',\n",
    "                        legend=True,\n",
    "                        legend_kwds={\"title\": \"Fragility\",'loc': 'lower left'},\n",
    "                        edgecolor='black',linewidth=0.2,\n",
    "                        figsize=(15, 10))"
   ]
  },
  {
   "cell_type": "markdown",
   "id": "79bf34fd-aba5-4649-82aa-ede86b29ab40",
   "metadata": {},
   "source": [
    "Keep in mind that the combining of objects via UNION_ALL and DISSOLVE are destructive, we can not undo them. We have operations like EXPLODE that work in the reverse direction (splitting) but even those can not undo the output of UNION_ALL and DISSOLVE. Always preserve your original GeoDataFrame before using these operations, as they permanently alter your data in ways that cannot be reversed."
   ]
  },
  {
   "cell_type": "code",
   "execution_count": null,
   "id": "9cb4c3da-cd7c-4582-8381-d622968e551e",
   "metadata": {},
   "outputs": [],
   "source": [
    "# Italy, for example is a multipolygon\n",
    "countries[countries.COUNTRY=='Italy']"
   ]
  },
  {
   "cell_type": "code",
   "execution_count": null,
   "id": "2c8a8ea0-4bd1-4ac7-8749-58e3c25bdf16",
   "metadata": {},
   "outputs": [],
   "source": [
    "countries[countries.COUNTRY=='Italy'].plot()"
   ]
  },
  {
   "cell_type": "code",
   "execution_count": null,
   "id": "add0087b-e23c-45ec-8fd6-bdac79440e3a",
   "metadata": {},
   "outputs": [],
   "source": [
    "# here the mainland is separated from Sardinia, and Sicily\n",
    "countries[countries.COUNTRY=='Italy'].explode()"
   ]
  },
  {
   "cell_type": "markdown",
   "id": "29bdb1b3",
   "metadata": {
    "id": "29bdb1b3"
   },
   "source": [
    "_____________\n",
    "\n",
    "\n",
    "<a class=\"anchor\" id=\"4\"></a>\n",
    "\n",
    "## II. The convex hull\n",
    "\n",
    "Some time you may have the need to create a polygon that serves as an envelope to a set of points.\n",
    "\n",
    "For this example, let me keep the large airports:"
   ]
  },
  {
   "cell_type": "code",
   "execution_count": null,
   "id": "2649d471",
   "metadata": {
    "colab": {
     "base_uri": "https://localhost:8080/",
     "height": 321
    },
    "id": "2649d471",
    "outputId": "57a518e6-c0c3-4238-99aa-67cd6b28c7d7"
   },
   "outputs": [],
   "source": [
    "# just the union\n",
    "airports_5880=gpd.read_file(LinkBrazil,layer='airports')\n",
    "large_airport=airports_5880[airports_5880.kind=='large_airport']\n",
    "large_airport.plot()"
   ]
  },
  {
   "cell_type": "markdown",
   "id": "23333a76-766c-48e7-a8be-657570fce381",
   "metadata": {},
   "source": [
    "May I use now **convex_hull**?"
   ]
  },
  {
   "cell_type": "code",
   "execution_count": null,
   "id": "faff72a0-bfe2-450d-9d20-4e2e50403e40",
   "metadata": {},
   "outputs": [],
   "source": [
    "## you see no difference!!\n",
    "large_airport.convex_hull.plot()"
   ]
  },
  {
   "cell_type": "markdown",
   "id": "ebb360e8-59ed-4676-b86e-1799a2a4b4a0",
   "metadata": {},
   "source": [
    "The objects to be enveloped required to be **combined** previously: "
   ]
  },
  {
   "cell_type": "code",
   "execution_count": null,
   "id": "ce05689b-acde-4373-8b60-51ca6bc19c5b",
   "metadata": {
    "colab": {
     "base_uri": "https://localhost:8080/",
     "height": 321
    },
    "id": "ce05689b-acde-4373-8b60-51ca6bc19c5b",
    "outputId": "aa1f67e2-f663-4441-9dca-cf0d80df294a"
   },
   "outputs": [],
   "source": [
    "# hull of the union\n",
    "large_airport.union_all().convex_hull"
   ]
  },
  {
   "cell_type": "markdown",
   "id": "d5a06f35-93ae-47ef-acd4-d443a5211d93",
   "metadata": {},
   "source": [
    "We got:"
   ]
  },
  {
   "cell_type": "code",
   "execution_count": null,
   "id": "3863963a-8f59-4e5b-a772-6af682d683e6",
   "metadata": {},
   "outputs": [],
   "source": [
    "# this geometry not a GeoDF...yet\n",
    "type(large_airport.union_all().convex_hull)"
   ]
  },
  {
   "cell_type": "markdown",
   "id": "46a0e7b3",
   "metadata": {
    "id": "46a0e7b3"
   },
   "source": [
    "Let's turn this geometry into a GDF:"
   ]
  },
  {
   "cell_type": "code",
   "execution_count": null,
   "id": "14037793-1df7-4dfa-8438-7dc7734580fe",
   "metadata": {
    "colab": {
     "base_uri": "https://localhost:8080/",
     "height": 89
    },
    "id": "14037793-1df7-4dfa-8438-7dc7734580fe",
    "outputId": "735cf3a6-19d2-458d-9c8e-80439331d36a"
   },
   "outputs": [],
   "source": [
    "LargeAirport_hull= gpd.GeoDataFrame(index=[0],\n",
    "                                    crs=large_airport.crs,\n",
    "                                    geometry=[large_airport.union_all().convex_hull])\n",
    "LargeAirport_hull['name']='large airports hull' # optional\n",
    "\n",
    "# then\n",
    "\n",
    "LargeAirport_hull"
   ]
  },
  {
   "cell_type": "markdown",
   "id": "c67c1b31",
   "metadata": {
    "id": "c67c1b31"
   },
   "source": [
    "Let's use the GDF in plotting:"
   ]
  },
  {
   "cell_type": "code",
   "execution_count": null,
   "id": "e73b691b",
   "metadata": {
    "colab": {
     "base_uri": "https://localhost:8080/",
     "height": 481
    },
    "id": "e73b691b",
    "outputId": "d123e0e6-7073-4d2a-8579-ec6a116b7ab1"
   },
   "outputs": [],
   "source": [
    "brazil_5880=gpd.read_file(LinkBrazil,layer='country')\n",
    "base=brazil_5880.plot(facecolor='yellow')\n",
    "large_airport.plot(ax=base)\n",
    "LargeAirport_hull.plot(ax=base,facecolor='green',\n",
    "                       edgecolor='white',alpha=0.4,\n",
    "                       hatch='X')"
   ]
  },
  {
   "cell_type": "markdown",
   "id": "ac22811f-889b-4373-b1b6-43bce73ddedb",
   "metadata": {},
   "source": [
    "You can get a convex hull of lines or polygons:"
   ]
  },
  {
   "cell_type": "code",
   "execution_count": null,
   "id": "92625b08-1aa7-44c9-9039-efe74eedb822",
   "metadata": {},
   "outputs": [],
   "source": [
    "riversBrazil_clipped.union_all().convex_hull"
   ]
  },
  {
   "cell_type": "markdown",
   "id": "9bbf2601-c6e2-4d1c-9ef5-9fa1d624c949",
   "metadata": {},
   "source": [
    "You can use it for dissolved polygons:"
   ]
  },
  {
   "cell_type": "code",
   "execution_count": null,
   "id": "9f17e4f4-35bd-49ef-a9b1-8dfd2b67f893",
   "metadata": {},
   "outputs": [],
   "source": [
    "MinasGerais_dissolve.plot()"
   ]
  },
  {
   "cell_type": "code",
   "execution_count": null,
   "id": "dd1d98d6-9339-4d5e-99b5-446512743321",
   "metadata": {},
   "outputs": [],
   "source": [
    "#then\n",
    "MinasGerais_dissolve.convex_hull.plot()"
   ]
  },
  {
   "cell_type": "markdown",
   "id": "d6e203c9-24c0-43db-a1f5-4ec14520721e",
   "metadata": {},
   "source": [
    "Remember that **union_all** and **dissolve()** give different outputs:"
   ]
  },
  {
   "cell_type": "code",
   "execution_count": null,
   "id": "6060e527-4dad-4ac3-a818-c155f5d71a04",
   "metadata": {},
   "outputs": [],
   "source": [
    "# you got a series, not just a geometry \n",
    "type(MinasGerais_dissolve.convex_hull)"
   ]
  },
  {
   "cell_type": "code",
   "execution_count": null,
   "id": "24d5a6db-cb27-4eea-a14d-b4e07988d855",
   "metadata": {},
   "outputs": [],
   "source": [
    "# a simple \"to_frame\" does the job\n",
    "MinasGerais_dissolve.convex_hull.to_frame()"
   ]
  },
  {
   "cell_type": "code",
   "execution_count": null,
   "id": "7f564e4c-1e25-4965-9b8c-9a086d720c77",
   "metadata": {},
   "outputs": [],
   "source": [
    "# more details\n",
    "MinasGerais_hull=MinasGerais_dissolve.convex_hull.to_frame()\n",
    "MinasGerais_hull[\"name\"]=\"Minas Gerais\"\n",
    "MinasGerais_hull.rename(columns={0:\"geometry\"})\n",
    "MinasGerais_hull\n",
    "                        "
   ]
  },
  {
   "cell_type": "code",
   "execution_count": null,
   "id": "2f6f5883-3ca6-468c-9127-d3afefdf210a",
   "metadata": {},
   "outputs": [],
   "source": [
    "#noticed the crs was inherired\n",
    "MinasGerais_hull.crs"
   ]
  },
  {
   "cell_type": "markdown",
   "id": "a219e942-aaca-41f5-a2c9-e043bfd592f3",
   "metadata": {},
   "source": [
    "You need the union/dissolve to avoid that a hull were created  for each row (polygon here), see:"
   ]
  },
  {
   "cell_type": "code",
   "execution_count": null,
   "id": "ba946bf6-cf6e-4e2b-a93b-c810c28a1736",
   "metadata": {},
   "outputs": [],
   "source": [
    "#original not COMBINED:\n",
    "Brazil_adm1_diss.plot(edgecolor=\"yellow\")"
   ]
  },
  {
   "cell_type": "code",
   "execution_count": null,
   "id": "3cce9e36-b924-40cf-9a73-2d91d227db5f",
   "metadata": {},
   "outputs": [],
   "source": [
    "# hull of Non combined\n",
    "Brazil_adm1_diss.convex_hull.plot(edgecolor=\"yellow\")"
   ]
  },
  {
   "cell_type": "code",
   "execution_count": null,
   "id": "840623f3-90ab-4130-b5f9-3a3e32da2b4a",
   "metadata": {},
   "outputs": [],
   "source": [
    "# the hull of Brazil\n",
    "Brazil_adm1_diss.dissolve().convex_hull.plot(edgecolor=\"yellow\")"
   ]
  },
  {
   "cell_type": "markdown",
   "id": "Cjc9MDEdB_Go",
   "metadata": {
    "id": "Cjc9MDEdB_Go"
   },
   "source": [
    "## III. The Buffer\n",
    "\n",
    "The buffer will create a polygon that follows the same shape of the original vector (line, polygon, point).\n",
    "\n",
    "Here, from the last polygon dissolved, we create a buffer (50,000 mts):"
   ]
  },
  {
   "cell_type": "code",
   "execution_count": null,
   "id": "08d4a0f0-46ff-49e9-b1f8-6b1d9aec1a80",
   "metadata": {},
   "outputs": [],
   "source": [
    "Brazil_adm1_diss.dissolve().buffer(50000).plot(facecolor=\"yellow\")"
   ]
  },
  {
   "cell_type": "code",
   "execution_count": null,
   "id": "5785bcbc-7700-412a-a404-b062a70270d1",
   "metadata": {},
   "outputs": [],
   "source": [
    "#you will see the buffer clearer now\n",
    "\n",
    "base=Brazil_adm1_diss.dissolve().buffer(50000).plot(facecolor=\"yellow\")\n",
    "Brazil_adm1_diss.dissolve().plot(ax=base)"
   ]
  },
  {
   "cell_type": "markdown",
   "id": "05d55225-89c4-4ffc-88da-34c8b76a8bfc",
   "metadata": {},
   "source": [
    "Let me buffer the Brazil rivers:"
   ]
  },
  {
   "cell_type": "code",
   "execution_count": null,
   "id": "b9dXwRtkCDAp",
   "metadata": {
    "colab": {
     "base_uri": "https://localhost:8080/",
     "height": 448
    },
    "id": "b9dXwRtkCDAp",
    "outputId": "96809c19-6d72-4709-b320-7a14705c7471"
   },
   "outputs": [],
   "source": [
    "# this is the original\n",
    "riversBrazil_clipped.plot()"
   ]
  },
  {
   "cell_type": "markdown",
   "id": "UQWZpvMwGEFm",
   "metadata": {
    "id": "UQWZpvMwGEFm"
   },
   "source": [
    "But, verify crs as we are going to use distances:"
   ]
  },
  {
   "cell_type": "code",
   "execution_count": null,
   "id": "OhNjrHJ3CMDs",
   "metadata": {
    "colab": {
     "base_uri": "https://localhost:8080/"
    },
    "id": "OhNjrHJ3CMDs",
    "outputId": "0702d280-ae78-48e6-8d47-dee4680c3ff7"
   },
   "outputs": [],
   "source": [
    "riversBrazil_clipped.crs"
   ]
  },
  {
   "cell_type": "markdown",
   "id": "y-b6jS3lGi3M",
   "metadata": {
    "id": "y-b6jS3lGi3M"
   },
   "source": [
    "Let's reproject:"
   ]
  },
  {
   "cell_type": "code",
   "execution_count": null,
   "id": "f7qwplLMDbz6",
   "metadata": {
    "id": "f7qwplLMDbz6"
   },
   "outputs": [],
   "source": [
    "riversBrazil_5880=riversBrazil_clipped.copy()\n",
    "riversBrazil_5880 = riversBrazil_5880.to_crs('EPSG:5880')"
   ]
  },
  {
   "cell_type": "markdown",
   "id": "tvarDeceGlbw",
   "metadata": {
    "id": "tvarDeceGlbw"
   },
   "source": [
    "Now I can use the rivers to create a buffer of 50000 meters:"
   ]
  },
  {
   "cell_type": "code",
   "execution_count": null,
   "id": "y8q7Zx6EDpOZ",
   "metadata": {
    "colab": {
     "base_uri": "https://localhost:8080/",
     "height": 481
    },
    "id": "y8q7Zx6EDpOZ",
    "outputId": "f1a8c25a-0aba-4b72-8887-cfdd61d2cc37"
   },
   "outputs": [],
   "source": [
    "# 50000 at each side (radius)\n",
    "riversBrazil_5880.buffer(50000).plot(facecolor='yellow', edgecolor='black',linewidth=0.2)"
   ]
  },
  {
   "cell_type": "markdown",
   "id": "7ab86179-3355-4d1e-9b1d-6f7b20e9a0e0",
   "metadata": {},
   "source": [
    "The resulting buffer is:"
   ]
  },
  {
   "cell_type": "code",
   "execution_count": null,
   "id": "fcfbddcb-3137-480f-8187-d037e332c7ab",
   "metadata": {},
   "outputs": [],
   "source": [
    "type(riversBrazil_5880.buffer(50000))"
   ]
  },
  {
   "cell_type": "markdown",
   "id": "Kof-yyMHHfGA",
   "metadata": {
    "id": "Kof-yyMHHfGA"
   },
   "source": [
    "Then:"
   ]
  },
  {
   "cell_type": "code",
   "execution_count": null,
   "id": "5P8nF3cYEDdV",
   "metadata": {
    "colab": {
     "base_uri": "https://localhost:8080/",
     "height": 481
    },
    "id": "5P8nF3cYEDdV",
    "outputId": "f43f5902-3d68-43b6-fa35-d60552053abb"
   },
   "outputs": [],
   "source": [
    "base=riversBrazil_5880.buffer(50000).plot(facecolor='yellow',edgecolor='black',linewidth=0.2)\n",
    "riversBrazil_5880.plot(ax=base)"
   ]
  },
  {
   "cell_type": "markdown",
   "id": "bd7ed969-2e21-471e-928f-6c0be6ddb562",
   "metadata": {},
   "source": [
    "notice:"
   ]
  },
  {
   "cell_type": "code",
   "execution_count": null,
   "id": "cac66485-04fb-4c60-968f-4e97ffce2d00",
   "metadata": {},
   "outputs": [],
   "source": [
    "riv_buf_right = riversBrazil_5880.buffer(distance = 50000, single_sided = True)\n",
    "riv_buf_left = riversBrazil_5880.buffer(distance = -25000, single_sided = True)\n",
    "\n",
    "base =riv_buf_right.plot(color='green')\n",
    "riv_buf_left.plot(ax=base, color='purple')"
   ]
  },
  {
   "cell_type": "markdown",
   "id": "2769b216-46b0-4ef8-9315-3d6a7abf7489",
   "metadata": {},
   "source": [
    "Let me save the rivers reprojected in a JSON file:"
   ]
  },
  {
   "cell_type": "code",
   "execution_count": null,
   "id": "3a76bff7-7d57-430e-acc9-a5c78bf38b06",
   "metadata": {},
   "outputs": [],
   "source": [
    "riversBrazil_5880.to_file(\"riversBrazil_5880.geojson\", driver=\"GeoJSON\")"
   ]
  },
  {
   "cell_type": "markdown",
   "id": "6852f4a7-24bb-4540-9324-bf9f67c54637",
   "metadata": {
    "id": "6852f4a7-24bb-4540-9324-bf9f67c54637"
   },
   "source": [
    "\n",
    "_____________\n",
    "\n",
    "<a class=\"anchor\" id=\"5\"></a>\n",
    "# BINARY Operations: Spatial Overlay\n",
    "\n",
    "We might need to create or find some geometries from the geometries we already have. Using a set theory approach, we will see the use of _intersection_, _union_, _difference_, and _symmetric difference_.\n",
    "\n",
    "Let me first divide Brazil using its centroid:"
   ]
  },
  {
   "cell_type": "code",
   "execution_count": null,
   "id": "3c2e9f53-161c-4688-a4ed-8beffd20c8e7",
   "metadata": {},
   "outputs": [],
   "source": [
    "# coordinates\n",
    "centroidX,centroidY=brazil_5880.centroid.x.values[0],brazil_5880.centroid.y.values[0]"
   ]
  },
  {
   "cell_type": "code",
   "execution_count": null,
   "id": "f1777c28-1f89-47dd-b64b-e6340990ec37",
   "metadata": {},
   "outputs": [],
   "source": [
    "brazil_states=gpd.read_file(LinkBrazil,layer='states')"
   ]
  },
  {
   "cell_type": "code",
   "execution_count": null,
   "id": "cdfa3f8b-c244-4593-9b25-f2fc5415f692",
   "metadata": {},
   "outputs": [],
   "source": [
    "# the north\n",
    "N_brazil=brazil_states.cx[:,centroidY:]\n",
    "# the south\n",
    "S_brazil=brazil_states.cx[:,:centroidY]\n",
    "# the west\n",
    "W_brazil=brazil_states.cx[:centroidX,:]\n",
    "# the east\n",
    "E_brazil=brazil_states.cx[centroidX:,:]"
   ]
  },
  {
   "cell_type": "code",
   "execution_count": null,
   "id": "5b9c5caf-9e85-4462-b529-89784ecad92c",
   "metadata": {},
   "outputs": [],
   "source": [
    "N_brazil"
   ]
  },
  {
   "cell_type": "code",
   "execution_count": null,
   "id": "1a8b28f5-aba3-4ea9-abbb-6d80f0480fbe",
   "metadata": {},
   "outputs": [],
   "source": [
    "S_brazil"
   ]
  },
  {
   "cell_type": "code",
   "execution_count": null,
   "id": "7a5a27d5-7117-43a5-bf61-6542de99e280",
   "metadata": {
    "colab": {
     "base_uri": "https://localhost:8080/",
     "height": 481
    },
    "id": "7a5a27d5-7117-43a5-bf61-6542de99e280",
    "outputId": "efbce584-091a-4ec2-9724-089756d5decf"
   },
   "outputs": [],
   "source": [
    "base= N_brazil.plot(facecolor='yellow', edgecolor='black',linewidth=0.2, alpha=0.6)\n",
    "S_brazil.plot(facecolor='grey', edgecolor='black',linewidth=0.2,ax=base, alpha=0.4)"
   ]
  },
  {
   "cell_type": "code",
   "execution_count": null,
   "id": "bf1d298a-325d-4996-8fa0-4cbd48471b25",
   "metadata": {},
   "outputs": [],
   "source": [
    "set(S_brazil.ADM1_PT) & set(N_brazil.ADM1_PT)"
   ]
  },
  {
   "cell_type": "code",
   "execution_count": null,
   "id": "f6c71c71-f9d1-4a3d-b03e-d3a492ddb2e7",
   "metadata": {},
   "outputs": [],
   "source": [
    "set(E_brazil.ADM1_PT) & set(W_brazil.ADM1_PT)"
   ]
  },
  {
   "cell_type": "code",
   "execution_count": null,
   "id": "1e119335-f1d0-42fb-8c7a-bcd5f0231578",
   "metadata": {
    "colab": {
     "base_uri": "https://localhost:8080/",
     "height": 481
    },
    "id": "1e119335-f1d0-42fb-8c7a-bcd5f0231578",
    "outputId": "84460d11-0d8a-4259-b753-b07999c6feef"
   },
   "outputs": [],
   "source": [
    "base=E_brazil.plot(facecolor='yellow', edgecolor='black',linewidth=0.2, alpha=0.6)\n",
    "W_brazil.plot(facecolor='grey', edgecolor='black',linewidth=0.2,ax=base, alpha=0.4)"
   ]
  },
  {
   "cell_type": "markdown",
   "id": "b751684b-270f-4b3a-9b7d-d51ae7f2b641",
   "metadata": {
    "id": "b751684b-270f-4b3a-9b7d-d51ae7f2b641"
   },
   "source": [
    "## Intersection\n",
    "\n",
    "We keep what is common between GeoDFs:"
   ]
  },
  {
   "cell_type": "code",
   "execution_count": null,
   "id": "b6517bb9-b20a-46f9-ba77-d8a0f120f97c",
   "metadata": {
    "colab": {
     "base_uri": "https://localhost:8080/",
     "height": 163
    },
    "id": "b6517bb9-b20a-46f9-ba77-d8a0f120f97c",
    "outputId": "7a93953c-3c9c-4d00-8142-1f05532068e0"
   },
   "outputs": [],
   "source": [
    "NS_brazil=N_brazil.overlay(S_brazil, how=\"intersection\",keep_geom_type=True)\n",
    "# see results\n",
    "NS_brazil"
   ]
  },
  {
   "cell_type": "markdown",
   "id": "539a5c97-abc2-4368-8831-5eb93f2a8e15",
   "metadata": {},
   "source": [
    "Notice the intersection was not clean, you have three more polygons:"
   ]
  },
  {
   "cell_type": "code",
   "execution_count": null,
   "id": "b977c127-d413-4d2f-ac97-1de1b0d97f05",
   "metadata": {},
   "outputs": [],
   "source": [
    "NS_brazil[NS_brazil.ADM1_PT_1!= NS_brazil.ADM1_PT_2]"
   ]
  },
  {
   "cell_type": "markdown",
   "id": "ddb5e74e-2a4a-4b97-9476-ad296465cd09",
   "metadata": {},
   "source": [
    "This is the amount of area that is in fact a topological problem:"
   ]
  },
  {
   "cell_type": "code",
   "execution_count": null,
   "id": "ed29af30-f7b1-4fb2-a48e-e76ca3d242a0",
   "metadata": {},
   "outputs": [],
   "source": [
    "NS_brazil[NS_brazil.ADM1_PT_1!= NS_brazil.ADM1_PT_2].geometry.area.sum()"
   ]
  },
  {
   "cell_type": "markdown",
   "id": "ba01405e-dec9-4709-8eee-1256e8df371e",
   "metadata": {},
   "source": [
    "This represents the area with topologically valid boundaries:"
   ]
  },
  {
   "cell_type": "code",
   "execution_count": null,
   "id": "4bf225d6-3b98-4650-9c36-558996b7613c",
   "metadata": {},
   "outputs": [],
   "source": [
    "NS_brazil[NS_brazil.ADM1_PT_1== NS_brazil.ADM1_PT_2].geometry.area.sum()"
   ]
  },
  {
   "cell_type": "markdown",
   "id": "c5c03087-f4a6-4870-9ef7-19ea6ccc3710",
   "metadata": {},
   "source": [
    "A way to measure the share of the low quality:"
   ]
  },
  {
   "cell_type": "code",
   "execution_count": null,
   "id": "1fb79b39-3c17-42c0-91f6-f9b5056cbeb7",
   "metadata": {},
   "outputs": [],
   "source": [
    "NS_brazil[NS_brazil.ADM1_PT_1!= NS_brazil.ADM1_PT_2].geometry.area.sum()/  \\\n",
    "NS_brazil[NS_brazil.ADM1_PT_1== NS_brazil.ADM1_PT_2].geometry.area.sum() #continues from above"
   ]
  },
  {
   "cell_type": "markdown",
   "id": "8b8aad96-b3f9-4c25-9f20-83ce699d763a",
   "metadata": {},
   "source": [
    "So, spatial overlay operations do their best to give you true results; but unfortunately, as the quality of the sources is not perfect, you may get messy results. It is our job to detect and make decisions. Let's keep two GeoDF, one with the unperfect result, and another with the true output."
   ]
  },
  {
   "cell_type": "code",
   "execution_count": null,
   "id": "333abaf6-0a6e-4f87-9b66-d83ec8321fac",
   "metadata": {},
   "outputs": [],
   "source": [
    "NS_brazil_messy=NS_brazil.copy()\n",
    "NS_brazil=NS_brazil[NS_brazil.ADM1_PT_1== NS_brazil.ADM1_PT_2]"
   ]
  },
  {
   "cell_type": "markdown",
   "id": "63f0b701-618d-4090-a8aa-ea90d45930bc",
   "metadata": {},
   "source": [
    "This should be what we expected to see:"
   ]
  },
  {
   "cell_type": "code",
   "execution_count": null,
   "id": "7effbb8f-183e-4683-8466-619ecc5f03e1",
   "metadata": {},
   "outputs": [],
   "source": [
    "NS_brazil"
   ]
  },
  {
   "cell_type": "markdown",
   "id": "f2d4ee19-1074-4eb2-8b79-4405f4d551fb",
   "metadata": {},
   "source": [
    "The clean data has minor things to improve, delete redundant columns, and reset the index so they are a correlative sequence. "
   ]
  },
  {
   "cell_type": "code",
   "execution_count": null,
   "id": "144f3447-84a7-4a04-94e2-0e0e386946a2",
   "metadata": {},
   "outputs": [],
   "source": [
    "# avoid redundancy\n",
    "keep=['ADM0_EN_1','ADM1_PT_1','geometry']\n",
    "NS_brazil=NS_brazil.loc[:,keep]\n",
    "\n",
    "# reset for correlative sequence\n",
    "NS_brazil.reset_index(drop=True, inplace=True)"
   ]
  },
  {
   "cell_type": "markdown",
   "id": "81d97f1d-fa30-4793-8094-18e0573fa9b8",
   "metadata": {},
   "source": [
    "Based on the previous case, we may expect a similar situation here:"
   ]
  },
  {
   "cell_type": "code",
   "execution_count": null,
   "id": "a65bd362-ddde-4d7d-98c7-151d7a1d1b0b",
   "metadata": {
    "colab": {
     "base_uri": "https://localhost:8080/",
     "height": 481
    },
    "id": "a65bd362-ddde-4d7d-98c7-151d7a1d1b0b",
    "outputId": "6dc90a38-dab6-41f7-84c3-00d2701b9d18"
   },
   "outputs": [],
   "source": [
    "# keeping the overlay\n",
    "WE_brazil=W_brazil.overlay(E_brazil, how=\"intersection\",keep_geom_type=True)\n",
    "WE_brazil[WE_brazil.ADM1_PT_1!= WE_brazil.ADM1_PT_2]"
   ]
  },
  {
   "cell_type": "markdown",
   "id": "a4eae87b-6570-4ea2-951b-97c3848dbafd",
   "metadata": {},
   "source": [
    "Let's do the same as before:"
   ]
  },
  {
   "cell_type": "code",
   "execution_count": null,
   "id": "bc2d266d-1469-4850-bd6e-548bd272c6b2",
   "metadata": {},
   "outputs": [],
   "source": [
    "WE_brazil_messy=WE_brazil.copy()\n",
    "WE_brazil=WE_brazil[WE_brazil.ADM1_PT_1== WE_brazil.ADM1_PT_2]\n",
    "\n",
    "keep=['ADM0_EN_1','ADM1_PT_1','geometry']\n",
    "WE_brazil=WE_brazil.loc[:,keep]\n",
    "\n",
    "WE_brazil.reset_index(drop=True, inplace=True)"
   ]
  },
  {
   "cell_type": "markdown",
   "id": "ec14306e-6c6e-4759-88e0-66a02b4294ec",
   "metadata": {
    "id": "ec14306e-6c6e-4759-88e0-66a02b4294ec"
   },
   "source": [
    "## Union\n",
    "\n",
    "Different from UNION_ALL (which acts as DISSOLVE), here we will combine two GeoDFs. "
   ]
  },
  {
   "cell_type": "code",
   "execution_count": null,
   "id": "4bbcc6ab-975e-4e47-8a07-9ad723c68368",
   "metadata": {
    "colab": {
     "base_uri": "https://localhost:8080/"
    },
    "id": "4bbcc6ab-975e-4e47-8a07-9ad723c68368",
    "outputId": "327ebe28-14b9-4bbb-bcaa-c5bcb1861faa"
   },
   "outputs": [],
   "source": [
    "NS_brazil.info()"
   ]
  },
  {
   "cell_type": "code",
   "execution_count": null,
   "id": "c69c559c-987a-4335-b18c-bc9e0f9fea2b",
   "metadata": {
    "colab": {
     "base_uri": "https://localhost:8080/"
    },
    "id": "c69c559c-987a-4335-b18c-bc9e0f9fea2b",
    "outputId": "ac5add12-0b6c-4c83-c4c8-fa7b1a3011cf"
   },
   "outputs": [],
   "source": [
    "WE_brazil.info()"
   ]
  },
  {
   "cell_type": "code",
   "execution_count": null,
   "id": "5dfab57c-04e5-468d-b60a-0cc82ddeb1de",
   "metadata": {
    "colab": {
     "base_uri": "https://localhost:8080/",
     "height": 424
    },
    "id": "5dfab57c-04e5-468d-b60a-0cc82ddeb1de",
    "outputId": "bd796237-81bd-4a2e-8a18-c43a874113f5"
   },
   "outputs": [],
   "source": [
    "# now\n",
    "NS_brazil.overlay(WE_brazil,how=\"union\",keep_geom_type=True)"
   ]
  },
  {
   "cell_type": "markdown",
   "id": "4630ac7f-d8f5-4f98-b88b-4b3e201cdba3",
   "metadata": {
    "id": "4630ac7f-d8f5-4f98-b88b-4b3e201cdba3"
   },
   "source": [
    "As you see, geometries are fine, but not attributes. It is strictly NOT appending the GeoDFs:"
   ]
  },
  {
   "cell_type": "code",
   "execution_count": null,
   "id": "dd26202c-f697-4635-9596-5eed71dc777d",
   "metadata": {
    "colab": {
     "base_uri": "https://localhost:8080/",
     "height": 424
    },
    "id": "dd26202c-f697-4635-9596-5eed71dc777d",
    "outputId": "da553bed-30d2-4bac-86b5-e226bf954c03"
   },
   "outputs": [],
   "source": [
    "# appending\n",
    "import pandas as pd\n",
    "\n",
    "pd.concat([NS_brazil,WE_brazil],ignore_index=True).drop_duplicates(subset='geometry')"
   ]
  },
  {
   "cell_type": "markdown",
   "id": "2741107f-24c9-4dd0-bdd9-910a3666b61d",
   "metadata": {
    "id": "2741107f-24c9-4dd0-bdd9-910a3666b61d"
   },
   "source": [
    "Let me create an object to save the previous result:"
   ]
  },
  {
   "cell_type": "code",
   "execution_count": null,
   "id": "cc7b3bca-13b5-4bae-a431-3a23811f1a73",
   "metadata": {
    "colab": {
     "base_uri": "https://localhost:8080/",
     "height": 89
    },
    "id": "cc7b3bca-13b5-4bae-a431-3a23811f1a73",
    "outputId": "a5dc285e-ea40-4db4-8f69-9317ffb00fa5"
   },
   "outputs": [],
   "source": [
    "MidBrazil=pd.concat([NS_brazil,WE_brazil],ignore_index=True).drop_duplicates(subset='geometry').dissolve()\n",
    "MidBrazil"
   ]
  },
  {
   "cell_type": "code",
   "execution_count": null,
   "id": "df9d6897-4e84-4b6b-8a76-398b19985d49",
   "metadata": {
    "colab": {
     "base_uri": "https://localhost:8080/",
     "height": 89
    },
    "id": "df9d6897-4e84-4b6b-8a76-398b19985d49",
    "outputId": "e07d59fb-fe67-42d9-dd27-0d16d2b8ee21"
   },
   "outputs": [],
   "source": [
    "# some cleaning\n",
    "\n",
    "MidBrazil['region']='center'\n",
    "MidBrazil.rename(columns={'ADM0_EN_1':'country'},inplace=True)\n",
    "MidBrazil=MidBrazil.loc[:,['country','region','geometry']]\n",
    "\n",
    "MidBrazil"
   ]
  },
  {
   "cell_type": "code",
   "execution_count": null,
   "id": "7023d7a3-2b4f-4a0c-97d6-5e1ab524242a",
   "metadata": {},
   "outputs": [],
   "source": [
    "# see it\n",
    "base=brazil_5880.plot(facecolor='yellow')\n",
    "MidBrazil.plot(ax=base)"
   ]
  },
  {
   "cell_type": "markdown",
   "id": "bd80963c-3d9e-4708-af62-6d19149a6a4b",
   "metadata": {
    "id": "bd80963c-3d9e-4708-af62-6d19149a6a4b"
   },
   "source": [
    "## Difference\n",
    "\n",
    "Here, you keep what belongs to the GeoDF to left that is not in the GeoDF to the right:"
   ]
  },
  {
   "cell_type": "code",
   "execution_count": null,
   "id": "667a9eeb-dadb-4fcf-9c67-23ce0f6da08a",
   "metadata": {
    "colab": {
     "base_uri": "https://localhost:8080/",
     "height": 481
    },
    "id": "667a9eeb-dadb-4fcf-9c67-23ce0f6da08a",
    "outputId": "ca55f1ba-5263-4864-82ea-8c8643eccf05"
   },
   "outputs": [],
   "source": [
    "# we keep nothern states that are not in the 'S_brazil' region\n",
    "N_brazil.overlay(S_brazil, how='difference')"
   ]
  },
  {
   "cell_type": "markdown",
   "id": "796a135d-3c3b-4115-8c11-b9c001cc3476",
   "metadata": {},
   "source": [
    "We got a clean result. Let's plot it:"
   ]
  },
  {
   "cell_type": "code",
   "execution_count": null,
   "id": "0bc5fdd2-672b-4770-94ad-e886f7bb094a",
   "metadata": {},
   "outputs": [],
   "source": [
    "base=N_brazil.plot(color='yellow', edgecolor='black',alpha=0.1)\n",
    "N_brazil.overlay(S_brazil, how='difference').plot(ax=base)"
   ]
  },
  {
   "cell_type": "markdown",
   "id": "ae4cc49b-7302-424b-9dec-79dccb01122d",
   "metadata": {},
   "source": [
    "Keep in mind that **difference** is not commutative:"
   ]
  },
  {
   "cell_type": "code",
   "execution_count": null,
   "id": "3ed9cbaa-1036-4a76-935d-68c90210990d",
   "metadata": {},
   "outputs": [],
   "source": [
    "S_brazil.overlay(N_brazil, how='difference')"
   ]
  },
  {
   "cell_type": "code",
   "execution_count": null,
   "id": "74cf955a-71ff-4600-b4b9-256273357630",
   "metadata": {},
   "outputs": [],
   "source": [
    "base=N_brazil.plot(color='yellow', edgecolor='black',alpha=0.1)\n",
    "S_brazil.overlay(N_brazil, how='difference').plot(ax=base)"
   ]
  },
  {
   "cell_type": "markdown",
   "id": "8170b033-0707-43e8-b4ee-dca39e46f17a",
   "metadata": {
    "id": "8170b033-0707-43e8-b4ee-dca39e46f17a"
   },
   "source": [
    "## Symmetric Difference"
   ]
  },
  {
   "cell_type": "markdown",
   "id": "5f2728ec-f142-47a9-8de2-a65fef18680f",
   "metadata": {
    "id": "5f2728ec-f142-47a9-8de2-a65fef18680f"
   },
   "source": [
    "This is the opposite to *intersection*, you keep what is not in the intersection. Notice that this operation is commutative!"
   ]
  },
  {
   "cell_type": "code",
   "execution_count": null,
   "id": "1a3e81f0-3f80-4a88-98c7-5f6611c50cfe",
   "metadata": {
    "colab": {
     "base_uri": "https://localhost:8080/",
     "height": 481
    },
    "id": "1a3e81f0-3f80-4a88-98c7-5f6611c50cfe",
    "outputId": "6f74eff7-5d91-4ce8-9771-4a4d8de818fd"
   },
   "outputs": [],
   "source": [
    "N_brazil.overlay(S_brazil, how='symmetric_difference')"
   ]
  },
  {
   "cell_type": "markdown",
   "id": "2317badb-dae3-4e00-a7fa-de3a157fbe1c",
   "metadata": {},
   "source": [
    "This operation gave a clean result again. Let's plot it:"
   ]
  },
  {
   "cell_type": "code",
   "execution_count": null,
   "id": "6feddf7a-056a-42f7-9408-62fe691f5635",
   "metadata": {},
   "outputs": [],
   "source": [
    "N_brazil.overlay(S_brazil, how='symmetric_difference').plot()"
   ]
  },
  {
   "cell_type": "markdown",
   "id": "0845927b-a3a8-4109-bbd0-48c3b3783994",
   "metadata": {},
   "source": [
    "What if we split brazil in halves?"
   ]
  },
  {
   "cell_type": "code",
   "execution_count": null,
   "id": "29836215-ef95-4b71-8cfb-595ee8b5d878",
   "metadata": {},
   "outputs": [],
   "source": [
    "brazil_total=brazil_states.dissolve()\n",
    "bbox = brazil_total.total_bounds # the bounding box\n",
    "centroid_y = brazil_total.centroid.y.iloc[0] # the y of centroid\n",
    "\n",
    "minx, miny, maxx, maxy = bbox # the bounding box coordinates\n",
    "\n",
    "# new boxes\n",
    "north_bbox_tuple = (minx, centroid_y, maxx, maxy)\n",
    "south_bbox_tuple = (minx, miny, maxx, centroid_y)\n",
    "\n",
    "# split Brazil\n",
    "north_gdf = brazil_total.clip(north_bbox_tuple)\n",
    "south_gdf = brazil_total.clip(south_bbox_tuple)\n",
    "\n",
    "# Add region identifiers\n",
    "north_gdf['region'] = 'north'\n",
    "south_gdf['region'] = 'south'"
   ]
  },
  {
   "cell_type": "code",
   "execution_count": null,
   "id": "0efb46ca-e4f4-4a22-a509-b17eb4d22d5d",
   "metadata": {},
   "outputs": [],
   "source": [
    "base=north_gdf.plot(color='grey')\n",
    "south_gdf.plot(ax=base)"
   ]
  },
  {
   "cell_type": "markdown",
   "id": "5296d1f4-354d-4eab-be29-991c107502b2",
   "metadata": {},
   "source": [
    "Now, you can apply overlays and get portions of states:"
   ]
  },
  {
   "cell_type": "code",
   "execution_count": null,
   "id": "d680d9e2-d4fa-4e15-946e-91c19a764baa",
   "metadata": {},
   "outputs": [],
   "source": [
    "N_brazil.overlay(north_gdf, how='symmetric_difference',keep_geom_type=False).plot(color='grey')"
   ]
  },
  {
   "cell_type": "markdown",
   "id": "4a6e9327-bfa6-420a-8022-1a872a7437c3",
   "metadata": {},
   "source": [
    "Notice **keep_geom_type=False**. This operation may produce geometries other than polygons:\n"
   ]
  },
  {
   "cell_type": "code",
   "execution_count": null,
   "id": "57628e09-2438-4cd7-963d-a6b8db15a397",
   "metadata": {},
   "outputs": [],
   "source": [
    "N_brazil.overlay(north_gdf, how='symmetric_difference',keep_geom_type=False).geom_type"
   ]
  },
  {
   "cell_type": "markdown",
   "id": "d231153f-f5cb-4cc6-9b58-30c3e08e7b5c",
   "metadata": {},
   "source": [
    "Take a look:"
   ]
  },
  {
   "cell_type": "code",
   "execution_count": null,
   "id": "1c2a5eae-8428-40aa-b916-184c9ecc7121",
   "metadata": {
    "scrolled": true
   },
   "outputs": [],
   "source": [
    "N_brazil.overlay(north_gdf, how='symmetric_difference',keep_geom_type=False).explore()"
   ]
  },
  {
   "cell_type": "markdown",
   "id": "7caa0e58",
   "metadata": {
    "id": "7caa0e58"
   },
   "source": [
    "\n",
    "_____________\n",
    "\n",
    "<a class=\"anchor\" id=\"6\"></a>\n",
    "\n",
    "# Validity of Geometry\n",
    "\n",
    "Geometries are created in a way that some issues may appear, especially in (multi) polygons.\n",
    "Let's check if our recent maps on states and municipalities are valid:"
   ]
  },
  {
   "cell_type": "code",
   "execution_count": null,
   "id": "3a27c1ca",
   "metadata": {
    "colab": {
     "base_uri": "https://localhost:8080/",
     "height": 424
    },
    "id": "3a27c1ca",
    "outputId": "3ac8b3f8-eafb-438b-cf02-fb91d6748998"
   },
   "outputs": [],
   "source": [
    "# non valid\n",
    "MunisS_brazil[~MunisS_brazil.is_valid]"
   ]
  },
  {
   "cell_type": "code",
   "execution_count": null,
   "id": "ee29926a",
   "metadata": {
    "colab": {
     "base_uri": "https://localhost:8080/",
     "height": 481
    },
    "id": "ee29926a",
    "outputId": "02d6689b-8a2b-4788-9447-b9db3bac7413"
   },
   "outputs": [],
   "source": [
    "# see the invalid:\n",
    "MunisS_brazil[~MunisS_brazil.is_valid].plot()"
   ]
  },
  {
   "cell_type": "markdown",
   "id": "735abaa5",
   "metadata": {
    "id": "735abaa5"
   },
   "source": [
    "It is difficult to see what is wrong. Let's get some information:"
   ]
  },
  {
   "cell_type": "code",
   "execution_count": null,
   "id": "7c6591e0",
   "metadata": {
    "colab": {
     "base_uri": "https://localhost:8080/",
     "height": 458
    },
    "id": "7c6591e0",
    "outputId": "f5881f99-79d1-431f-e3ff-4e1fb9e613d4"
   },
   "outputs": [],
   "source": [
    "# what is wrong?\n",
    "\n",
    "from shapely.validation import explain_validity, make_valid\n",
    "\n",
    "explain_validity(MunisS_brazil[~MunisS_brazil.is_valid].geometry)"
   ]
  },
  {
   "cell_type": "code",
   "execution_count": null,
   "id": "6d90a783",
   "metadata": {
    "colab": {
     "base_uri": "https://localhost:8080/",
     "height": 285
    },
    "id": "6d90a783",
    "outputId": "1536397f-cd93-4d42-ce19-dc3bd7cd5dfe"
   },
   "outputs": [],
   "source": [
    "# varieties?\n",
    "MunisS_brazil['validity']=[x.split('[')[0] for x in MunisS_brazil.geometry.apply(lambda x: explain_validity(x))]\n",
    "MunisS_brazil['validity'].value_counts()"
   ]
  },
  {
   "cell_type": "code",
   "execution_count": null,
   "id": "d69f261b",
   "metadata": {
    "colab": {
     "base_uri": "https://localhost:8080/",
     "height": 142
    },
    "id": "d69f261b",
    "outputId": "fa739ed0-bd09-444b-cf31-555254c97afa"
   },
   "outputs": [],
   "source": [
    "# solving the issue:\n",
    "MunisS_brazil.drop(columns=['validity'],inplace=True)\n",
    "\n",
    "MunisS_brazil_valid=MunisS_brazil.copy()\n",
    "\n",
    "MunisS_brazil_valid['geometry'] = [make_valid(row)  if not row.is_valid else row for row in MunisS_brazil_valid['geometry'] ]\n",
    "#any invalid?\n",
    "MunisS_brazil_valid[~MunisS_brazil_valid.is_valid]"
   ]
  },
  {
   "cell_type": "markdown",
   "id": "cfa45bcf",
   "metadata": {
    "id": "cfa45bcf"
   },
   "source": [
    "The _solution_ we got may help for some advanced techniques, but may also give us some extra trouble. Notice that once geopandas solved the problem, you  have created **collections**:"
   ]
  },
  {
   "cell_type": "code",
   "execution_count": null,
   "id": "c072a9dc-411c-4d7d-a94b-0c2f2de9cf97",
   "metadata": {
    "colab": {
     "base_uri": "https://localhost:8080/",
     "height": 178
    },
    "id": "c072a9dc-411c-4d7d-a94b-0c2f2de9cf97",
    "outputId": "3f5c6824-39e4-4cbd-cd03-e0417184bae5"
   },
   "outputs": [],
   "source": [
    "pd.Series([type(x) for x in MunisS_brazil_valid.geometry]).value_counts()"
   ]
  },
  {
   "cell_type": "markdown",
   "id": "65x2T7riHonF",
   "metadata": {
    "id": "65x2T7riHonF"
   },
   "source": [
    "## Buffers and Validity\n",
    "\n",
    "The buffering process helps cleaning simple invalidities:"
   ]
  },
  {
   "cell_type": "code",
   "execution_count": null,
   "id": "PAj05ydv8_hF",
   "metadata": {
    "colab": {
     "base_uri": "https://localhost:8080/",
     "height": 53
    },
    "id": "PAj05ydv8_hF",
    "outputId": "16bb514d-4673-4b56-dab4-8f45c51535ad"
   },
   "outputs": [],
   "source": [
    "MunisS_brazil_valid=MunisS_brazil.copy()\n",
    "\n",
    "MunisS_brazil_valid['geometry'] = MunisS_brazil_valid['geometry'].buffer(0)\n",
    "\n",
    "#any invalid?\n",
    "MunisS_brazil_valid[~MunisS_brazil_valid.is_valid]"
   ]
  },
  {
   "cell_type": "markdown",
   "id": "RpsYAg9wH5cs",
   "metadata": {
    "id": "RpsYAg9wH5cs"
   },
   "source": [
    "Comparing with the previous result, this time you got no collections:"
   ]
  },
  {
   "cell_type": "code",
   "execution_count": null,
   "id": "xPlJE1L7FNdb",
   "metadata": {
    "colab": {
     "base_uri": "https://localhost:8080/",
     "height": 147
    },
    "id": "xPlJE1L7FNdb",
    "outputId": "3912168c-d9c2-44e9-82d4-e9cd99eeec4a"
   },
   "outputs": [],
   "source": [
    "# then:\n",
    "pd.Series([type(x) for x in MunisS_brazil_valid.geometry]).value_counts()"
   ]
  },
  {
   "cell_type": "markdown",
   "id": "zDnnoMc7ICYW",
   "metadata": {
    "id": "zDnnoMc7ICYW"
   },
   "source": [
    "This 'buffer trick' may not always work:"
   ]
  },
  {
   "cell_type": "code",
   "execution_count": null,
   "id": "-bOp4B4F9sDN",
   "metadata": {
    "colab": {
     "base_uri": "https://localhost:8080/",
     "height": 540
    },
    "id": "-bOp4B4F9sDN",
    "outputId": "cebf92a3-3962-434d-c5af-13d1f905cb4d"
   },
   "outputs": [],
   "source": [
    "# previously\n",
    "indicators.dissolve(\n",
    "     by=\"region\",\n",
    "     aggfunc={\n",
    "         \"fragility\": [\"mean\"]},as_index=False\n",
    " ).plot(column =('fragility', 'mean'),scheme='quantiles', cmap='OrRd_r',\n",
    "                        legend=True,\n",
    "                        legend_kwds={\"title\": \"Fragility\",'loc': 'lower left'},\n",
    "                        edgecolor='black',linewidth=0.2,\n",
    "                        figsize=(15, 10))"
   ]
  },
  {
   "cell_type": "markdown",
   "id": "G7eQNSJJIKl-",
   "metadata": {
    "id": "G7eQNSJJIKl-"
   },
   "source": [
    "Notice that AFRICA has some lines that should have dissappeared after dissolving, but you can still see some lines.\n",
    "\n",
    "We could try the buffer trick:"
   ]
  },
  {
   "cell_type": "code",
   "execution_count": null,
   "id": "TXpvyu_d9umU",
   "metadata": {
    "colab": {
     "base_uri": "https://localhost:8080/",
     "height": 540
    },
    "id": "TXpvyu_d9umU",
    "outputId": "a9ed632f-487c-488c-93cd-b918cb64422a"
   },
   "outputs": [],
   "source": [
    "indicators_valid=indicators.copy()\n",
    "indicators_valid['geometry'] = indicators_valid['geometry'].buffer(0)\n",
    "dissolved_gdf=indicators_valid.dissolve(\n",
    "     by=\"region\",\n",
    "     aggfunc={\n",
    "         \"fragility\": [\"mean\"]},as_index=False, grid_size=0.1\n",
    " )\n",
    "\n",
    "\n",
    "\n",
    "\n",
    "dissolved_gdf.plot(column =('fragility', 'mean'),scheme='quantiles', cmap='OrRd_r',\n",
    "                        legend=True,\n",
    "                        legend_kwds={\"title\": \"Fragility\",'loc': 'lower left'},\n",
    "                        edgecolor='black',linewidth=0.2,\n",
    "                        figsize=(15, 10))"
   ]
  },
  {
   "cell_type": "markdown",
   "id": "Ng_3aPjpIc6M",
   "metadata": {
    "id": "Ng_3aPjpIc6M"
   },
   "source": [
    "It did not work either. We may use a new functionality in GeoPandas's dissolve:"
   ]
  },
  {
   "cell_type": "code",
   "execution_count": null,
   "id": "oTved9a8-UH8",
   "metadata": {
    "colab": {
     "base_uri": "https://localhost:8080/",
     "height": 540
    },
    "id": "oTved9a8-UH8",
    "outputId": "66fc8de2-37c0-423c-d7ab-6b6ca85d99b2"
   },
   "outputs": [],
   "source": [
    "dissolved_gdf=indicators.dissolve(\n",
    "     by=\"region\",\n",
    "     aggfunc={\n",
    "         \"fragility\": [\"mean\"]},as_index=False, grid_size=0.1\n",
    " )\n",
    "\n",
    "\n",
    "\n",
    "\n",
    "dissolved_gdf.plot(column =('fragility', 'mean'),scheme='quantiles', cmap='OrRd_r',\n",
    "                        legend=True,\n",
    "                        legend_kwds={\"title\": \"Fragility\",'loc': 'lower left'},\n",
    "                        edgecolor='black',linewidth=0.2,\n",
    "                        figsize=(15, 10))"
   ]
  },
  {
   "cell_type": "markdown",
   "id": "rdsk7MTUItrn",
   "metadata": {
    "id": "rdsk7MTUItrn"
   },
   "source": [
    "Now, you do see a clean map."
   ]
  }
 ],
 "metadata": {
  "anaconda-cloud": {
   "attach-environment": true,
   "summary": "test"
  },
  "colab": {
   "provenance": []
  },
  "hide_input": false,
  "jupytext": {
   "cell_metadata_filter": "-all",
   "notebook_metadata_filter": "-all"
  },
  "kernelspec": {
   "display_name": "Python 3 (ipykernel)",
   "language": "python",
   "name": "python3"
  },
  "language_info": {
   "codemirror_mode": {
    "name": "ipython",
    "version": 3
   },
   "file_extension": ".py",
   "mimetype": "text/x-python",
   "name": "python",
   "nbconvert_exporter": "python",
   "pygments_lexer": "ipython3",
   "version": "3.11.13"
  },
  "toc-autonumbering": false
 },
 "nbformat": 4,
 "nbformat_minor": 5
}
